{
 "cells": [
  {
   "cell_type": "markdown",
   "metadata": {},
   "source": [
    "# Twitter"
   ]
  },
  {
   "cell_type": "code",
   "execution_count": 2,
   "metadata": {},
   "outputs": [
    {
     "name": "stderr",
     "output_type": "stream",
     "text": [
      "[nltk_data] Downloading package punkt to /Users/Roy/nltk_data...\n",
      "[nltk_data]   Package punkt is already up-to-date!\n",
      "[nltk_data] Downloading package vader_lexicon to\n",
      "[nltk_data]     /Users/Roy/nltk_data...\n",
      "[nltk_data]   Package vader_lexicon is already up-to-date!\n",
      "[nltk_data] Downloading package stopwords to /Users/Roy/nltk_data...\n",
      "[nltk_data]   Package stopwords is already up-to-date!\n"
     ]
    }
   ],
   "source": [
    "# Import required libraries\n",
    "import twint\n",
    "import nest_asyncio\n",
    "import numpy as np\n",
    "import pandas as pd\n",
    "import re\n",
    "import matplotlib.pyplot as plt\n",
    "\n",
    "# Yahoo API\n",
    "import yfinance as yf\n",
    "\n",
    "# NLP Packages\n",
    "import nltk\n",
    "from nltk.corpus import stopwords\n",
    "from nltk.sentiment.vader import SentimentIntensityAnalyzer\n",
    "from nltk.tokenize import word_tokenize\n",
    "from nltk.stem.porter import PorterStemmer\n",
    "\n",
    "# Bag of Words Model\n",
    "from sklearn.feature_extraction.text import CountVectorizer\n",
    "from sklearn.model_selection import train_test_split\n",
    "from sklearn.naive_bayes import GaussianNB\n",
    "from sklearn.metrics import classification_report, plot_confusion_matrix\n",
    "from sklearn.preprocessing import StandardScaler, MinMaxScaler\n",
    "\n",
    "\n",
    "\n",
    "nltk.download('punkt')\n",
    "nltk.download('vader_lexicon')\n",
    "nltk.download('stopwords')\n",
    "\n",
    "# This ensures the twint loop can run in jupyter notebook, no need to understand it\n",
    "nest_asyncio.apply()"
   ]
  },
  {
   "cell_type": "code",
   "execution_count": 2,
   "metadata": {},
   "outputs": [],
   "source": [
    "# Initialize stocks of interest\n",
    "# users = [\"elonmusk\", \"michaeljburry\"] # Elon Musk -> CEO of Tesla; Michael Burry -> Hedge Fund Manager\n",
    "tickers = [\"TSLA\", \"AAPL\"] # Tesla stock and Bitcoin in USD\n",
    "\n",
    "start_date = '2010-01-01'\n",
    "end_date = '2021-01-01'"
   ]
  },
  {
   "cell_type": "code",
   "execution_count": 3,
   "metadata": {},
   "outputs": [
    {
     "name": "stdout",
     "output_type": "stream",
     "text": [
      "[*********************100%***********************]  2 of 2 completed\n"
     ]
    },
    {
     "data": {
      "text/html": [
       "<div>\n",
       "<style scoped>\n",
       "    .dataframe tbody tr th:only-of-type {\n",
       "        vertical-align: middle;\n",
       "    }\n",
       "\n",
       "    .dataframe tbody tr th {\n",
       "        vertical-align: top;\n",
       "    }\n",
       "\n",
       "    .dataframe thead th {\n",
       "        text-align: right;\n",
       "    }\n",
       "</style>\n",
       "<table border=\"1\" class=\"dataframe\">\n",
       "  <thead>\n",
       "    <tr style=\"text-align: right;\">\n",
       "      <th></th>\n",
       "      <th>AAPL</th>\n",
       "      <th>TSLA</th>\n",
       "    </tr>\n",
       "    <tr>\n",
       "      <th>Date</th>\n",
       "      <th></th>\n",
       "      <th></th>\n",
       "    </tr>\n",
       "  </thead>\n",
       "  <tbody>\n",
       "    <tr>\n",
       "      <th>2010-06-29</th>\n",
       "      <td>7.880552</td>\n",
       "      <td>4.778</td>\n",
       "    </tr>\n",
       "    <tr>\n",
       "      <th>2010-06-30</th>\n",
       "      <td>7.737815</td>\n",
       "      <td>4.766</td>\n",
       "    </tr>\n",
       "    <tr>\n",
       "      <th>2010-07-01</th>\n",
       "      <td>7.643986</td>\n",
       "      <td>4.392</td>\n",
       "    </tr>\n",
       "    <tr>\n",
       "      <th>2010-07-02</th>\n",
       "      <td>7.596610</td>\n",
       "      <td>3.840</td>\n",
       "    </tr>\n",
       "    <tr>\n",
       "      <th>2010-07-06</th>\n",
       "      <td>7.648601</td>\n",
       "      <td>3.222</td>\n",
       "    </tr>\n",
       "  </tbody>\n",
       "</table>\n",
       "</div>"
      ],
      "text/plain": [
       "                AAPL   TSLA\n",
       "Date                       \n",
       "2010-06-29  7.880552  4.778\n",
       "2010-06-30  7.737815  4.766\n",
       "2010-07-01  7.643986  4.392\n",
       "2010-07-02  7.596610  3.840\n",
       "2010-07-06  7.648601  3.222"
      ]
     },
     "execution_count": 3,
     "metadata": {},
     "output_type": "execute_result"
    }
   ],
   "source": [
    "panel_data = yf.download(tickers=tickers, start=start_date, end=end_date)['Adj Close'].dropna(axis=0)\n",
    "panel_data.head()"
   ]
  },
  {
   "cell_type": "code",
   "execution_count": 4,
   "metadata": {},
   "outputs": [
    {
     "data": {
      "text/html": [
       "<div>\n",
       "<style scoped>\n",
       "    .dataframe tbody tr th:only-of-type {\n",
       "        vertical-align: middle;\n",
       "    }\n",
       "\n",
       "    .dataframe tbody tr th {\n",
       "        vertical-align: top;\n",
       "    }\n",
       "\n",
       "    .dataframe thead th {\n",
       "        text-align: right;\n",
       "    }\n",
       "</style>\n",
       "<table border=\"1\" class=\"dataframe\">\n",
       "  <thead>\n",
       "    <tr style=\"text-align: right;\">\n",
       "      <th></th>\n",
       "      <th>AAPL</th>\n",
       "      <th>TSLA</th>\n",
       "      <th>AAPL_pct_change</th>\n",
       "      <th>TSLA_pct_change</th>\n",
       "    </tr>\n",
       "    <tr>\n",
       "      <th>Date</th>\n",
       "      <th></th>\n",
       "      <th></th>\n",
       "      <th></th>\n",
       "      <th></th>\n",
       "    </tr>\n",
       "  </thead>\n",
       "  <tbody>\n",
       "    <tr>\n",
       "      <th>2010-06-30</th>\n",
       "      <td>7.737815</td>\n",
       "      <td>4.766</td>\n",
       "      <td>-0.018113</td>\n",
       "      <td>-0.002512</td>\n",
       "    </tr>\n",
       "    <tr>\n",
       "      <th>2010-07-01</th>\n",
       "      <td>7.643986</td>\n",
       "      <td>4.392</td>\n",
       "      <td>-0.012126</td>\n",
       "      <td>-0.078472</td>\n",
       "    </tr>\n",
       "    <tr>\n",
       "      <th>2010-07-02</th>\n",
       "      <td>7.596610</td>\n",
       "      <td>3.840</td>\n",
       "      <td>-0.006198</td>\n",
       "      <td>-0.125683</td>\n",
       "    </tr>\n",
       "    <tr>\n",
       "      <th>2010-07-06</th>\n",
       "      <td>7.648601</td>\n",
       "      <td>3.222</td>\n",
       "      <td>0.006844</td>\n",
       "      <td>-0.160938</td>\n",
       "    </tr>\n",
       "    <tr>\n",
       "      <th>2010-07-07</th>\n",
       "      <td>7.957460</td>\n",
       "      <td>3.160</td>\n",
       "      <td>0.040381</td>\n",
       "      <td>-0.019243</td>\n",
       "    </tr>\n",
       "  </tbody>\n",
       "</table>\n",
       "</div>"
      ],
      "text/plain": [
       "                AAPL   TSLA  AAPL_pct_change  TSLA_pct_change\n",
       "Date                                                         \n",
       "2010-06-30  7.737815  4.766        -0.018113        -0.002512\n",
       "2010-07-01  7.643986  4.392        -0.012126        -0.078472\n",
       "2010-07-02  7.596610  3.840        -0.006198        -0.125683\n",
       "2010-07-06  7.648601  3.222         0.006844        -0.160938\n",
       "2010-07-07  7.957460  3.160         0.040381        -0.019243"
      ]
     },
     "execution_count": 4,
     "metadata": {},
     "output_type": "execute_result"
    }
   ],
   "source": [
    "# obtain percentage change for each stock to use as the y variable in training\n",
    "panel_data['AAPL_pct_change'] = panel_data['AAPL'].pct_change()\n",
    "panel_data['TSLA_pct_change'] = panel_data['TSLA'].pct_change()\n",
    "\n",
    "#ignore first row due to NaN\n",
    "panel_data = panel_data.iloc[1:, :]\n",
    "panel_data.head()"
   ]
  },
  {
   "cell_type": "markdown",
   "metadata": {},
   "source": [
    "### TSLA"
   ]
  },
  {
   "cell_type": "code",
   "execution_count": 5,
   "metadata": {
    "tags": []
   },
   "outputs": [],
   "source": [
    "# # Use twint to grab tweets and put into pandas dataframe\n",
    "# c = twint.Config()\n",
    "\n",
    "# # set limitations of the parser\n",
    "# c.Limit = 100000\n",
    "# c.Lang = \"en\"\n",
    "\n",
    "# # Set time frame\n",
    "# c.Since = str(pd.to_datetime(panel_data.index.values[0])).split()[0]\n",
    "# c.Until = str(pd.to_datetime(panel_data.index.values[-1])).split()[0]\n",
    "\n",
    "# # Obtain pandas Dataframe\n",
    "# c.Pandas = True\n",
    "\n",
    "# # Search for TSLA posts\n",
    "# c.Search = \"#TSLA\"\n",
    "\n",
    "# # Scrape the user's twitter account\n",
    "# twint.run.Search(c)\n",
    "\n",
    "# # store in a dataframe\n",
    "# TSLA_DF = twint.storage.panda.Tweets_df"
   ]
  },
  {
   "cell_type": "markdown",
   "metadata": {},
   "source": [
    "### AAPL"
   ]
  },
  {
   "cell_type": "code",
   "execution_count": 6,
   "metadata": {
    "tags": []
   },
   "outputs": [],
   "source": [
    "# # Use twint to grab tweets and put into pandas dataframe\n",
    "# c = twint.Config()\n",
    "\n",
    "# # Set limitations of the parser\n",
    "# c.Limit = 100000\n",
    "# c.Lang = \"en\"\n",
    "\n",
    "# # Set time frame\n",
    "# c.Since = str(pd.to_datetime(panel_data.index.values[0])).split()[0]\n",
    "# c.Until = str(pd.to_datetime(panel_data.index.values[-1])).split()[0]\n",
    "\n",
    "# # Obtain pandas Dataframe\n",
    "# c.Pandas = True\n",
    "\n",
    "# c.Search = \"#AAPL\"\n",
    "# # Scrape the user's twitter account\n",
    "# twint.run.Search(c)\n",
    "\n",
    "# # store in a dataframe\n",
    "# AAPL_DF = twint.storage.panda.Tweets_df"
   ]
  },
  {
   "cell_type": "code",
   "execution_count": 7,
   "metadata": {
    "tags": []
   },
   "outputs": [],
   "source": [
    "# TSLA_DF.head()"
   ]
  },
  {
   "cell_type": "code",
   "execution_count": 8,
   "metadata": {},
   "outputs": [],
   "source": [
    "# AAPL_DF.head()"
   ]
  },
  {
   "cell_type": "code",
   "execution_count": 9,
   "metadata": {},
   "outputs": [],
   "source": [
    "# # Remove undesirable columns\n",
    "# cols_to_be_removed = ['id', 'conversation_id', 'created_at', 'timezone', 'place',\n",
    "#        'language', 'user_id',\n",
    "#        'username', 'name', 'day', 'hour', 'urls', 'photos', 'video',\n",
    "#        'thumbnail', 'quote_url', 'search',\n",
    "#        'near', 'geo', 'source', 'reply_to', 'translate', 'trans_src',\n",
    "#        'trans_dest', 'link', 'user_id_str', 'cashtags', 'hashtags', 'user_rt_id', 'user_rt', 'retweet_id', 'retweet_date', 'retweet']\n",
    "\n",
    "# # drop unnecessary columns\n",
    "\n",
    "# TSLA_DF = TSLA_DF.drop(cols_to_be_removed, inplace = False, axis=1)\n",
    "# # TSLA_DF['simp_date'] = [str(i).split()[0] for i in pd.to_datetime(TSLA_DF['date'].values)]\n",
    "# TSLA_DF.reset_index(drop=True, inplace=True)\n",
    "# TSLA_DF\n",
    "\n",
    "\n",
    "# AAPL_DF = AAPL_DF.drop(cols_to_be_removed, inplace = False, axis=1)\n",
    "# # BTC_DF['simp_date'] = [str(i).split()[0] for i in pd.to_datetime(BTC_DF['date'].values)]\n",
    "# AAPL_DF.reset_index(drop=True, inplace=True)\n",
    "# AAPL_DF\n",
    "\n",
    "\n",
    "\n",
    "# # TWEETS_DF = TWEETS_DF.drop(cols_to_be_removed, inplace = False, axis=1)\n",
    "# # TWEETS_DF.reset_index(drop=True, inplace=True)\n",
    "# # TWEETS_DF\n",
    "\n"
   ]
  },
  {
   "cell_type": "markdown",
   "metadata": {},
   "source": [
    "### Notice how there are duplicate dates in our dataframe"
   ]
  },
  {
   "cell_type": "code",
   "execution_count": 10,
   "metadata": {},
   "outputs": [],
   "source": [
    "# TSLA_DF = pd.read_csv('TSLA_STUFF.csv').drop([\"Unnamed: 0\"], axis=1).dropna(axis=0)\n",
    "# AAPL_DF = pd.read_csv('AAPL_STUFF.csv').drop([\"Unnamed: 0\"], axis=1).dropna(axis=0)\n",
    "\n",
    "# TSLA_DF.head()"
   ]
  },
  {
   "cell_type": "code",
   "execution_count": 11,
   "metadata": {},
   "outputs": [],
   "source": [
    "# AAPL_DF.head()"
   ]
  },
  {
   "cell_type": "code",
   "execution_count": 12,
   "metadata": {},
   "outputs": [],
   "source": [
    "# # obtain dates in a simple format from our yFinance imported dataframe\n",
    "# panel_data_dates = np.array([str(pd.to_datetime(i)).split()[0] for i in panel_data.index.values])\n",
    "\n",
    "# pct_change_list = []\n",
    "# for d in TSLA_DF['date']:\n",
    "#     # makes sure tweet is on trading and it exists in our downloaded prices' timeframe\n",
    "#     if d.split()[0] in panel_data_dates:\n",
    "#         pct_change_list.append(panel_data.loc[d.split()[0], 'TSLA_pct_change'])\n",
    "#     else:\n",
    "#         pct_change_list.append(np.NaN)\n",
    "\n",
    "       "
   ]
  },
  {
   "cell_type": "code",
   "execution_count": 13,
   "metadata": {},
   "outputs": [],
   "source": [
    "# TSLA_DF['stonk_pct_change'] = pct_change_list\n",
    "# TSLA_DF = TSLA_DF.reset_index(drop=True).dropna(axis=0)\n",
    "# TSLA_DF.head()"
   ]
  },
  {
   "cell_type": "code",
   "execution_count": 14,
   "metadata": {},
   "outputs": [],
   "source": [
    "# pct_change_list = []\n",
    "# count = 0\n",
    "# for d in AAPL_DF['date']:\n",
    "#     count +=1\n",
    "#     # makes sure tweet is on trading and it exists in our downloaded prices' timeframe\n",
    "#     if d.split()[0] in panel_data_dates:\n",
    "#         pct_change_list.append(panel_data.loc[d.split()[0], 'AAPL_pct_change'])\n",
    "#     else:\n",
    "#         pct_change_list.append(np.NaN)\n"
   ]
  },
  {
   "cell_type": "code",
   "execution_count": 15,
   "metadata": {},
   "outputs": [],
   "source": [
    "# AAPL_DF['stonk_pct_change'] = pct_change_list\n",
    "# AAPL_DF = AAPL_DF.reset_index(drop=True).dropna(axis=0)\n",
    "# AAPL_DF.head()"
   ]
  },
  {
   "cell_type": "code",
   "execution_count": 16,
   "metadata": {},
   "outputs": [],
   "source": [
    "# TWEETS_DF = pd.concat([TSLA_DF, AAPL_DF])\n",
    "# TWEETS_DF.head()"
   ]
  },
  {
   "cell_type": "code",
   "execution_count": 17,
   "metadata": {},
   "outputs": [],
   "source": [
    "# TSLA_DF.to_csv(\"TSLA_STUFF.csv\")\n",
    "# AAPL_DF.to_csv(\"AAPL_STUFF.csv\")\n",
    "# TWEETS_DF.to_csv(\"TWEETS_DF_with_date.csv\")"
   ]
  },
  {
   "cell_type": "code",
   "execution_count": 18,
   "metadata": {},
   "outputs": [
    {
     "data": {
      "text/html": [
       "<div>\n",
       "<style scoped>\n",
       "    .dataframe tbody tr th:only-of-type {\n",
       "        vertical-align: middle;\n",
       "    }\n",
       "\n",
       "    .dataframe tbody tr th {\n",
       "        vertical-align: top;\n",
       "    }\n",
       "\n",
       "    .dataframe thead th {\n",
       "        text-align: right;\n",
       "    }\n",
       "</style>\n",
       "<table border=\"1\" class=\"dataframe\">\n",
       "  <thead>\n",
       "    <tr style=\"text-align: right;\">\n",
       "      <th></th>\n",
       "      <th>date</th>\n",
       "      <th>nlikes</th>\n",
       "      <th>nreplies</th>\n",
       "      <th>nretweets</th>\n",
       "      <th>stonk_pct_change</th>\n",
       "      <th>Negative_Score</th>\n",
       "      <th>Neutral_Score</th>\n",
       "      <th>Positive_Score</th>\n",
       "    </tr>\n",
       "  </thead>\n",
       "  <tbody>\n",
       "    <tr>\n",
       "      <th>0</th>\n",
       "      <td>2020-12-29 18:53:03</td>\n",
       "      <td>0.0</td>\n",
       "      <td>0.0</td>\n",
       "      <td>0.0</td>\n",
       "      <td>BULLISH</td>\n",
       "      <td>0.0</td>\n",
       "      <td>0.594</td>\n",
       "      <td>0.406</td>\n",
       "    </tr>\n",
       "    <tr>\n",
       "      <th>1</th>\n",
       "      <td>2020-12-29 17:53:19</td>\n",
       "      <td>1.0</td>\n",
       "      <td>0.0</td>\n",
       "      <td>2.0</td>\n",
       "      <td>BULLISH</td>\n",
       "      <td>0.0</td>\n",
       "      <td>1.000</td>\n",
       "      <td>0.000</td>\n",
       "    </tr>\n",
       "    <tr>\n",
       "      <th>2</th>\n",
       "      <td>2020-12-29 17:36:30</td>\n",
       "      <td>0.0</td>\n",
       "      <td>0.0</td>\n",
       "      <td>0.0</td>\n",
       "      <td>BULLISH</td>\n",
       "      <td>0.0</td>\n",
       "      <td>0.565</td>\n",
       "      <td>0.435</td>\n",
       "    </tr>\n",
       "    <tr>\n",
       "      <th>3</th>\n",
       "      <td>2020-12-29 17:20:05</td>\n",
       "      <td>0.0</td>\n",
       "      <td>0.0</td>\n",
       "      <td>0.0</td>\n",
       "      <td>BULLISH</td>\n",
       "      <td>0.0</td>\n",
       "      <td>0.879</td>\n",
       "      <td>0.121</td>\n",
       "    </tr>\n",
       "    <tr>\n",
       "      <th>4</th>\n",
       "      <td>2020-12-29 17:14:16</td>\n",
       "      <td>4.0</td>\n",
       "      <td>2.0</td>\n",
       "      <td>0.0</td>\n",
       "      <td>BULLISH</td>\n",
       "      <td>0.0</td>\n",
       "      <td>0.769</td>\n",
       "      <td>0.231</td>\n",
       "    </tr>\n",
       "    <tr>\n",
       "      <th>...</th>\n",
       "      <td>...</td>\n",
       "      <td>...</td>\n",
       "      <td>...</td>\n",
       "      <td>...</td>\n",
       "      <td>...</td>\n",
       "      <td>...</td>\n",
       "      <td>...</td>\n",
       "      <td>...</td>\n",
       "    </tr>\n",
       "    <tr>\n",
       "      <th>250300</th>\n",
       "      <td>2016-01-25 22:40:56</td>\n",
       "      <td>0.0</td>\n",
       "      <td>0.0</td>\n",
       "      <td>0.0</td>\n",
       "      <td>BEARISH</td>\n",
       "      <td>0.0</td>\n",
       "      <td>1.000</td>\n",
       "      <td>0.000</td>\n",
       "    </tr>\n",
       "    <tr>\n",
       "      <th>250301</th>\n",
       "      <td>2016-01-25 22:01:21</td>\n",
       "      <td>0.0</td>\n",
       "      <td>0.0</td>\n",
       "      <td>0.0</td>\n",
       "      <td>BEARISH</td>\n",
       "      <td>0.0</td>\n",
       "      <td>1.000</td>\n",
       "      <td>0.000</td>\n",
       "    </tr>\n",
       "    <tr>\n",
       "      <th>250302</th>\n",
       "      <td>2016-01-25 21:24:22</td>\n",
       "      <td>0.0</td>\n",
       "      <td>2.0</td>\n",
       "      <td>0.0</td>\n",
       "      <td>BEARISH</td>\n",
       "      <td>0.0</td>\n",
       "      <td>1.000</td>\n",
       "      <td>0.000</td>\n",
       "    </tr>\n",
       "    <tr>\n",
       "      <th>250303</th>\n",
       "      <td>2016-01-25 21:04:16</td>\n",
       "      <td>0.0</td>\n",
       "      <td>0.0</td>\n",
       "      <td>0.0</td>\n",
       "      <td>BEARISH</td>\n",
       "      <td>0.0</td>\n",
       "      <td>0.794</td>\n",
       "      <td>0.206</td>\n",
       "    </tr>\n",
       "    <tr>\n",
       "      <th>250304</th>\n",
       "      <td>2016-01-25 20:51:43</td>\n",
       "      <td>1.0</td>\n",
       "      <td>0.0</td>\n",
       "      <td>0.0</td>\n",
       "      <td>BEARISH</td>\n",
       "      <td>0.0</td>\n",
       "      <td>1.000</td>\n",
       "      <td>0.000</td>\n",
       "    </tr>\n",
       "  </tbody>\n",
       "</table>\n",
       "<p>250305 rows × 8 columns</p>\n",
       "</div>"
      ],
      "text/plain": [
       "                       date  nlikes  nreplies  nretweets stonk_pct_change  \\\n",
       "0       2020-12-29 18:53:03     0.0       0.0        0.0          BULLISH   \n",
       "1       2020-12-29 17:53:19     1.0       0.0        2.0          BULLISH   \n",
       "2       2020-12-29 17:36:30     0.0       0.0        0.0          BULLISH   \n",
       "3       2020-12-29 17:20:05     0.0       0.0        0.0          BULLISH   \n",
       "4       2020-12-29 17:14:16     4.0       2.0        0.0          BULLISH   \n",
       "...                     ...     ...       ...        ...              ...   \n",
       "250300  2016-01-25 22:40:56     0.0       0.0        0.0          BEARISH   \n",
       "250301  2016-01-25 22:01:21     0.0       0.0        0.0          BEARISH   \n",
       "250302  2016-01-25 21:24:22     0.0       2.0        0.0          BEARISH   \n",
       "250303  2016-01-25 21:04:16     0.0       0.0        0.0          BEARISH   \n",
       "250304  2016-01-25 20:51:43     1.0       0.0        0.0          BEARISH   \n",
       "\n",
       "        Negative_Score  Neutral_Score  Positive_Score  \n",
       "0                  0.0          0.594           0.406  \n",
       "1                  0.0          1.000           0.000  \n",
       "2                  0.0          0.565           0.435  \n",
       "3                  0.0          0.879           0.121  \n",
       "4                  0.0          0.769           0.231  \n",
       "...                ...            ...             ...  \n",
       "250300             0.0          1.000           0.000  \n",
       "250301             0.0          1.000           0.000  \n",
       "250302             0.0          1.000           0.000  \n",
       "250303             0.0          0.794           0.206  \n",
       "250304             0.0          1.000           0.000  \n",
       "\n",
       "[250305 rows x 8 columns]"
      ]
     },
     "execution_count": 18,
     "metadata": {},
     "output_type": "execute_result"
    }
   ],
   "source": [
    "TWEETS_DF = pd.read_csv(\"TWEETS_DF_with_date.csv\").drop([\"Unnamed: 0\"], axis = 1).dropna(axis=0)\n",
    "TWEETS_DF"
   ]
  },
  {
   "cell_type": "code",
   "execution_count": 228,
   "metadata": {},
   "outputs": [
    {
     "data": {
      "text/html": [
       "<div>\n",
       "<style scoped>\n",
       "    .dataframe tbody tr th:only-of-type {\n",
       "        vertical-align: middle;\n",
       "    }\n",
       "\n",
       "    .dataframe tbody tr th {\n",
       "        vertical-align: top;\n",
       "    }\n",
       "\n",
       "    .dataframe thead th {\n",
       "        text-align: right;\n",
       "    }\n",
       "</style>\n",
       "<table border=\"1\" class=\"dataframe\">\n",
       "  <thead>\n",
       "    <tr style=\"text-align: right;\">\n",
       "      <th></th>\n",
       "      <th>date</th>\n",
       "      <th>nlikes</th>\n",
       "      <th>nreplies</th>\n",
       "      <th>nretweets</th>\n",
       "      <th>stonk_pct_change</th>\n",
       "      <th>Negative_Score</th>\n",
       "      <th>Neutral_Score</th>\n",
       "      <th>Positive_Score</th>\n",
       "    </tr>\n",
       "  </thead>\n",
       "  <tbody>\n",
       "    <tr>\n",
       "      <th>0</th>\n",
       "      <td>2020-12-29 18:53:03</td>\n",
       "      <td>0.0</td>\n",
       "      <td>0.0</td>\n",
       "      <td>0.0</td>\n",
       "      <td>BULLISH</td>\n",
       "      <td>0.000</td>\n",
       "      <td>0.594</td>\n",
       "      <td>0.406</td>\n",
       "    </tr>\n",
       "    <tr>\n",
       "      <th>162889</th>\n",
       "      <td>2020-12-29 18:53:03</td>\n",
       "      <td>0.0</td>\n",
       "      <td>0.0</td>\n",
       "      <td>0.0</td>\n",
       "      <td>BEARISH</td>\n",
       "      <td>0.000</td>\n",
       "      <td>0.594</td>\n",
       "      <td>0.406</td>\n",
       "    </tr>\n",
       "    <tr>\n",
       "      <th>162890</th>\n",
       "      <td>2020-12-29 18:23:46</td>\n",
       "      <td>5.0</td>\n",
       "      <td>0.0</td>\n",
       "      <td>0.0</td>\n",
       "      <td>BEARISH</td>\n",
       "      <td>0.000</td>\n",
       "      <td>1.000</td>\n",
       "      <td>0.000</td>\n",
       "    </tr>\n",
       "    <tr>\n",
       "      <th>162891</th>\n",
       "      <td>2020-12-29 18:17:03</td>\n",
       "      <td>0.0</td>\n",
       "      <td>0.0</td>\n",
       "      <td>0.0</td>\n",
       "      <td>BEARISH</td>\n",
       "      <td>0.000</td>\n",
       "      <td>1.000</td>\n",
       "      <td>0.000</td>\n",
       "    </tr>\n",
       "    <tr>\n",
       "      <th>162892</th>\n",
       "      <td>2020-12-29 17:59:01</td>\n",
       "      <td>0.0</td>\n",
       "      <td>0.0</td>\n",
       "      <td>0.0</td>\n",
       "      <td>BEARISH</td>\n",
       "      <td>0.000</td>\n",
       "      <td>1.000</td>\n",
       "      <td>0.000</td>\n",
       "    </tr>\n",
       "    <tr>\n",
       "      <th>...</th>\n",
       "      <td>...</td>\n",
       "      <td>...</td>\n",
       "      <td>...</td>\n",
       "      <td>...</td>\n",
       "      <td>...</td>\n",
       "      <td>...</td>\n",
       "      <td>...</td>\n",
       "      <td>...</td>\n",
       "    </tr>\n",
       "    <tr>\n",
       "      <th>162884</th>\n",
       "      <td>2015-06-19 10:20:09</td>\n",
       "      <td>0.0</td>\n",
       "      <td>0.0</td>\n",
       "      <td>0.0</td>\n",
       "      <td>BULLISH</td>\n",
       "      <td>0.135</td>\n",
       "      <td>0.865</td>\n",
       "      <td>0.000</td>\n",
       "    </tr>\n",
       "    <tr>\n",
       "      <th>162885</th>\n",
       "      <td>2015-06-19 09:49:03</td>\n",
       "      <td>0.0</td>\n",
       "      <td>0.0</td>\n",
       "      <td>0.0</td>\n",
       "      <td>BULLISH</td>\n",
       "      <td>0.000</td>\n",
       "      <td>1.000</td>\n",
       "      <td>0.000</td>\n",
       "    </tr>\n",
       "    <tr>\n",
       "      <th>162886</th>\n",
       "      <td>2015-06-19 09:48:46</td>\n",
       "      <td>0.0</td>\n",
       "      <td>0.0</td>\n",
       "      <td>0.0</td>\n",
       "      <td>BULLISH</td>\n",
       "      <td>0.000</td>\n",
       "      <td>1.000</td>\n",
       "      <td>0.000</td>\n",
       "    </tr>\n",
       "    <tr>\n",
       "      <th>162887</th>\n",
       "      <td>2015-06-19 09:48:45</td>\n",
       "      <td>0.0</td>\n",
       "      <td>0.0</td>\n",
       "      <td>0.0</td>\n",
       "      <td>BULLISH</td>\n",
       "      <td>0.000</td>\n",
       "      <td>1.000</td>\n",
       "      <td>0.000</td>\n",
       "    </tr>\n",
       "    <tr>\n",
       "      <th>162888</th>\n",
       "      <td>2015-06-19 09:48:34</td>\n",
       "      <td>0.0</td>\n",
       "      <td>0.0</td>\n",
       "      <td>0.0</td>\n",
       "      <td>BULLISH</td>\n",
       "      <td>0.000</td>\n",
       "      <td>1.000</td>\n",
       "      <td>0.000</td>\n",
       "    </tr>\n",
       "  </tbody>\n",
       "</table>\n",
       "<p>250305 rows × 8 columns</p>\n",
       "</div>"
      ],
      "text/plain": [
       "                       date  nlikes  nreplies  nretweets stonk_pct_change  \\\n",
       "0       2020-12-29 18:53:03     0.0       0.0        0.0          BULLISH   \n",
       "162889  2020-12-29 18:53:03     0.0       0.0        0.0          BEARISH   \n",
       "162890  2020-12-29 18:23:46     5.0       0.0        0.0          BEARISH   \n",
       "162891  2020-12-29 18:17:03     0.0       0.0        0.0          BEARISH   \n",
       "162892  2020-12-29 17:59:01     0.0       0.0        0.0          BEARISH   \n",
       "...                     ...     ...       ...        ...              ...   \n",
       "162884  2015-06-19 10:20:09     0.0       0.0        0.0          BULLISH   \n",
       "162885  2015-06-19 09:49:03     0.0       0.0        0.0          BULLISH   \n",
       "162886  2015-06-19 09:48:46     0.0       0.0        0.0          BULLISH   \n",
       "162887  2015-06-19 09:48:45     0.0       0.0        0.0          BULLISH   \n",
       "162888  2015-06-19 09:48:34     0.0       0.0        0.0          BULLISH   \n",
       "\n",
       "        Negative_Score  Neutral_Score  Positive_Score  \n",
       "0                0.000          0.594           0.406  \n",
       "162889           0.000          0.594           0.406  \n",
       "162890           0.000          1.000           0.000  \n",
       "162891           0.000          1.000           0.000  \n",
       "162892           0.000          1.000           0.000  \n",
       "...                ...            ...             ...  \n",
       "162884           0.135          0.865           0.000  \n",
       "162885           0.000          1.000           0.000  \n",
       "162886           0.000          1.000           0.000  \n",
       "162887           0.000          1.000           0.000  \n",
       "162888           0.000          1.000           0.000  \n",
       "\n",
       "[250305 rows x 8 columns]"
      ]
     },
     "execution_count": 228,
     "metadata": {},
     "output_type": "execute_result"
    }
   ],
   "source": [
    "# sort values bby correct date\n",
    "\n",
    "pd.read_csv(\"TWEETS_DF_with_date.csv\").drop([\"Unnamed: 0\"], axis = 1).dropna(axis=0).sort_values(['date'], ascending=False)"
   ]
  },
  {
   "cell_type": "markdown",
   "metadata": {},
   "source": [
    "## Cleaning the texts"
   ]
  },
  {
   "cell_type": "code",
   "execution_count": 214,
   "metadata": {},
   "outputs": [],
   "source": [
    "# corpus = []\n",
    "# for i in range(TWEETS_DF.shape[0]//2):\n",
    "\n",
    "#     # remove all punctuation and keep all numbers and letters\n",
    "#     review = re.sub('[^a-zA-Z0-9]', ' ', TWEETS_DF['tweet'].values[i])\n",
    "#     review = review.lower()\n",
    "#     review = review.split()\n",
    "\n",
    "#     # Only consider the root of a word (loved -> love) to simplify analysis as much as possible\n",
    "#     ps = PorterStemmer()\n",
    "\n",
    "#     # remove all stop words like the, an, etc.\n",
    "#     all_stopwords = stopwords.words('english')\n",
    "#     # keep the word \"not\" as that is a negation word\n",
    "#     all_stopwords.remove('not')\n",
    "\n",
    "#     # apply stemming to all the words after stopword cleaning\n",
    "#     review = [ps.stem(word) for word in review if not word in set(all_stopwords)]\n",
    "#     review = ' '.join(review)\n",
    "\n",
    "#     # append cleaned text\n",
    "#     corpus.append(review)\n",
    "   "
   ]
  },
  {
   "cell_type": "code",
   "execution_count": null,
   "metadata": {},
   "outputs": [],
   "source": [
    "for i in range(TWEETS_DF.shape[0]//2, TWEETS_DF.shape[0]):\n",
    "\n",
    "    # remove all punctuation and keep all numbers and letters\n",
    "    review = re.sub('[^a-zA-Z0-9]', ' ', TWEETS_DF['tweet'].values[i])\n",
    "    review = review.lower()\n",
    "    review = review.split()\n",
    "\n",
    "    # Only consider the root of a word (loved -> love) to simplify analysis as much as possible\n",
    "    ps = PorterStemmer()\n",
    "\n",
    "    # remove all stop words like the, an, etc.\n",
    "    all_stopwords = stopwords.words('english')\n",
    "    # keep the word \"not\" as that is a negation word\n",
    "    all_stopwords.remove('not')\n",
    "\n",
    "    # apply stemming to all the words after stopword cleaning\n",
    "    review = [ps.stem(word) for word in review if not word in set(all_stopwords)]\n",
    "    review = ' '.join(review)\n",
    "\n",
    "    # append cleaned text\n",
    "    corpus.append(review)"
   ]
  },
  {
   "cell_type": "code",
   "execution_count": null,
   "metadata": {},
   "outputs": [],
   "source": [
    "# corpus[:5]"
   ]
  },
  {
   "cell_type": "code",
   "execution_count": null,
   "metadata": {},
   "outputs": [],
   "source": [
    "# TWEETS_DF['tweet'] = corpus\n",
    "# TWEETS_DF.head()"
   ]
  },
  {
   "cell_type": "code",
   "execution_count": null,
   "metadata": {},
   "outputs": [],
   "source": [
    "# # Seperate bullish outlook from negative outlook\n",
    "# def sgn_pct_change(pct_change_value):\n",
    "#     if pct_change_value > 0:\n",
    "#         return 'BULLISH'\n",
    "#     else:\n",
    "#         return 'BEARISH'"
   ]
  },
  {
   "cell_type": "code",
   "execution_count": null,
   "metadata": {},
   "outputs": [],
   "source": [
    "# TWEETS_DF['stonk_pct_change'] = TWEETS_DF['stonk_pct_change'].apply(sgn_pct_change)\n",
    "# TWEETS_DF.to_csv(\"TWEETS_DF_with_date.csv\")"
   ]
  },
  {
   "cell_type": "code",
   "execution_count": 20,
   "metadata": {},
   "outputs": [
    {
     "data": {
      "text/html": [
       "<div>\n",
       "<style scoped>\n",
       "    .dataframe tbody tr th:only-of-type {\n",
       "        vertical-align: middle;\n",
       "    }\n",
       "\n",
       "    .dataframe tbody tr th {\n",
       "        vertical-align: top;\n",
       "    }\n",
       "\n",
       "    .dataframe thead th {\n",
       "        text-align: right;\n",
       "    }\n",
       "</style>\n",
       "<table border=\"1\" class=\"dataframe\">\n",
       "  <thead>\n",
       "    <tr style=\"text-align: right;\">\n",
       "      <th></th>\n",
       "      <th>date</th>\n",
       "      <th>nlikes</th>\n",
       "      <th>nreplies</th>\n",
       "      <th>nretweets</th>\n",
       "      <th>stonk_pct_change</th>\n",
       "      <th>Negative_Score</th>\n",
       "      <th>Neutral_Score</th>\n",
       "      <th>Positive_Score</th>\n",
       "    </tr>\n",
       "  </thead>\n",
       "  <tbody>\n",
       "    <tr>\n",
       "      <th>0</th>\n",
       "      <td>2020-12-29 18:53:03</td>\n",
       "      <td>0.0</td>\n",
       "      <td>0.0</td>\n",
       "      <td>0.0</td>\n",
       "      <td>BULLISH</td>\n",
       "      <td>0.0</td>\n",
       "      <td>0.594</td>\n",
       "      <td>0.406</td>\n",
       "    </tr>\n",
       "    <tr>\n",
       "      <th>1</th>\n",
       "      <td>2020-12-29 17:53:19</td>\n",
       "      <td>1.0</td>\n",
       "      <td>0.0</td>\n",
       "      <td>2.0</td>\n",
       "      <td>BULLISH</td>\n",
       "      <td>0.0</td>\n",
       "      <td>1.000</td>\n",
       "      <td>0.000</td>\n",
       "    </tr>\n",
       "    <tr>\n",
       "      <th>2</th>\n",
       "      <td>2020-12-29 17:36:30</td>\n",
       "      <td>0.0</td>\n",
       "      <td>0.0</td>\n",
       "      <td>0.0</td>\n",
       "      <td>BULLISH</td>\n",
       "      <td>0.0</td>\n",
       "      <td>0.565</td>\n",
       "      <td>0.435</td>\n",
       "    </tr>\n",
       "    <tr>\n",
       "      <th>3</th>\n",
       "      <td>2020-12-29 17:20:05</td>\n",
       "      <td>0.0</td>\n",
       "      <td>0.0</td>\n",
       "      <td>0.0</td>\n",
       "      <td>BULLISH</td>\n",
       "      <td>0.0</td>\n",
       "      <td>0.879</td>\n",
       "      <td>0.121</td>\n",
       "    </tr>\n",
       "    <tr>\n",
       "      <th>4</th>\n",
       "      <td>2020-12-29 17:14:16</td>\n",
       "      <td>4.0</td>\n",
       "      <td>2.0</td>\n",
       "      <td>0.0</td>\n",
       "      <td>BULLISH</td>\n",
       "      <td>0.0</td>\n",
       "      <td>0.769</td>\n",
       "      <td>0.231</td>\n",
       "    </tr>\n",
       "    <tr>\n",
       "      <th>...</th>\n",
       "      <td>...</td>\n",
       "      <td>...</td>\n",
       "      <td>...</td>\n",
       "      <td>...</td>\n",
       "      <td>...</td>\n",
       "      <td>...</td>\n",
       "      <td>...</td>\n",
       "      <td>...</td>\n",
       "    </tr>\n",
       "    <tr>\n",
       "      <th>250300</th>\n",
       "      <td>2016-01-25 22:40:56</td>\n",
       "      <td>0.0</td>\n",
       "      <td>0.0</td>\n",
       "      <td>0.0</td>\n",
       "      <td>BEARISH</td>\n",
       "      <td>0.0</td>\n",
       "      <td>1.000</td>\n",
       "      <td>0.000</td>\n",
       "    </tr>\n",
       "    <tr>\n",
       "      <th>250301</th>\n",
       "      <td>2016-01-25 22:01:21</td>\n",
       "      <td>0.0</td>\n",
       "      <td>0.0</td>\n",
       "      <td>0.0</td>\n",
       "      <td>BEARISH</td>\n",
       "      <td>0.0</td>\n",
       "      <td>1.000</td>\n",
       "      <td>0.000</td>\n",
       "    </tr>\n",
       "    <tr>\n",
       "      <th>250302</th>\n",
       "      <td>2016-01-25 21:24:22</td>\n",
       "      <td>0.0</td>\n",
       "      <td>2.0</td>\n",
       "      <td>0.0</td>\n",
       "      <td>BEARISH</td>\n",
       "      <td>0.0</td>\n",
       "      <td>1.000</td>\n",
       "      <td>0.000</td>\n",
       "    </tr>\n",
       "    <tr>\n",
       "      <th>250303</th>\n",
       "      <td>2016-01-25 21:04:16</td>\n",
       "      <td>0.0</td>\n",
       "      <td>0.0</td>\n",
       "      <td>0.0</td>\n",
       "      <td>BEARISH</td>\n",
       "      <td>0.0</td>\n",
       "      <td>0.794</td>\n",
       "      <td>0.206</td>\n",
       "    </tr>\n",
       "    <tr>\n",
       "      <th>250304</th>\n",
       "      <td>2016-01-25 20:51:43</td>\n",
       "      <td>1.0</td>\n",
       "      <td>0.0</td>\n",
       "      <td>0.0</td>\n",
       "      <td>BEARISH</td>\n",
       "      <td>0.0</td>\n",
       "      <td>1.000</td>\n",
       "      <td>0.000</td>\n",
       "    </tr>\n",
       "  </tbody>\n",
       "</table>\n",
       "<p>250305 rows × 8 columns</p>\n",
       "</div>"
      ],
      "text/plain": [
       "                       date  nlikes  nreplies  nretweets stonk_pct_change  \\\n",
       "0       2020-12-29 18:53:03     0.0       0.0        0.0          BULLISH   \n",
       "1       2020-12-29 17:53:19     1.0       0.0        2.0          BULLISH   \n",
       "2       2020-12-29 17:36:30     0.0       0.0        0.0          BULLISH   \n",
       "3       2020-12-29 17:20:05     0.0       0.0        0.0          BULLISH   \n",
       "4       2020-12-29 17:14:16     4.0       2.0        0.0          BULLISH   \n",
       "...                     ...     ...       ...        ...              ...   \n",
       "250300  2016-01-25 22:40:56     0.0       0.0        0.0          BEARISH   \n",
       "250301  2016-01-25 22:01:21     0.0       0.0        0.0          BEARISH   \n",
       "250302  2016-01-25 21:24:22     0.0       2.0        0.0          BEARISH   \n",
       "250303  2016-01-25 21:04:16     0.0       0.0        0.0          BEARISH   \n",
       "250304  2016-01-25 20:51:43     1.0       0.0        0.0          BEARISH   \n",
       "\n",
       "        Negative_Score  Neutral_Score  Positive_Score  \n",
       "0                  0.0          0.594           0.406  \n",
       "1                  0.0          1.000           0.000  \n",
       "2                  0.0          0.565           0.435  \n",
       "3                  0.0          0.879           0.121  \n",
       "4                  0.0          0.769           0.231  \n",
       "...                ...            ...             ...  \n",
       "250300             0.0          1.000           0.000  \n",
       "250301             0.0          1.000           0.000  \n",
       "250302             0.0          1.000           0.000  \n",
       "250303             0.0          0.794           0.206  \n",
       "250304             0.0          1.000           0.000  \n",
       "\n",
       "[250305 rows x 8 columns]"
      ]
     },
     "execution_count": 20,
     "metadata": {},
     "output_type": "execute_result"
    }
   ],
   "source": [
    "TWEETS_DF = pd.read_csv(\"TWEETS_DF_with_date.csv\").drop([\"Unnamed: 0\"],axis=1).dropna(axis=0)\n",
    "TWEETS_DF"
   ]
  },
  {
   "cell_type": "markdown",
   "metadata": {},
   "source": [
    "# Creating the Bag of Words Model"
   ]
  },
  {
   "cell_type": "code",
   "execution_count": null,
   "metadata": {},
   "outputs": [],
   "source": [
    "# # this ensures that neutral words like elonmusk or steve or hello etc. are not accounted for\n",
    "# cv = CountVectorizer(max_features = 1000)\n",
    "\n",
    "# # Our independent variable (aka our features) will be our tweets\n",
    "# X_text = cv.fit_transform(TWEETS_DF.tweet).toarray()\n",
    "\n",
    "# # our dependant variable will be stonk_pct_change \n",
    "# y_outlook_text = TWEETS_DF.stonk_pct_change.values"
   ]
  },
  {
   "cell_type": "markdown",
   "metadata": {},
   "source": [
    "## Splitting Dataset into Training and Testing Sets"
   ]
  },
  {
   "cell_type": "code",
   "execution_count": null,
   "metadata": {},
   "outputs": [],
   "source": [
    "# X_train, X_test, y_train, y_test = train_test_split(X_text, y_outlook_text, test_size = 0.20, random_state = 0)"
   ]
  },
  {
   "cell_type": "markdown",
   "metadata": {},
   "source": [
    "## Training the Naive Bayes model on the Training set"
   ]
  },
  {
   "cell_type": "code",
   "execution_count": null,
   "metadata": {},
   "outputs": [],
   "source": [
    "# classifier = GaussianNB()\n",
    "# classifier.fit(X_train, y_train)"
   ]
  },
  {
   "cell_type": "code",
   "execution_count": null,
   "metadata": {},
   "outputs": [],
   "source": [
    "# y_outlook_pred = classifier.predict(X_test)\n",
    "# pd.DataFrame(data=np.concatenate((y_outlook_pred.reshape(len(y_outlook_pred),1), y_test.reshape(len(y_test),1)),1), \n",
    "#     columns=['Predicted', 'Actual'])"
   ]
  },
  {
   "cell_type": "code",
   "execution_count": null,
   "metadata": {},
   "outputs": [],
   "source": [
    "# #plot\n",
    "# print(f\"Classification Report for Bag Of Words Model\\n\\n\")\n",
    "# print(classification_report(y_test, y_outlook_pred, target_names=['Bullish', 'Bearish']))\n",
    "# plot_confusion_matrix(classifier, X_test, y_test, cmap=plt.cm.Blues, display_labels=['Bullish', 'Bearish'])  \n",
    "# plt.show()  "
   ]
  },
  {
   "cell_type": "markdown",
   "metadata": {},
   "source": [
    "## Terrible Results, Let us see if we can make this better"
   ]
  },
  {
   "cell_type": "markdown",
   "metadata": {},
   "source": [
    "## Adding Sentiment Score"
   ]
  },
  {
   "cell_type": "code",
   "execution_count": null,
   "metadata": {},
   "outputs": [],
   "source": [
    "# # VADAR (Valence Aware Dictionary for Sentiment Reasoning) is a model used for text sentiment analysis that is sensitive to both polarity (positive/negative) and intensity (strength) of emotion. VADER sentimental analysis relies on a dictionary that maps lexical features to emotion intensities known as sentiment scores. The sentiment score of a text can be obtained by summing up the intensity of each word in the text.\n",
    "# # See https://towardsdatascience.com/sentimental-analysis-using-vader-a3415fef7664 for more details\n",
    "\n",
    "# # Sentiment score functions\n",
    "# def sentimentScoreNeg(text):\n",
    "#     score = SentimentIntensityAnalyzer().polarity_scores(text)\n",
    "#     return score['neg']\n",
    "\n",
    "# def sentimentScorePos(text):\n",
    "#     score = SentimentIntensityAnalyzer().polarity_scores(text)\n",
    "#     return score['pos']\n",
    "\n",
    "# def sentimentScoreNeu(text):\n",
    "#     score = SentimentIntensityAnalyzer().polarity_scores(text)\n",
    "#     return score['neu']"
   ]
  },
  {
   "cell_type": "code",
   "execution_count": null,
   "metadata": {},
   "outputs": [],
   "source": [
    "# TWEETS_DF['Negative_Score'] = TWEETS_DF['tweet'].apply(sentimentScoreNeg)\n",
    "# TWEETS_DF['Neutral_Score'] = TWEETS_DF['tweet'].apply(sentimentScoreNeu)\n",
    "# TWEETS_DF['Positive_Score'] = TWEETS_DF['tweet'].apply(sentimentScorePos)\n",
    "# TWEETS_DF.head()"
   ]
  },
  {
   "cell_type": "code",
   "execution_count": null,
   "metadata": {},
   "outputs": [],
   "source": [
    "# TWEETS_DF.drop(['date', 'tweet'], inplace = True, axis=1)\n",
    "# TWEETS_DF"
   ]
  },
  {
   "cell_type": "code",
   "execution_count": null,
   "metadata": {},
   "outputs": [],
   "source": [
    "# # TWEETS_DF.drop(['tweet'], inplace = True, axis=1)\n",
    "# TWEETS_DF.to_csv(\"TWEETS_DF_with_date.csv\")\n",
    "# TWEETS_DF"
   ]
  },
  {
   "cell_type": "markdown",
   "metadata": {},
   "source": [
    "## Now that we have data in this format, we can go ahead and apply all sorts of algorithms on it"
   ]
  },
  {
   "cell_type": "markdown",
   "metadata": {},
   "source": [
    "# RUN THIS CELL FIRST MOVING FORWARD"
   ]
  },
  {
   "cell_type": "markdown",
   "metadata": {},
   "source": [
    "## Split into training and testing"
   ]
  },
  {
   "cell_type": "code",
   "execution_count": 21,
   "metadata": {},
   "outputs": [
    {
     "data": {
      "text/html": [
       "<div>\n",
       "<style scoped>\n",
       "    .dataframe tbody tr th:only-of-type {\n",
       "        vertical-align: middle;\n",
       "    }\n",
       "\n",
       "    .dataframe tbody tr th {\n",
       "        vertical-align: top;\n",
       "    }\n",
       "\n",
       "    .dataframe thead th {\n",
       "        text-align: right;\n",
       "    }\n",
       "</style>\n",
       "<table border=\"1\" class=\"dataframe\">\n",
       "  <thead>\n",
       "    <tr style=\"text-align: right;\">\n",
       "      <th></th>\n",
       "      <th>date</th>\n",
       "      <th>nlikes</th>\n",
       "      <th>nreplies</th>\n",
       "      <th>nretweets</th>\n",
       "      <th>stonk_pct_change</th>\n",
       "      <th>Negative_Score</th>\n",
       "      <th>Neutral_Score</th>\n",
       "      <th>Positive_Score</th>\n",
       "    </tr>\n",
       "  </thead>\n",
       "  <tbody>\n",
       "    <tr>\n",
       "      <th>0</th>\n",
       "      <td>2020-12-29 18:53:03</td>\n",
       "      <td>0.0</td>\n",
       "      <td>0.0</td>\n",
       "      <td>0.0</td>\n",
       "      <td>BULLISH</td>\n",
       "      <td>0.0</td>\n",
       "      <td>0.594</td>\n",
       "      <td>0.406</td>\n",
       "    </tr>\n",
       "    <tr>\n",
       "      <th>1</th>\n",
       "      <td>2020-12-29 17:53:19</td>\n",
       "      <td>1.0</td>\n",
       "      <td>0.0</td>\n",
       "      <td>2.0</td>\n",
       "      <td>BULLISH</td>\n",
       "      <td>0.0</td>\n",
       "      <td>1.000</td>\n",
       "      <td>0.000</td>\n",
       "    </tr>\n",
       "    <tr>\n",
       "      <th>2</th>\n",
       "      <td>2020-12-29 17:36:30</td>\n",
       "      <td>0.0</td>\n",
       "      <td>0.0</td>\n",
       "      <td>0.0</td>\n",
       "      <td>BULLISH</td>\n",
       "      <td>0.0</td>\n",
       "      <td>0.565</td>\n",
       "      <td>0.435</td>\n",
       "    </tr>\n",
       "    <tr>\n",
       "      <th>3</th>\n",
       "      <td>2020-12-29 17:20:05</td>\n",
       "      <td>0.0</td>\n",
       "      <td>0.0</td>\n",
       "      <td>0.0</td>\n",
       "      <td>BULLISH</td>\n",
       "      <td>0.0</td>\n",
       "      <td>0.879</td>\n",
       "      <td>0.121</td>\n",
       "    </tr>\n",
       "    <tr>\n",
       "      <th>4</th>\n",
       "      <td>2020-12-29 17:14:16</td>\n",
       "      <td>4.0</td>\n",
       "      <td>2.0</td>\n",
       "      <td>0.0</td>\n",
       "      <td>BULLISH</td>\n",
       "      <td>0.0</td>\n",
       "      <td>0.769</td>\n",
       "      <td>0.231</td>\n",
       "    </tr>\n",
       "    <tr>\n",
       "      <th>...</th>\n",
       "      <td>...</td>\n",
       "      <td>...</td>\n",
       "      <td>...</td>\n",
       "      <td>...</td>\n",
       "      <td>...</td>\n",
       "      <td>...</td>\n",
       "      <td>...</td>\n",
       "      <td>...</td>\n",
       "    </tr>\n",
       "    <tr>\n",
       "      <th>250300</th>\n",
       "      <td>2016-01-25 22:40:56</td>\n",
       "      <td>0.0</td>\n",
       "      <td>0.0</td>\n",
       "      <td>0.0</td>\n",
       "      <td>BEARISH</td>\n",
       "      <td>0.0</td>\n",
       "      <td>1.000</td>\n",
       "      <td>0.000</td>\n",
       "    </tr>\n",
       "    <tr>\n",
       "      <th>250301</th>\n",
       "      <td>2016-01-25 22:01:21</td>\n",
       "      <td>0.0</td>\n",
       "      <td>0.0</td>\n",
       "      <td>0.0</td>\n",
       "      <td>BEARISH</td>\n",
       "      <td>0.0</td>\n",
       "      <td>1.000</td>\n",
       "      <td>0.000</td>\n",
       "    </tr>\n",
       "    <tr>\n",
       "      <th>250302</th>\n",
       "      <td>2016-01-25 21:24:22</td>\n",
       "      <td>0.0</td>\n",
       "      <td>2.0</td>\n",
       "      <td>0.0</td>\n",
       "      <td>BEARISH</td>\n",
       "      <td>0.0</td>\n",
       "      <td>1.000</td>\n",
       "      <td>0.000</td>\n",
       "    </tr>\n",
       "    <tr>\n",
       "      <th>250303</th>\n",
       "      <td>2016-01-25 21:04:16</td>\n",
       "      <td>0.0</td>\n",
       "      <td>0.0</td>\n",
       "      <td>0.0</td>\n",
       "      <td>BEARISH</td>\n",
       "      <td>0.0</td>\n",
       "      <td>0.794</td>\n",
       "      <td>0.206</td>\n",
       "    </tr>\n",
       "    <tr>\n",
       "      <th>250304</th>\n",
       "      <td>2016-01-25 20:51:43</td>\n",
       "      <td>1.0</td>\n",
       "      <td>0.0</td>\n",
       "      <td>0.0</td>\n",
       "      <td>BEARISH</td>\n",
       "      <td>0.0</td>\n",
       "      <td>1.000</td>\n",
       "      <td>0.000</td>\n",
       "    </tr>\n",
       "  </tbody>\n",
       "</table>\n",
       "<p>250305 rows × 8 columns</p>\n",
       "</div>"
      ],
      "text/plain": [
       "                       date  nlikes  nreplies  nretweets stonk_pct_change  \\\n",
       "0       2020-12-29 18:53:03     0.0       0.0        0.0          BULLISH   \n",
       "1       2020-12-29 17:53:19     1.0       0.0        2.0          BULLISH   \n",
       "2       2020-12-29 17:36:30     0.0       0.0        0.0          BULLISH   \n",
       "3       2020-12-29 17:20:05     0.0       0.0        0.0          BULLISH   \n",
       "4       2020-12-29 17:14:16     4.0       2.0        0.0          BULLISH   \n",
       "...                     ...     ...       ...        ...              ...   \n",
       "250300  2016-01-25 22:40:56     0.0       0.0        0.0          BEARISH   \n",
       "250301  2016-01-25 22:01:21     0.0       0.0        0.0          BEARISH   \n",
       "250302  2016-01-25 21:24:22     0.0       2.0        0.0          BEARISH   \n",
       "250303  2016-01-25 21:04:16     0.0       0.0        0.0          BEARISH   \n",
       "250304  2016-01-25 20:51:43     1.0       0.0        0.0          BEARISH   \n",
       "\n",
       "        Negative_Score  Neutral_Score  Positive_Score  \n",
       "0                  0.0          0.594           0.406  \n",
       "1                  0.0          1.000           0.000  \n",
       "2                  0.0          0.565           0.435  \n",
       "3                  0.0          0.879           0.121  \n",
       "4                  0.0          0.769           0.231  \n",
       "...                ...            ...             ...  \n",
       "250300             0.0          1.000           0.000  \n",
       "250301             0.0          1.000           0.000  \n",
       "250302             0.0          1.000           0.000  \n",
       "250303             0.0          0.794           0.206  \n",
       "250304             0.0          1.000           0.000  \n",
       "\n",
       "[250305 rows x 8 columns]"
      ]
     },
     "execution_count": 21,
     "metadata": {},
     "output_type": "execute_result"
    }
   ],
   "source": [
    "TWEETS_DF = pd.read_csv(\"TWEETS_DF_with_date.csv\").drop([\"Unnamed: 0\"],axis=1).dropna(axis=0)\n",
    "TWEETS_DF"
   ]
  },
  {
   "cell_type": "code",
   "execution_count": 22,
   "metadata": {},
   "outputs": [],
   "source": [
    "X = TWEETS_DF.drop('stonk_pct_change', axis=1)\n",
    "y = TWEETS_DF[['stonk_pct_change']]\n"
   ]
  },
  {
   "cell_type": "code",
   "execution_count": 23,
   "metadata": {},
   "outputs": [],
   "source": [
    "for i, word in enumerate(y.values):\n",
    "    if word == 'BULLISH':\n",
    "        y.values[i] = 1\n",
    "    elif word == \"BEARISH\":\n",
    "        y.values[i] = 0\n",
    "    else:\n",
    "        raise ValueError\n",
    "        \n",
    "y = y.astype('float')"
   ]
  },
  {
   "cell_type": "code",
   "execution_count": 24,
   "metadata": {},
   "outputs": [
    {
     "data": {
      "text/html": [
       "<div>\n",
       "<style scoped>\n",
       "    .dataframe tbody tr th:only-of-type {\n",
       "        vertical-align: middle;\n",
       "    }\n",
       "\n",
       "    .dataframe tbody tr th {\n",
       "        vertical-align: top;\n",
       "    }\n",
       "\n",
       "    .dataframe thead th {\n",
       "        text-align: right;\n",
       "    }\n",
       "</style>\n",
       "<table border=\"1\" class=\"dataframe\">\n",
       "  <thead>\n",
       "    <tr style=\"text-align: right;\">\n",
       "      <th></th>\n",
       "      <th>date</th>\n",
       "      <th>nlikes</th>\n",
       "      <th>nreplies</th>\n",
       "      <th>nretweets</th>\n",
       "      <th>Negative_Score</th>\n",
       "      <th>Neutral_Score</th>\n",
       "      <th>Positive_Score</th>\n",
       "    </tr>\n",
       "  </thead>\n",
       "  <tbody>\n",
       "    <tr>\n",
       "      <th>0</th>\n",
       "      <td>2020-12-29 18:53:03</td>\n",
       "      <td>0.0</td>\n",
       "      <td>0.0</td>\n",
       "      <td>0.0</td>\n",
       "      <td>0.0</td>\n",
       "      <td>0.594</td>\n",
       "      <td>0.406</td>\n",
       "    </tr>\n",
       "    <tr>\n",
       "      <th>1</th>\n",
       "      <td>2020-12-29 17:53:19</td>\n",
       "      <td>1.0</td>\n",
       "      <td>0.0</td>\n",
       "      <td>2.0</td>\n",
       "      <td>0.0</td>\n",
       "      <td>1.000</td>\n",
       "      <td>0.000</td>\n",
       "    </tr>\n",
       "    <tr>\n",
       "      <th>2</th>\n",
       "      <td>2020-12-29 17:36:30</td>\n",
       "      <td>0.0</td>\n",
       "      <td>0.0</td>\n",
       "      <td>0.0</td>\n",
       "      <td>0.0</td>\n",
       "      <td>0.565</td>\n",
       "      <td>0.435</td>\n",
       "    </tr>\n",
       "    <tr>\n",
       "      <th>3</th>\n",
       "      <td>2020-12-29 17:20:05</td>\n",
       "      <td>0.0</td>\n",
       "      <td>0.0</td>\n",
       "      <td>0.0</td>\n",
       "      <td>0.0</td>\n",
       "      <td>0.879</td>\n",
       "      <td>0.121</td>\n",
       "    </tr>\n",
       "    <tr>\n",
       "      <th>4</th>\n",
       "      <td>2020-12-29 17:14:16</td>\n",
       "      <td>4.0</td>\n",
       "      <td>2.0</td>\n",
       "      <td>0.0</td>\n",
       "      <td>0.0</td>\n",
       "      <td>0.769</td>\n",
       "      <td>0.231</td>\n",
       "    </tr>\n",
       "    <tr>\n",
       "      <th>...</th>\n",
       "      <td>...</td>\n",
       "      <td>...</td>\n",
       "      <td>...</td>\n",
       "      <td>...</td>\n",
       "      <td>...</td>\n",
       "      <td>...</td>\n",
       "      <td>...</td>\n",
       "    </tr>\n",
       "    <tr>\n",
       "      <th>250300</th>\n",
       "      <td>2016-01-25 22:40:56</td>\n",
       "      <td>0.0</td>\n",
       "      <td>0.0</td>\n",
       "      <td>0.0</td>\n",
       "      <td>0.0</td>\n",
       "      <td>1.000</td>\n",
       "      <td>0.000</td>\n",
       "    </tr>\n",
       "    <tr>\n",
       "      <th>250301</th>\n",
       "      <td>2016-01-25 22:01:21</td>\n",
       "      <td>0.0</td>\n",
       "      <td>0.0</td>\n",
       "      <td>0.0</td>\n",
       "      <td>0.0</td>\n",
       "      <td>1.000</td>\n",
       "      <td>0.000</td>\n",
       "    </tr>\n",
       "    <tr>\n",
       "      <th>250302</th>\n",
       "      <td>2016-01-25 21:24:22</td>\n",
       "      <td>0.0</td>\n",
       "      <td>2.0</td>\n",
       "      <td>0.0</td>\n",
       "      <td>0.0</td>\n",
       "      <td>1.000</td>\n",
       "      <td>0.000</td>\n",
       "    </tr>\n",
       "    <tr>\n",
       "      <th>250303</th>\n",
       "      <td>2016-01-25 21:04:16</td>\n",
       "      <td>0.0</td>\n",
       "      <td>0.0</td>\n",
       "      <td>0.0</td>\n",
       "      <td>0.0</td>\n",
       "      <td>0.794</td>\n",
       "      <td>0.206</td>\n",
       "    </tr>\n",
       "    <tr>\n",
       "      <th>250304</th>\n",
       "      <td>2016-01-25 20:51:43</td>\n",
       "      <td>1.0</td>\n",
       "      <td>0.0</td>\n",
       "      <td>0.0</td>\n",
       "      <td>0.0</td>\n",
       "      <td>1.000</td>\n",
       "      <td>0.000</td>\n",
       "    </tr>\n",
       "  </tbody>\n",
       "</table>\n",
       "<p>250305 rows × 7 columns</p>\n",
       "</div>"
      ],
      "text/plain": [
       "                       date  nlikes  nreplies  nretweets  Negative_Score  \\\n",
       "0       2020-12-29 18:53:03     0.0       0.0        0.0             0.0   \n",
       "1       2020-12-29 17:53:19     1.0       0.0        2.0             0.0   \n",
       "2       2020-12-29 17:36:30     0.0       0.0        0.0             0.0   \n",
       "3       2020-12-29 17:20:05     0.0       0.0        0.0             0.0   \n",
       "4       2020-12-29 17:14:16     4.0       2.0        0.0             0.0   \n",
       "...                     ...     ...       ...        ...             ...   \n",
       "250300  2016-01-25 22:40:56     0.0       0.0        0.0             0.0   \n",
       "250301  2016-01-25 22:01:21     0.0       0.0        0.0             0.0   \n",
       "250302  2016-01-25 21:24:22     0.0       2.0        0.0             0.0   \n",
       "250303  2016-01-25 21:04:16     0.0       0.0        0.0             0.0   \n",
       "250304  2016-01-25 20:51:43     1.0       0.0        0.0             0.0   \n",
       "\n",
       "        Neutral_Score  Positive_Score  \n",
       "0               0.594           0.406  \n",
       "1               1.000           0.000  \n",
       "2               0.565           0.435  \n",
       "3               0.879           0.121  \n",
       "4               0.769           0.231  \n",
       "...               ...             ...  \n",
       "250300          1.000           0.000  \n",
       "250301          1.000           0.000  \n",
       "250302          1.000           0.000  \n",
       "250303          0.794           0.206  \n",
       "250304          1.000           0.000  \n",
       "\n",
       "[250305 rows x 7 columns]"
      ]
     },
     "execution_count": 24,
     "metadata": {},
     "output_type": "execute_result"
    }
   ],
   "source": [
    "X"
   ]
  },
  {
   "cell_type": "code",
   "execution_count": 25,
   "metadata": {},
   "outputs": [],
   "source": [
    "for i, j in enumerate(TWEETS_DF['date'].values):\n",
    "    if j.startswith(\"2019\"):\n",
    "        break\n",
    "\n",
    "X_test = X.iloc[:i, 1:]\n",
    "y_test = y.iloc[:i, :]\n",
    "\n",
    "X_train = X.iloc[i:, 1:]\n",
    "y_train = y.iloc[i:, :]"
   ]
  },
  {
   "cell_type": "code",
   "execution_count": 26,
   "metadata": {},
   "outputs": [],
   "source": [
    "# X_train, X_test, y_train, y_test = train_test_split(X, y, test_size = 0.20, random_state = 0)"
   ]
  },
  {
   "cell_type": "code",
   "execution_count": 27,
   "metadata": {},
   "outputs": [
    {
     "data": {
      "text/html": [
       "<div>\n",
       "<style scoped>\n",
       "    .dataframe tbody tr th:only-of-type {\n",
       "        vertical-align: middle;\n",
       "    }\n",
       "\n",
       "    .dataframe tbody tr th {\n",
       "        vertical-align: top;\n",
       "    }\n",
       "\n",
       "    .dataframe thead th {\n",
       "        text-align: right;\n",
       "    }\n",
       "</style>\n",
       "<table border=\"1\" class=\"dataframe\">\n",
       "  <thead>\n",
       "    <tr style=\"text-align: right;\">\n",
       "      <th></th>\n",
       "      <th>nlikes</th>\n",
       "      <th>nreplies</th>\n",
       "      <th>nretweets</th>\n",
       "      <th>Negative_Score</th>\n",
       "      <th>Neutral_Score</th>\n",
       "      <th>Positive_Score</th>\n",
       "    </tr>\n",
       "  </thead>\n",
       "  <tbody>\n",
       "    <tr>\n",
       "      <th>72987</th>\n",
       "      <td>0.0</td>\n",
       "      <td>0.0</td>\n",
       "      <td>0.0</td>\n",
       "      <td>0.0</td>\n",
       "      <td>0.513</td>\n",
       "      <td>0.487</td>\n",
       "    </tr>\n",
       "    <tr>\n",
       "      <th>72988</th>\n",
       "      <td>0.0</td>\n",
       "      <td>0.0</td>\n",
       "      <td>0.0</td>\n",
       "      <td>0.0</td>\n",
       "      <td>1.000</td>\n",
       "      <td>0.000</td>\n",
       "    </tr>\n",
       "    <tr>\n",
       "      <th>72989</th>\n",
       "      <td>0.0</td>\n",
       "      <td>0.0</td>\n",
       "      <td>0.0</td>\n",
       "      <td>0.0</td>\n",
       "      <td>0.828</td>\n",
       "      <td>0.172</td>\n",
       "    </tr>\n",
       "    <tr>\n",
       "      <th>72990</th>\n",
       "      <td>0.0</td>\n",
       "      <td>0.0</td>\n",
       "      <td>0.0</td>\n",
       "      <td>0.0</td>\n",
       "      <td>1.000</td>\n",
       "      <td>0.000</td>\n",
       "    </tr>\n",
       "    <tr>\n",
       "      <th>72991</th>\n",
       "      <td>1.0</td>\n",
       "      <td>0.0</td>\n",
       "      <td>1.0</td>\n",
       "      <td>0.0</td>\n",
       "      <td>0.876</td>\n",
       "      <td>0.124</td>\n",
       "    </tr>\n",
       "  </tbody>\n",
       "</table>\n",
       "</div>"
      ],
      "text/plain": [
       "       nlikes  nreplies  nretweets  Negative_Score  Neutral_Score  \\\n",
       "72987     0.0       0.0        0.0             0.0          0.513   \n",
       "72988     0.0       0.0        0.0             0.0          1.000   \n",
       "72989     0.0       0.0        0.0             0.0          0.828   \n",
       "72990     0.0       0.0        0.0             0.0          1.000   \n",
       "72991     1.0       0.0        1.0             0.0          0.876   \n",
       "\n",
       "       Positive_Score  \n",
       "72987           0.487  \n",
       "72988           0.000  \n",
       "72989           0.172  \n",
       "72990           0.000  \n",
       "72991           0.124  "
      ]
     },
     "execution_count": 27,
     "metadata": {},
     "output_type": "execute_result"
    }
   ],
   "source": [
    "X_train.head()"
   ]
  },
  {
   "cell_type": "code",
   "execution_count": 28,
   "metadata": {},
   "outputs": [
    {
     "data": {
      "text/html": [
       "<div>\n",
       "<style scoped>\n",
       "    .dataframe tbody tr th:only-of-type {\n",
       "        vertical-align: middle;\n",
       "    }\n",
       "\n",
       "    .dataframe tbody tr th {\n",
       "        vertical-align: top;\n",
       "    }\n",
       "\n",
       "    .dataframe thead th {\n",
       "        text-align: right;\n",
       "    }\n",
       "</style>\n",
       "<table border=\"1\" class=\"dataframe\">\n",
       "  <thead>\n",
       "    <tr style=\"text-align: right;\">\n",
       "      <th></th>\n",
       "      <th>nlikes</th>\n",
       "      <th>nreplies</th>\n",
       "      <th>nretweets</th>\n",
       "      <th>Negative_Score</th>\n",
       "      <th>Neutral_Score</th>\n",
       "      <th>Positive_Score</th>\n",
       "    </tr>\n",
       "  </thead>\n",
       "  <tbody>\n",
       "    <tr>\n",
       "      <th>0</th>\n",
       "      <td>0.0</td>\n",
       "      <td>0.0</td>\n",
       "      <td>0.0</td>\n",
       "      <td>0.0</td>\n",
       "      <td>0.594</td>\n",
       "      <td>0.406</td>\n",
       "    </tr>\n",
       "    <tr>\n",
       "      <th>1</th>\n",
       "      <td>1.0</td>\n",
       "      <td>0.0</td>\n",
       "      <td>2.0</td>\n",
       "      <td>0.0</td>\n",
       "      <td>1.000</td>\n",
       "      <td>0.000</td>\n",
       "    </tr>\n",
       "    <tr>\n",
       "      <th>2</th>\n",
       "      <td>0.0</td>\n",
       "      <td>0.0</td>\n",
       "      <td>0.0</td>\n",
       "      <td>0.0</td>\n",
       "      <td>0.565</td>\n",
       "      <td>0.435</td>\n",
       "    </tr>\n",
       "    <tr>\n",
       "      <th>3</th>\n",
       "      <td>0.0</td>\n",
       "      <td>0.0</td>\n",
       "      <td>0.0</td>\n",
       "      <td>0.0</td>\n",
       "      <td>0.879</td>\n",
       "      <td>0.121</td>\n",
       "    </tr>\n",
       "    <tr>\n",
       "      <th>4</th>\n",
       "      <td>4.0</td>\n",
       "      <td>2.0</td>\n",
       "      <td>0.0</td>\n",
       "      <td>0.0</td>\n",
       "      <td>0.769</td>\n",
       "      <td>0.231</td>\n",
       "    </tr>\n",
       "  </tbody>\n",
       "</table>\n",
       "</div>"
      ],
      "text/plain": [
       "   nlikes  nreplies  nretweets  Negative_Score  Neutral_Score  Positive_Score\n",
       "0     0.0       0.0        0.0             0.0          0.594           0.406\n",
       "1     1.0       0.0        2.0             0.0          1.000           0.000\n",
       "2     0.0       0.0        0.0             0.0          0.565           0.435\n",
       "3     0.0       0.0        0.0             0.0          0.879           0.121\n",
       "4     4.0       2.0        0.0             0.0          0.769           0.231"
      ]
     },
     "execution_count": 28,
     "metadata": {},
     "output_type": "execute_result"
    }
   ],
   "source": [
    "X_test.head()"
   ]
  },
  {
   "cell_type": "code",
   "execution_count": 29,
   "metadata": {},
   "outputs": [
    {
     "data": {
      "text/html": [
       "<div>\n",
       "<style scoped>\n",
       "    .dataframe tbody tr th:only-of-type {\n",
       "        vertical-align: middle;\n",
       "    }\n",
       "\n",
       "    .dataframe tbody tr th {\n",
       "        vertical-align: top;\n",
       "    }\n",
       "\n",
       "    .dataframe thead th {\n",
       "        text-align: right;\n",
       "    }\n",
       "</style>\n",
       "<table border=\"1\" class=\"dataframe\">\n",
       "  <thead>\n",
       "    <tr style=\"text-align: right;\">\n",
       "      <th></th>\n",
       "      <th>stonk_pct_change</th>\n",
       "    </tr>\n",
       "  </thead>\n",
       "  <tbody>\n",
       "    <tr>\n",
       "      <th>72987</th>\n",
       "      <td>1.0</td>\n",
       "    </tr>\n",
       "    <tr>\n",
       "      <th>72988</th>\n",
       "      <td>1.0</td>\n",
       "    </tr>\n",
       "    <tr>\n",
       "      <th>72989</th>\n",
       "      <td>1.0</td>\n",
       "    </tr>\n",
       "    <tr>\n",
       "      <th>72990</th>\n",
       "      <td>1.0</td>\n",
       "    </tr>\n",
       "    <tr>\n",
       "      <th>72991</th>\n",
       "      <td>1.0</td>\n",
       "    </tr>\n",
       "  </tbody>\n",
       "</table>\n",
       "</div>"
      ],
      "text/plain": [
       "       stonk_pct_change\n",
       "72987               1.0\n",
       "72988               1.0\n",
       "72989               1.0\n",
       "72990               1.0\n",
       "72991               1.0"
      ]
     },
     "execution_count": 29,
     "metadata": {},
     "output_type": "execute_result"
    }
   ],
   "source": [
    "y_train.head()"
   ]
  },
  {
   "cell_type": "code",
   "execution_count": 30,
   "metadata": {},
   "outputs": [
    {
     "data": {
      "text/plain": [
       "(177318, 6)"
      ]
     },
     "execution_count": 30,
     "metadata": {},
     "output_type": "execute_result"
    }
   ],
   "source": [
    "X_train.shape"
   ]
  },
  {
   "cell_type": "code",
   "execution_count": 31,
   "metadata": {},
   "outputs": [
    {
     "data": {
      "text/plain": [
       "(72987, 6)"
      ]
     },
     "execution_count": 31,
     "metadata": {},
     "output_type": "execute_result"
    }
   ],
   "source": [
    "X_test.shape"
   ]
  },
  {
   "cell_type": "markdown",
   "metadata": {},
   "source": [
    "## Feature Scaling"
   ]
  },
  {
   "cell_type": "code",
   "execution_count": 32,
   "metadata": {},
   "outputs": [],
   "source": [
    "sc_nlikes = StandardScaler()\n",
    "sc_nreplies = StandardScaler()\n",
    "sc_nretweets = StandardScaler()\n",
    "sc_Negative_Score = StandardScaler()\n",
    "sc_Neutral_Score = StandardScaler()\n",
    "sc_Positive_Score = StandardScaler()\n",
    "sc_y = StandardScaler() # pct_change\n",
    "\n",
    "# training\n",
    "standard_nlikes_train = sc_nlikes.fit_transform(X_train.nlikes.values.reshape(-1,1))\n",
    "standard_nreplies_train = sc_nreplies.fit_transform(X_train.nreplies.values.reshape(-1,1))\n",
    "standard_nretweets_train= sc_nretweets.fit_transform(X_train.nretweets.values.reshape(-1,1))\n",
    "standard_Negative_Score_train = sc_Negative_Score.fit_transform(X_train.Negative_Score.values.reshape(-1,1))\n",
    "standard_Neutral_Score_train = sc_Neutral_Score.fit_transform(X_train.Neutral_Score.values.reshape(-1,1))\n",
    "standard_Positive_Score_train = sc_Positive_Score.fit_transform(X_train.Positive_Score.values.reshape(-1,1))\n",
    "\n",
    "# testing\n",
    "standard_nlikes_test = sc_nlikes.transform(X_test.nlikes.values.reshape(-1,1))\n",
    "standard_nreplies_test = sc_nreplies.transform(X_test.nreplies.values.reshape(-1,1))\n",
    "standard_nretweets_test = sc_nretweets.transform(X_test.nretweets.values.reshape(-1,1))\n",
    "standard_Negative_Score_test = sc_Negative_Score.transform(X_test.Negative_Score.values.reshape(-1,1))\n",
    "standard_Neutral_Score_test = sc_Neutral_Score.transform(X_test.Neutral_Score.values.reshape(-1,1))\n",
    "standard_Positive_Score_test = sc_Positive_Score.transform(X_test.Positive_Score.values.reshape(-1,1))\n",
    "\n",
    "# training\n",
    "standard_y_train = sc_y.fit_transform(y_train.stonk_pct_change.values.reshape(-1,1)) # pct_change\n",
    "\n",
    "# testing\n",
    "standard_y_test = sc_y.fit_transform(y_test.stonk_pct_change.values.reshape(-1,1)) # pct_change\n"
   ]
  },
  {
   "cell_type": "code",
   "execution_count": 33,
   "metadata": {},
   "outputs": [],
   "source": [
    "# in case you want to visualize standardized training data\n",
    "# make a copy of original df\n",
    "TWEETS_DF_TRAINING = X_train.copy()\n",
    "\n",
    "# Independent Variables\"\n",
    "TWEETS_DF_TRAINING['nlikes'] = standard_nlikes_train\n",
    "TWEETS_DF_TRAINING['nreplies'] = standard_nreplies_train\n",
    "TWEETS_DF_TRAINING['nretweets'] = standard_nretweets_train\n",
    "TWEETS_DF_TRAINING['Negative_Score'] = standard_Negative_Score_train\n",
    "TWEETS_DF_TRAINING['Neutral_Score'] = standard_Neutral_Score_train\n",
    "TWEETS_DF_TRAINING['Positive_Score'] = standard_Positive_Score_train\n",
    "\n",
    "# Dependant Variable\n",
    "TWEETS_DF_TRAINING['stonk_pct_change'] = standard_y_train\n"
   ]
  },
  {
   "cell_type": "code",
   "execution_count": 34,
   "metadata": {},
   "outputs": [
    {
     "data": {
      "text/html": [
       "<div>\n",
       "<style scoped>\n",
       "    .dataframe tbody tr th:only-of-type {\n",
       "        vertical-align: middle;\n",
       "    }\n",
       "\n",
       "    .dataframe tbody tr th {\n",
       "        vertical-align: top;\n",
       "    }\n",
       "\n",
       "    .dataframe thead th {\n",
       "        text-align: right;\n",
       "    }\n",
       "</style>\n",
       "<table border=\"1\" class=\"dataframe\">\n",
       "  <thead>\n",
       "    <tr style=\"text-align: right;\">\n",
       "      <th></th>\n",
       "      <th>nlikes</th>\n",
       "      <th>nreplies</th>\n",
       "      <th>nretweets</th>\n",
       "      <th>Negative_Score</th>\n",
       "      <th>Neutral_Score</th>\n",
       "      <th>Positive_Score</th>\n",
       "      <th>stonk_pct_change</th>\n",
       "    </tr>\n",
       "  </thead>\n",
       "  <tbody>\n",
       "    <tr>\n",
       "      <th>72987</th>\n",
       "      <td>-0.078847</td>\n",
       "      <td>-0.102872</td>\n",
       "      <td>-0.066503</td>\n",
       "      <td>-0.400268</td>\n",
       "      <td>-2.884342</td>\n",
       "      <td>3.836807</td>\n",
       "      <td>0.945665</td>\n",
       "    </tr>\n",
       "    <tr>\n",
       "      <th>72988</th>\n",
       "      <td>-0.078847</td>\n",
       "      <td>-0.102872</td>\n",
       "      <td>-0.066503</td>\n",
       "      <td>-0.400268</td>\n",
       "      <td>0.735836</td>\n",
       "      <td>-0.600154</td>\n",
       "      <td>0.945665</td>\n",
       "    </tr>\n",
       "    <tr>\n",
       "      <th>72989</th>\n",
       "      <td>-0.078847</td>\n",
       "      <td>-0.102872</td>\n",
       "      <td>-0.066503</td>\n",
       "      <td>-0.400268</td>\n",
       "      <td>-0.542748</td>\n",
       "      <td>0.966904</td>\n",
       "      <td>0.945665</td>\n",
       "    </tr>\n",
       "    <tr>\n",
       "      <th>72990</th>\n",
       "      <td>-0.078847</td>\n",
       "      <td>-0.102872</td>\n",
       "      <td>-0.066503</td>\n",
       "      <td>-0.400268</td>\n",
       "      <td>0.735836</td>\n",
       "      <td>-0.600154</td>\n",
       "      <td>0.945665</td>\n",
       "    </tr>\n",
       "    <tr>\n",
       "      <th>72991</th>\n",
       "      <td>-0.012983</td>\n",
       "      <td>-0.102872</td>\n",
       "      <td>0.166457</td>\n",
       "      <td>-0.400268</td>\n",
       "      <td>-0.185934</td>\n",
       "      <td>0.529586</td>\n",
       "      <td>0.945665</td>\n",
       "    </tr>\n",
       "  </tbody>\n",
       "</table>\n",
       "</div>"
      ],
      "text/plain": [
       "         nlikes  nreplies  nretweets  Negative_Score  Neutral_Score  \\\n",
       "72987 -0.078847 -0.102872  -0.066503       -0.400268      -2.884342   \n",
       "72988 -0.078847 -0.102872  -0.066503       -0.400268       0.735836   \n",
       "72989 -0.078847 -0.102872  -0.066503       -0.400268      -0.542748   \n",
       "72990 -0.078847 -0.102872  -0.066503       -0.400268       0.735836   \n",
       "72991 -0.012983 -0.102872   0.166457       -0.400268      -0.185934   \n",
       "\n",
       "       Positive_Score  stonk_pct_change  \n",
       "72987        3.836807          0.945665  \n",
       "72988       -0.600154          0.945665  \n",
       "72989        0.966904          0.945665  \n",
       "72990       -0.600154          0.945665  \n",
       "72991        0.529586          0.945665  "
      ]
     },
     "execution_count": 34,
     "metadata": {},
     "output_type": "execute_result"
    }
   ],
   "source": [
    "TWEETS_DF_TRAINING.head()"
   ]
  },
  {
   "cell_type": "code",
   "execution_count": 35,
   "metadata": {},
   "outputs": [],
   "source": [
    "# in case you want to visualize standardized testing data\n",
    "# make a copy of original df\n",
    "TWEETS_DF_TESTING = X_test.copy()\n",
    "\n",
    "# Independent Variables\"\n",
    "TWEETS_DF_TESTING['nlikes'] = standard_nlikes_test\n",
    "TWEETS_DF_TESTING['nreplies'] = standard_nreplies_test\n",
    "TWEETS_DF_TESTING['nretweets'] = standard_nretweets_test\n",
    "TWEETS_DF_TESTING['Negative_Score'] = standard_Negative_Score_test\n",
    "TWEETS_DF_TESTING['Neutral_Score'] = standard_Neutral_Score_test\n",
    "TWEETS_DF_TESTING['Positive_Score'] = standard_Positive_Score_test\n",
    "\n",
    "# Dependant Variable\n",
    "TWEETS_DF_TESTING['stonk_pct_change'] = standard_y_test"
   ]
  },
  {
   "cell_type": "code",
   "execution_count": 36,
   "metadata": {},
   "outputs": [
    {
     "data": {
      "text/html": [
       "<div>\n",
       "<style scoped>\n",
       "    .dataframe tbody tr th:only-of-type {\n",
       "        vertical-align: middle;\n",
       "    }\n",
       "\n",
       "    .dataframe tbody tr th {\n",
       "        vertical-align: top;\n",
       "    }\n",
       "\n",
       "    .dataframe thead th {\n",
       "        text-align: right;\n",
       "    }\n",
       "</style>\n",
       "<table border=\"1\" class=\"dataframe\">\n",
       "  <thead>\n",
       "    <tr style=\"text-align: right;\">\n",
       "      <th></th>\n",
       "      <th>nlikes</th>\n",
       "      <th>nreplies</th>\n",
       "      <th>nretweets</th>\n",
       "      <th>Negative_Score</th>\n",
       "      <th>Neutral_Score</th>\n",
       "      <th>Positive_Score</th>\n",
       "      <th>stonk_pct_change</th>\n",
       "    </tr>\n",
       "  </thead>\n",
       "  <tbody>\n",
       "    <tr>\n",
       "      <th>0</th>\n",
       "      <td>-0.078847</td>\n",
       "      <td>-0.102872</td>\n",
       "      <td>-0.066503</td>\n",
       "      <td>-0.400268</td>\n",
       "      <td>-2.282218</td>\n",
       "      <td>3.098832</td>\n",
       "      <td>0.801458</td>\n",
       "    </tr>\n",
       "    <tr>\n",
       "      <th>1</th>\n",
       "      <td>-0.012983</td>\n",
       "      <td>-0.102872</td>\n",
       "      <td>0.399418</td>\n",
       "      <td>-0.400268</td>\n",
       "      <td>0.735836</td>\n",
       "      <td>-0.600154</td>\n",
       "      <td>0.801458</td>\n",
       "    </tr>\n",
       "    <tr>\n",
       "      <th>2</th>\n",
       "      <td>-0.078847</td>\n",
       "      <td>-0.102872</td>\n",
       "      <td>-0.066503</td>\n",
       "      <td>-0.400268</td>\n",
       "      <td>-2.497793</td>\n",
       "      <td>3.363046</td>\n",
       "      <td>0.801458</td>\n",
       "    </tr>\n",
       "    <tr>\n",
       "      <th>3</th>\n",
       "      <td>-0.078847</td>\n",
       "      <td>-0.102872</td>\n",
       "      <td>-0.066503</td>\n",
       "      <td>-0.400268</td>\n",
       "      <td>-0.163633</td>\n",
       "      <td>0.502253</td>\n",
       "      <td>0.801458</td>\n",
       "    </tr>\n",
       "    <tr>\n",
       "      <th>4</th>\n",
       "      <td>0.184610</td>\n",
       "      <td>1.182528</td>\n",
       "      <td>-0.066503</td>\n",
       "      <td>-0.400268</td>\n",
       "      <td>-0.981332</td>\n",
       "      <td>1.504442</td>\n",
       "      <td>0.801458</td>\n",
       "    </tr>\n",
       "  </tbody>\n",
       "</table>\n",
       "</div>"
      ],
      "text/plain": [
       "     nlikes  nreplies  nretweets  Negative_Score  Neutral_Score  \\\n",
       "0 -0.078847 -0.102872  -0.066503       -0.400268      -2.282218   \n",
       "1 -0.012983 -0.102872   0.399418       -0.400268       0.735836   \n",
       "2 -0.078847 -0.102872  -0.066503       -0.400268      -2.497793   \n",
       "3 -0.078847 -0.102872  -0.066503       -0.400268      -0.163633   \n",
       "4  0.184610  1.182528  -0.066503       -0.400268      -0.981332   \n",
       "\n",
       "   Positive_Score  stonk_pct_change  \n",
       "0        3.098832          0.801458  \n",
       "1       -0.600154          0.801458  \n",
       "2        3.363046          0.801458  \n",
       "3        0.502253          0.801458  \n",
       "4        1.504442          0.801458  "
      ]
     },
     "execution_count": 36,
     "metadata": {},
     "output_type": "execute_result"
    }
   ],
   "source": [
    "TWEETS_DF_TESTING.head()"
   ]
  },
  {
   "cell_type": "code",
   "execution_count": 37,
   "metadata": {},
   "outputs": [],
   "source": [
    "X_test = TWEETS_DF_TESTING.iloc[:, :-1]\n",
    "X_train = TWEETS_DF_TRAINING.iloc[:, :-1]"
   ]
  },
  {
   "cell_type": "markdown",
   "metadata": {},
   "source": [
    "# Building Classification Models on our dataset"
   ]
  },
  {
   "cell_type": "markdown",
   "metadata": {},
   "source": [
    "# Supervised Learning"
   ]
  },
  {
   "cell_type": "markdown",
   "metadata": {},
   "source": [
    "### Logistic Regression"
   ]
  },
  {
   "cell_type": "code",
   "execution_count": 94,
   "metadata": {},
   "outputs": [
    {
     "name": "stdout",
     "output_type": "stream",
     "text": [
      "Classification Report for Logistic Regression\n",
      "\n",
      "\n",
      "              precision    recall  f1-score   support\n",
      "\n",
      "     Bullish       0.40      0.05      0.10     28546\n",
      "     Bearish       0.61      0.95      0.74     44441\n",
      "\n",
      "    accuracy                           0.60     72987\n",
      "   macro avg       0.51      0.50      0.42     72987\n",
      "weighted avg       0.53      0.60      0.49     72987\n",
      "\n"
     ]
    },
    {
     "data": {
      "image/png": "[encoded data removed]",
      "text/plain": [
       "<Figure size 432x288 with 2 Axes>"
      ]
     },
     "metadata": {
      "needs_background": "light"
     },
     "output_type": "display_data"
    }
   ],
   "source": [
    "from sklearn.linear_model import LogisticRegression\n",
    "classifier = LogisticRegression()\n",
    "classifier.fit(X_train.values, y_train.values.ravel())\n",
    "\n",
    "# predict \n",
    "y_predicted = classifier.predict(X_test.values) \n",
    "\n",
    "#plot\n",
    "print(f\"Classification Report for Logistic Regression\\n\\n\")\n",
    "print(classification_report(y_test.values, y_predicted, target_names=['Bullish', 'Bearish']))\n",
    "plot_confusion_matrix(classifier, X_test.values, y_test.values, cmap=plt.cm.Blues, display_labels=['Bullish', 'Bearish'])  \n",
    "plt.show()  "
   ]
  },
  {
   "cell_type": "code",
   "execution_count": 39,
   "metadata": {},
   "outputs": [
    {
     "name": "stdout",
     "output_type": "stream",
     "text": [
      "Accuracy: 52.93 %\n",
      "Standard Deviation: 0.48 %\n",
      "Best Accuracy: 52.96 %\n",
      "Best Parameters: {'C': 0.6, 'penalty': 'l2', 'solver': 'liblinear'}\n"
     ]
    }
   ],
   "source": [
    "from sklearn.model_selection import cross_val_score\n",
    "accuracies = cross_val_score(estimator = classifier, X = X_train.values, y = y_train.values.ravel(), cv = 10)\n",
    "print(\"Accuracy: {:.2f} %\".format(accuracies.mean()*100))\n",
    "print(\"Standard Deviation: {:.2f} %\".format(accuracies.std()*100))\n",
    "\n",
    "from sklearn.model_selection import GridSearchCV\n",
    "parameters = [{'penalty': ['l1', 'l2', 'elasticnet'], 'C': [0.2, 0.4, 0.6, 0.8, 1.0, 10], \\\n",
    "               'solver': ['newton-cg', 'lbfgs', 'liblinear', 'sag', 'saga']}]\n",
    "grid_search = GridSearchCV(estimator = classifier,\n",
    "                           param_grid = parameters,\n",
    "                           scoring = 'accuracy',\n",
    "                           cv = 5,\n",
    "                           n_jobs = -1)\n",
    "grid_search.fit(X_train.values, y_train.values.ravel())\n",
    "best_accuracy = grid_search.best_score_\n",
    "best_parameters = grid_search.best_params_\n",
    "print(\"Best Accuracy: {:.2f} %\".format(best_accuracy*100))\n",
    "print(\"Best Parameters:\", best_parameters)"
   ]
  },
  {
   "cell_type": "markdown",
   "metadata": {},
   "source": [
    "## K-Nearest-Neighbors (KNN)"
   ]
  },
  {
   "cell_type": "code",
   "execution_count": 40,
   "metadata": {},
   "outputs": [
    {
     "name": "stdout",
     "output_type": "stream",
     "text": [
      "Classification Report for K-Nearest-Neighbors\n",
      "\n",
      "\n",
      "              precision    recall  f1-score   support\n",
      "\n",
      "     Bullish       0.39      0.36      0.37     28546\n",
      "     Bearish       0.61      0.64      0.62     44441\n",
      "\n",
      "    accuracy                           0.53     72987\n",
      "   macro avg       0.50      0.50      0.50     72987\n",
      "weighted avg       0.52      0.53      0.52     72987\n",
      "\n"
     ]
    },
    {
     "data": {
      "image/png": "[encoded data removed]",
      "text/plain": [
       "<Figure size 432x288 with 2 Axes>"
      ]
     },
     "metadata": {
      "needs_background": "light"
     },
     "output_type": "display_data"
    }
   ],
   "source": [
    "from sklearn.neighbors import KNeighborsClassifier\n",
    "classifier = KNeighborsClassifier(n_neighbors = 5, metric = 'minkowski', p = 2)\n",
    "classifier.fit(X_train.values, y_train.values.ravel())\n",
    "\n",
    "# predict \n",
    "y_predicted = classifier.predict(X_test.values) \n",
    "\n",
    "#plot\n",
    "print(f\"Classification Report for K-Nearest-Neighbors\\n\\n\")\n",
    "print(classification_report(y_test.values, y_predicted, target_names=['Bullish', 'Bearish']))\n",
    "plot_confusion_matrix(classifier, X_test.values, y_test.values, cmap=plt.cm.Blues, display_labels=['Bullish', 'Bearish'])  \n",
    "plt.show()  "
   ]
  },
  {
   "cell_type": "code",
   "execution_count": 41,
   "metadata": {},
   "outputs": [
    {
     "name": "stdout",
     "output_type": "stream",
     "text": [
      "Accuracy: 51.56 %\n",
      "Standard Deviation: 1.55 %\n",
      "Best Accuracy: 51.68 %\n",
      "Best Parameters: {'algorithm': 'ball_tree', 'n_neighbors': 20, 'weights': 'distance'}\n"
     ]
    }
   ],
   "source": [
    "from sklearn.model_selection import cross_val_score\n",
    "accuracies = cross_val_score(estimator = classifier, X = X_train.values, y = y_train.values.ravel(), cv = 10)\n",
    "print(\"Accuracy: {:.2f} %\".format(accuracies.mean()*100))\n",
    "print(\"Standard Deviation: {:.2f} %\".format(accuracies.std()*100))\n",
    "\n",
    "from sklearn.model_selection import GridSearchCV\n",
    "parameters = [{'n_neighbors': [5, 10, 20], 'weights': ['uniform', 'distance'], \\\n",
    "              'algorithm': ['auto', 'ball_tree', 'kd_tree', 'brute']}]\n",
    "grid_search = GridSearchCV(estimator = classifier,\n",
    "                           param_grid = parameters,\n",
    "                           scoring = 'accuracy',\n",
    "                           cv = 5,\n",
    "                           n_jobs = -1)\n",
    "grid_search.fit(X_train.values, y_train.values.ravel())\n",
    "best_accuracy = grid_search.best_score_\n",
    "best_parameters = grid_search.best_params_\n",
    "print(\"Best Accuracy: {:.2f} %\".format(best_accuracy*100))\n",
    "print(\"Best Parameters:\", best_parameters)"
   ]
  },
  {
   "cell_type": "markdown",
   "metadata": {},
   "source": [
    "## Kernel SVM"
   ]
  },
  {
   "cell_type": "code",
   "execution_count": 42,
   "metadata": {},
   "outputs": [
    {
     "name": "stdout",
     "output_type": "stream",
     "text": [
      "Classification Report for Kernel SVM\n",
      "\n",
      "\n",
      "              precision    recall  f1-score   support\n",
      "\n",
      "     Bullish       0.42      0.10      0.16     28546\n",
      "     Bearish       0.61      0.91      0.73     44441\n",
      "\n",
      "    accuracy                           0.59     72987\n",
      "   macro avg       0.51      0.50      0.45     72987\n",
      "weighted avg       0.54      0.59      0.51     72987\n",
      "\n"
     ]
    },
    {
     "data": {
      "image/png": "[encoded data removed]",
      "text/plain": [
       "<Figure size 432x288 with 2 Axes>"
      ]
     },
     "metadata": {
      "needs_background": "light"
     },
     "output_type": "display_data"
    }
   ],
   "source": [
    "from sklearn.svm import SVC\n",
    "classifier = SVC(kernel = 'rbf', random_state = 0)\n",
    "classifier.fit(X_train, y_train.values.ravel())\n",
    "\n",
    "# predict \n",
    "y_predicted = classifier.predict(X_test) \n",
    "\n",
    "#plot\n",
    "print(f\"Classification Report for Kernel SVM\\n\\n\")\n",
    "print(classification_report(y_test.values, y_predicted, target_names=['Bullish', 'Bearish']))\n",
    "plot_confusion_matrix(classifier, X_test.values, y_test.values, cmap=plt.cm.Blues, display_labels=['Bullish', 'Bearish'])  \n",
    "plt.show()  "
   ]
  },
  {
   "cell_type": "code",
   "execution_count": 43,
   "metadata": {},
   "outputs": [],
   "source": [
    "# from sklearn.model_selection import cross_val_score\n",
    "# accuracies = cross_val_score(estimator = classifier, X = X_train.values, y = y_train.values.ravel(), cv = 10)\n",
    "# print(\"Accuracy: {:.2f} %\".format(accuracies.mean()*100))\n",
    "# print(\"Standard Deviation: {:.2f} %\".format(accuracies.std()*100))\n",
    "\n",
    "# # from sklearn.model_selection import GridSearchCV\n",
    "# # parameters = [{'C': [0.2, 0.5, 1.0, 10.0], 'kernel': ['linear', 'rbf', 'sigmoid', 'precomputed']}, \\\n",
    "# #               {'C': [0.2, 0.5, 1.0, 10.0], 'kernel': ['poly'], 'degree': [2, 3, 4]}]\n",
    "# # grid_search = GridSearchCV(estimator = classifier,\n",
    "# #                            param_grid = parameters,\n",
    "# #                            scoring = 'accuracy',\n",
    "# #                            cv = 5,\n",
    "# #                            n_jobs = -1)\n",
    "# # grid_search.fit(X_train.values, y_train.values.ravel())\n",
    "# # best_accuracy = grid_search.best_score_\n",
    "# # best_parameters = grid_search.best_params_\n",
    "# # print(\"Best Accuracy: {:.2f} %\".format(best_accuracy*100))\n",
    "# # print(\"Best Parameters:\", best_parameters)"
   ]
  },
  {
   "cell_type": "markdown",
   "metadata": {},
   "source": [
    "## Naive Bayes"
   ]
  },
  {
   "cell_type": "code",
   "execution_count": 44,
   "metadata": {},
   "outputs": [
    {
     "name": "stdout",
     "output_type": "stream",
     "text": [
      "Classification Report for Naive Bayes\n",
      "\n",
      "\n",
      "              precision    recall  f1-score   support\n",
      "\n",
      "     Bullish       0.39      0.92      0.55     28546\n",
      "     Bearish       0.63      0.08      0.15     44441\n",
      "\n",
      "    accuracy                           0.41     72987\n",
      "   macro avg       0.51      0.50      0.35     72987\n",
      "weighted avg       0.53      0.41      0.31     72987\n",
      "\n"
     ]
    },
    {
     "data": {
      "image/png": "[encoded data removed]",
      "text/plain": [
       "<Figure size 432x288 with 2 Axes>"
      ]
     },
     "metadata": {
      "needs_background": "light"
     },
     "output_type": "display_data"
    }
   ],
   "source": [
    "from sklearn.naive_bayes import GaussianNB\n",
    "classifier = GaussianNB()\n",
    "classifier.fit(X_train.values, y_train.values.ravel())\n",
    "\n",
    "# predict \n",
    "y_predicted = classifier.predict(X_test.values) \n",
    "\n",
    "#plot\n",
    "print(f\"Classification Report for Naive Bayes\\n\\n\")\n",
    "print(classification_report(y_test.values, y_predicted, target_names=['Bullish', 'Bearish']))\n",
    "plot_confusion_matrix(classifier, X_test.values, y_test.values, cmap=plt.cm.Blues, display_labels=['Bullish', 'Bearish'])  \n",
    "plt.show()  "
   ]
  },
  {
   "cell_type": "code",
   "execution_count": 45,
   "metadata": {},
   "outputs": [
    {
     "name": "stdout",
     "output_type": "stream",
     "text": [
      "Classification Report for Naive Bayes\n",
      "\n",
      "\n",
      "              precision    recall  f1-score   support\n",
      "\n",
      "     Bullish       0.42      0.13      0.20     28546\n",
      "     Bearish       0.61      0.88      0.72     44441\n",
      "\n",
      "    accuracy                           0.59     72987\n",
      "   macro avg       0.52      0.51      0.46     72987\n",
      "weighted avg       0.54      0.59      0.52     72987\n",
      "\n"
     ]
    },
    {
     "data": {
      "image/png": "[encoded data removed]",
      "text/plain": [
       "<Figure size 432x288 with 2 Axes>"
      ]
     },
     "metadata": {
      "needs_background": "light"
     },
     "output_type": "display_data"
    }
   ],
   "source": [
    "from sklearn.naive_bayes import BernoulliNB\n",
    "classifier = BernoulliNB()\n",
    "classifier.fit(X_train.values, y_train.values.ravel())\n",
    "\n",
    "# predict \n",
    "y_predicted = classifier.predict(X_test.values) \n",
    "\n",
    "#plot\n",
    "print(f\"Classification Report for Naive Bayes\\n\\n\")\n",
    "print(classification_report(y_test.values, y_predicted, target_names=['Bullish', 'Bearish']))\n",
    "plot_confusion_matrix(classifier, X_test.values, y_test.values, cmap=plt.cm.Blues, display_labels=['Bullish', 'Bearish'])  \n",
    "plt.show()  "
   ]
  },
  {
   "cell_type": "code",
   "execution_count": 46,
   "metadata": {},
   "outputs": [
    {
     "name": "stdout",
     "output_type": "stream",
     "text": [
      "Accuracy: 52.73 %\n",
      "Standard Deviation: 0.67 %\n",
      "Best Accuracy: 52.64 %\n",
      "Best Parameters: {'alpha': 0.0}\n"
     ]
    },
    {
     "name": "stderr",
     "output_type": "stream",
     "text": [
      "/Users/Roy/opt/anaconda3/envs/tensorflow_env/lib/python3.7/site-packages/sklearn/naive_bayes.py:512: UserWarning: alpha too small will result in numeric errors, setting alpha = 1.0e-10\n",
      "  'setting alpha = %.1e' % _ALPHA_MIN)\n"
     ]
    }
   ],
   "source": [
    "from sklearn.model_selection import cross_val_score\n",
    "accuracies = cross_val_score(estimator = classifier, X = X_train.values, y = y_train.values.ravel(), cv = 10)\n",
    "print(\"Accuracy: {:.2f} %\".format(accuracies.mean()*100))\n",
    "print(\"Standard Deviation: {:.2f} %\".format(accuracies.std()*100))\n",
    "\n",
    "from sklearn.model_selection import GridSearchCV\n",
    "parameters = [{'alpha': [0.0, 0.2, 0.5, 1.0]}]\n",
    "grid_search = GridSearchCV(estimator = classifier,\n",
    "                           param_grid = parameters,\n",
    "                           scoring = 'accuracy',\n",
    "                           cv = 5,\n",
    "                           n_jobs = -1)\n",
    "grid_search.fit(X_train.values, y_train.values.ravel())\n",
    "best_accuracy = grid_search.best_score_\n",
    "best_parameters = grid_search.best_params_\n",
    "print(\"Best Accuracy: {:.2f} %\".format(best_accuracy*100))\n",
    "print(\"Best Parameters:\", best_parameters)"
   ]
  },
  {
   "cell_type": "markdown",
   "metadata": {},
   "source": [
    "## Decision Tree Classification"
   ]
  },
  {
   "cell_type": "code",
   "execution_count": 47,
   "metadata": {},
   "outputs": [
    {
     "name": "stdout",
     "output_type": "stream",
     "text": [
      "Classification Report for Decision Tree Classification\n",
      "\n",
      "\n",
      "              precision    recall  f1-score   support\n",
      "\n",
      "     Bullish       0.41      0.24      0.30     28546\n",
      "     Bearish       0.62      0.79      0.69     44441\n",
      "\n",
      "    accuracy                           0.57     72987\n",
      "   macro avg       0.52      0.51      0.50     72987\n",
      "weighted avg       0.54      0.57      0.54     72987\n",
      "\n"
     ]
    },
    {
     "data": {
      "image/png": "[encoded data removed]",
      "text/plain": [
       "<Figure size 432x288 with 2 Axes>"
      ]
     },
     "metadata": {
      "needs_background": "light"
     },
     "output_type": "display_data"
    }
   ],
   "source": [
    "from sklearn.tree import DecisionTreeClassifier\n",
    "classifier = DecisionTreeClassifier(criterion = 'entropy', random_state = 0)\n",
    "classifier.fit(X_train.values, y_train.values.ravel())\n",
    "\n",
    "# predict \n",
    "y_predicted = classifier.predict(X_test.values) \n",
    "\n",
    "#plot\n",
    "print(f\"Classification Report for Decision Tree Classification\\n\\n\")\n",
    "print(classification_report(y_test.values, y_predicted, target_names=['Bullish', 'Bearish']))\n",
    "plot_confusion_matrix(classifier, X_test.values, y_test.values, cmap=plt.cm.Blues, display_labels=['Bullish', 'Bearish'])  \n",
    "plt.show()  "
   ]
  },
  {
   "cell_type": "markdown",
   "metadata": {},
   "source": [
    "## Random Forest Classification"
   ]
  },
  {
   "cell_type": "code",
   "execution_count": 48,
   "metadata": {},
   "outputs": [
    {
     "name": "stdout",
     "output_type": "stream",
     "text": [
      "Classification Report for Random Forest Classification\n",
      "\n",
      "\n",
      "              precision    recall  f1-score   support\n",
      "\n",
      "     Bullish       0.41      0.23      0.29     28546\n",
      "     Bearish       0.61      0.79      0.69     44441\n",
      "\n",
      "    accuracy                           0.57     72987\n",
      "   macro avg       0.51      0.51      0.49     72987\n",
      "weighted avg       0.53      0.57      0.54     72987\n",
      "\n"
     ]
    },
    {
     "data": {
      "image/png": "[encoded data removed]",
      "text/plain": [
       "<Figure size 432x288 with 2 Axes>"
      ]
     },
     "metadata": {
      "needs_background": "light"
     },
     "output_type": "display_data"
    }
   ],
   "source": [
    "from sklearn.ensemble import RandomForestClassifier\n",
    "classifier = RandomForestClassifier(n_estimators = 10, criterion = 'entropy', random_state = 0)\n",
    "classifier.fit(X_train.values, y_train.values.ravel())\n",
    "\n",
    "# predict \n",
    "y_predicted = classifier.predict(X_test) \n",
    "\n",
    "#plot\n",
    "print(f\"Classification Report for Random Forest Classification\\n\\n\")\n",
    "print(classification_report(y_test.values, y_predicted, target_names=['Bullish', 'Bearish']))\n",
    "plot_confusion_matrix(classifier, X_test.values, y_test.values, cmap=plt.cm.Blues, display_labels=['Bullish', 'Bearish'])  \n",
    "plt.show()  "
   ]
  },
  {
   "cell_type": "code",
   "execution_count": 49,
   "metadata": {},
   "outputs": [
    {
     "name": "stdout",
     "output_type": "stream",
     "text": [
      "Accuracy: 52.70 %\n",
      "Standard Deviation: 2.46 %\n",
      "Best Accuracy: 52.20 %\n",
      "Best Parameters: {'criterion': 'gini', 'n_estimators': 20}\n"
     ]
    }
   ],
   "source": [
    "from sklearn.model_selection import cross_val_score\n",
    "accuracies = cross_val_score(estimator = classifier, X = X_train.values, y = y_train.values.ravel(), cv = 10)\n",
    "print(\"Accuracy: {:.2f} %\".format(accuracies.mean()*100))\n",
    "print(\"Standard Deviation: {:.2f} %\".format(accuracies.std()*100))\n",
    "\n",
    "from sklearn.model_selection import GridSearchCV\n",
    "parameters = [{'n_estimators': [2, 4, 8, 16, 20], 'criterion': ['entropy', 'gini']}]\n",
    "grid_search = GridSearchCV(estimator = classifier,\n",
    "                           param_grid = parameters,\n",
    "                           scoring = 'accuracy',\n",
    "                           cv = 5,\n",
    "                           n_jobs = -1)\n",
    "grid_search.fit(X_train.values, y_train.values.ravel())\n",
    "best_accuracy = grid_search.best_score_\n",
    "best_parameters = grid_search.best_params_\n",
    "print(\"Best Accuracy: {:.2f} %\".format(best_accuracy*100))\n",
    "print(\"Best Parameters:\", best_parameters)"
   ]
  },
  {
   "cell_type": "markdown",
   "metadata": {},
   "source": [
    "## Neural Network"
   ]
  },
  {
   "cell_type": "code",
   "execution_count": 50,
   "metadata": {},
   "outputs": [],
   "source": [
    "import tensorflow as tf\n",
    "import keras\n",
    "from keras.models import Sequential\n",
    "from keras.layers import LSTM, Dense, Dropout, Activation, Conv2D, MaxPooling2D, Flatten\n"
   ]
  },
  {
   "cell_type": "code",
   "execution_count": 51,
   "metadata": {},
   "outputs": [],
   "source": [
    "# X_test = TWEETS_DF_TESTING.iloc[:, :-1]\n",
    "# X_train = TWEETS_DF_TRAINING.iloc[:, :-1]"
   ]
  },
  {
   "cell_type": "code",
   "execution_count": 52,
   "metadata": {},
   "outputs": [
    {
     "name": "stdout",
     "output_type": "stream",
     "text": [
      "Epoch 1/10\n",
      "2771/2771 [==============================] - 34s 12ms/step - loss: 0.6918 - accuracy: 0.5278 - precision: 0.5279 - recall: 0.9977\n",
      "Epoch 2/10\n",
      "2771/2771 [==============================] - 33s 12ms/step - loss: 0.6913 - accuracy: 0.5283 - precision: 0.5293 - recall: 0.9621\n",
      "Epoch 3/10\n",
      "2771/2771 [==============================] - 38s 14ms/step - loss: 0.6913 - accuracy: 0.5288 - precision: 0.5303 - recall: 0.9404\n",
      "Epoch 4/10\n",
      "2771/2771 [==============================] - 34s 12ms/step - loss: 0.6912 - accuracy: 0.5297 - precision: 0.5309 - recall: 0.9364\n",
      "Epoch 5/10\n",
      "2771/2771 [==============================] - 33s 12ms/step - loss: 0.6912 - accuracy: 0.5297 - precision: 0.5314 - recall: 0.9227\n",
      "Epoch 6/10\n",
      "2771/2771 [==============================] - 34s 12ms/step - loss: 0.6912 - accuracy: 0.5298 - precision: 0.5317 - recall: 0.9181\n",
      "Epoch 7/10\n",
      "2771/2771 [==============================] - 36s 13ms/step - loss: 0.6911 - accuracy: 0.5301 - precision: 0.5321 - recall: 0.9111\n",
      "Epoch 8/10\n",
      "2771/2771 [==============================] - 34s 12ms/step - loss: 0.6911 - accuracy: 0.5302 - precision: 0.5326 - recall: 0.8979\n",
      "Epoch 9/10\n",
      "2771/2771 [==============================] - 34s 12ms/step - loss: 0.6910 - accuracy: 0.5304 - precision: 0.5325 - recall: 0.9042\n",
      "Epoch 10/10\n",
      "2771/2771 [==============================] - 40s 15ms/step - loss: 0.6911 - accuracy: 0.5312 - precision: 0.5334 - recall: 0.8933\n"
     ]
    },
    {
     "data": {
      "text/plain": [
       "<tensorflow.python.keras.callbacks.History at 0x7fa05fc0a9d0>"
      ]
     },
     "execution_count": 52,
     "metadata": {},
     "output_type": "execute_result"
    }
   ],
   "source": [
    "#reshape as correct shape for input LSTM model\n",
    "X_train_ = np.reshape(X_train.values, (X_train.values.shape[0], X_train.values.shape[1], 1))\n",
    "\n",
    "nn = Sequential()\n",
    "nn.add(LSTM(units = 128, activation='relu', return_sequences = True, input_shape=(X_train_.shape[1], 1)))\n",
    "nn.add(Dropout(0.2))\n",
    "nn.add(LSTM(units = 128, activation='relu', return_sequences = True))\n",
    "nn.add(Dropout(0.2))\n",
    "nn.add(LSTM(units = 64, activation='relu', return_sequences = False))\n",
    "nn.add(Flatten())\n",
    "#output one value (Dense layer)\n",
    "nn.add(Dense(units=1, activation='sigmoid')) \n",
    "\n",
    "nn.compile(optimizer='adam', loss='binary_crossentropy', metrics=['accuracy', 'Precision', 'Recall'])\n",
    "\n",
    "# nn.save('tweet_prediction.h5')\n",
    "nn.fit(X_train_, y_train, epochs=10, batch_size=64)"
   ]
  },
  {
   "cell_type": "code",
   "execution_count": 53,
   "metadata": {},
   "outputs": [
    {
     "name": "stdout",
     "output_type": "stream",
     "text": [
      "2281/2281 [==============================] - 7s 3ms/step - loss: 0.6794 - accuracy: 0.5951 - precision: 0.6108 - recall: 0.9231\n",
      "Test loss: 0.6793832778930664\n",
      "Test accuracy: 0.5950511693954468\n",
      "Test precision: 0.6108124852180481\n",
      "Test recall: 0.9231115579605103\n"
     ]
    }
   ],
   "source": [
    "X_test_ = np.reshape(X_test.values, (X_test.values.shape[0], X_test.values.shape[1], 1))\n",
    "test_loss, test_acc, test_prec, test_rec = nn.evaluate(X_test_, y_test.values)\n",
    "print('Test loss:', test_loss)\n",
    "print('Test accuracy:', test_acc)\n",
    "print('Test precision:', test_prec)\n",
    "print('Test recall:', test_rec)"
   ]
  },
  {
   "cell_type": "code",
   "execution_count": 54,
   "metadata": {},
   "outputs": [
    {
     "data": {
      "text/plain": [
       "array([[1.],\n",
       "       [1.],\n",
       "       [1.],\n",
       "       ...,\n",
       "       [1.],\n",
       "       [1.],\n",
       "       [1.]], dtype=float32)"
      ]
     },
     "execution_count": 54,
     "metadata": {},
     "output_type": "execute_result"
    }
   ],
   "source": [
    "# predict \n",
    "y_predicted = nn.predict(X_test_)\n",
    "\n",
    "# round predictions \n",
    "y_predicted = np.array([[round(x[0]) for x in y_predicted]]).reshape(-1,1)\n",
    "y_predicted"
   ]
  },
  {
   "cell_type": "code",
   "execution_count": 55,
   "metadata": {},
   "outputs": [],
   "source": [
    "# #plot\n",
    "# print(f\"Classification Report for Classification Neural Network\\n\\n\")\n",
    "# print(classification_report(y_test.values, y_predicted, target_names=['Bullish', 'Bearish']))\n",
    "# # plot_confusion_matrix(nn, X_test.values, y_test.values, cmap=plt.cm.Blues, display_labels=['Bullish', 'Bearish'])  \n",
    "# # plt.show()  "
   ]
  },
  {
   "cell_type": "code",
   "execution_count": 61,
   "metadata": {},
   "outputs": [
    {
     "data": {
      "text/plain": [
       "0         2020-12-29 18:53:03\n",
       "1         2020-12-29 17:53:19\n",
       "2         2020-12-29 17:36:30\n",
       "3         2020-12-29 17:20:05\n",
       "4         2020-12-29 17:14:16\n",
       "                 ...         \n",
       "250300    2016-01-25 22:40:56\n",
       "250301    2016-01-25 22:01:21\n",
       "250302    2016-01-25 21:24:22\n",
       "250303    2016-01-25 21:04:16\n",
       "250304    2016-01-25 20:51:43\n",
       "Name: date, Length: 250305, dtype: object"
      ]
     },
     "execution_count": 61,
     "metadata": {},
     "output_type": "execute_result"
    }
   ],
   "source": [
    "TWEETS_DF['date']"
   ]
  },
  {
   "cell_type": "code",
   "execution_count": 90,
   "metadata": {},
   "outputs": [
    {
     "data": {
      "text/html": [
       "<div>\n",
       "<style scoped>\n",
       "    .dataframe tbody tr th:only-of-type {\n",
       "        vertical-align: middle;\n",
       "    }\n",
       "\n",
       "    .dataframe tbody tr th {\n",
       "        vertical-align: top;\n",
       "    }\n",
       "\n",
       "    .dataframe thead th {\n",
       "        text-align: right;\n",
       "    }\n",
       "</style>\n",
       "<table border=\"1\" class=\"dataframe\">\n",
       "  <thead>\n",
       "    <tr style=\"text-align: right;\">\n",
       "      <th></th>\n",
       "      <th>date</th>\n",
       "    </tr>\n",
       "  </thead>\n",
       "  <tbody>\n",
       "    <tr>\n",
       "      <th>0</th>\n",
       "      <td>2020-12-29 18:53:03</td>\n",
       "    </tr>\n",
       "    <tr>\n",
       "      <th>1</th>\n",
       "      <td>2020-12-29 17:53:19</td>\n",
       "    </tr>\n",
       "    <tr>\n",
       "      <th>2</th>\n",
       "      <td>2020-12-29 17:36:30</td>\n",
       "    </tr>\n",
       "    <tr>\n",
       "      <th>3</th>\n",
       "      <td>2020-12-29 17:20:05</td>\n",
       "    </tr>\n",
       "    <tr>\n",
       "      <th>4</th>\n",
       "      <td>2020-12-29 17:14:16</td>\n",
       "    </tr>\n",
       "    <tr>\n",
       "      <th>...</th>\n",
       "      <td>...</td>\n",
       "    </tr>\n",
       "    <tr>\n",
       "      <th>72982</th>\n",
       "      <td>2020-02-03 16:21:11</td>\n",
       "    </tr>\n",
       "    <tr>\n",
       "      <th>72983</th>\n",
       "      <td>2020-02-03 16:19:26</td>\n",
       "    </tr>\n",
       "    <tr>\n",
       "      <th>72984</th>\n",
       "      <td>2020-02-03 16:17:58</td>\n",
       "    </tr>\n",
       "    <tr>\n",
       "      <th>72985</th>\n",
       "      <td>2020-02-03 16:17:30</td>\n",
       "    </tr>\n",
       "    <tr>\n",
       "      <th>72986</th>\n",
       "      <td>2020-02-03 16:17:26</td>\n",
       "    </tr>\n",
       "  </tbody>\n",
       "</table>\n",
       "<p>72987 rows × 1 columns</p>\n",
       "</div>"
      ],
      "text/plain": [
       "                      date\n",
       "0      2020-12-29 18:53:03\n",
       "1      2020-12-29 17:53:19\n",
       "2      2020-12-29 17:36:30\n",
       "3      2020-12-29 17:20:05\n",
       "4      2020-12-29 17:14:16\n",
       "...                    ...\n",
       "72982  2020-02-03 16:21:11\n",
       "72983  2020-02-03 16:19:26\n",
       "72984  2020-02-03 16:17:58\n",
       "72985  2020-02-03 16:17:30\n",
       "72986  2020-02-03 16:17:26\n",
       "\n",
       "[72987 rows x 1 columns]"
      ]
     },
     "execution_count": 90,
     "metadata": {},
     "output_type": "execute_result"
    }
   ],
   "source": [
    "df_predicted = pd.DataFrame(TWEETS_DF['date'][:i], columns=['date'])\n",
    "df_predicted"
   ]
  },
  {
   "cell_type": "code",
   "execution_count": 93,
   "metadata": {},
   "outputs": [
    {
     "data": {
      "text/html": [
       "<div>\n",
       "<style scoped>\n",
       "    .dataframe tbody tr th:only-of-type {\n",
       "        vertical-align: middle;\n",
       "    }\n",
       "\n",
       "    .dataframe tbody tr th {\n",
       "        vertical-align: top;\n",
       "    }\n",
       "\n",
       "    .dataframe thead th {\n",
       "        text-align: right;\n",
       "    }\n",
       "</style>\n",
       "<table border=\"1\" class=\"dataframe\">\n",
       "  <thead>\n",
       "    <tr style=\"text-align: right;\">\n",
       "      <th></th>\n",
       "      <th>date</th>\n",
       "      <th>nn_prediction</th>\n",
       "    </tr>\n",
       "  </thead>\n",
       "  <tbody>\n",
       "    <tr>\n",
       "      <th>0</th>\n",
       "      <td>2020-12-29 18:53:03</td>\n",
       "      <td>1.0</td>\n",
       "    </tr>\n",
       "    <tr>\n",
       "      <th>1</th>\n",
       "      <td>2020-12-29 17:53:19</td>\n",
       "      <td>1.0</td>\n",
       "    </tr>\n",
       "    <tr>\n",
       "      <th>2</th>\n",
       "      <td>2020-12-29 17:36:30</td>\n",
       "      <td>1.0</td>\n",
       "    </tr>\n",
       "    <tr>\n",
       "      <th>3</th>\n",
       "      <td>2020-12-29 17:20:05</td>\n",
       "      <td>1.0</td>\n",
       "    </tr>\n",
       "    <tr>\n",
       "      <th>4</th>\n",
       "      <td>2020-12-29 17:14:16</td>\n",
       "      <td>1.0</td>\n",
       "    </tr>\n",
       "    <tr>\n",
       "      <th>...</th>\n",
       "      <td>...</td>\n",
       "      <td>...</td>\n",
       "    </tr>\n",
       "    <tr>\n",
       "      <th>72982</th>\n",
       "      <td>2020-02-03 16:21:11</td>\n",
       "      <td>1.0</td>\n",
       "    </tr>\n",
       "    <tr>\n",
       "      <th>72983</th>\n",
       "      <td>2020-02-03 16:19:26</td>\n",
       "      <td>1.0</td>\n",
       "    </tr>\n",
       "    <tr>\n",
       "      <th>72984</th>\n",
       "      <td>2020-02-03 16:17:58</td>\n",
       "      <td>1.0</td>\n",
       "    </tr>\n",
       "    <tr>\n",
       "      <th>72985</th>\n",
       "      <td>2020-02-03 16:17:30</td>\n",
       "      <td>1.0</td>\n",
       "    </tr>\n",
       "    <tr>\n",
       "      <th>72986</th>\n",
       "      <td>2020-02-03 16:17:26</td>\n",
       "      <td>1.0</td>\n",
       "    </tr>\n",
       "  </tbody>\n",
       "</table>\n",
       "<p>72987 rows × 2 columns</p>\n",
       "</div>"
      ],
      "text/plain": [
       "                      date  nn_prediction\n",
       "0      2020-12-29 18:53:03            1.0\n",
       "1      2020-12-29 17:53:19            1.0\n",
       "2      2020-12-29 17:36:30            1.0\n",
       "3      2020-12-29 17:20:05            1.0\n",
       "4      2020-12-29 17:14:16            1.0\n",
       "...                    ...            ...\n",
       "72982  2020-02-03 16:21:11            1.0\n",
       "72983  2020-02-03 16:19:26            1.0\n",
       "72984  2020-02-03 16:17:58            1.0\n",
       "72985  2020-02-03 16:17:30            1.0\n",
       "72986  2020-02-03 16:17:26            1.0\n",
       "\n",
       "[72987 rows x 2 columns]"
      ]
     },
     "execution_count": 93,
     "metadata": {},
     "output_type": "execute_result"
    }
   ],
   "source": [
    "df_predicted['nn_prediction'] = y_predicted\n",
    "df_predicted"
   ]
  },
  {
   "cell_type": "code",
   "execution_count": 95,
   "metadata": {},
   "outputs": [
    {
     "data": {
      "text/html": [
       "<div>\n",
       "<style scoped>\n",
       "    .dataframe tbody tr th:only-of-type {\n",
       "        vertical-align: middle;\n",
       "    }\n",
       "\n",
       "    .dataframe tbody tr th {\n",
       "        vertical-align: top;\n",
       "    }\n",
       "\n",
       "    .dataframe thead th {\n",
       "        text-align: right;\n",
       "    }\n",
       "</style>\n",
       "<table border=\"1\" class=\"dataframe\">\n",
       "  <thead>\n",
       "    <tr style=\"text-align: right;\">\n",
       "      <th></th>\n",
       "      <th>date</th>\n",
       "      <th>nn_prediction</th>\n",
       "      <th>lr_prediction</th>\n",
       "    </tr>\n",
       "  </thead>\n",
       "  <tbody>\n",
       "    <tr>\n",
       "      <th>0</th>\n",
       "      <td>2020-12-29 18:53:03</td>\n",
       "      <td>1.0</td>\n",
       "      <td>1.0</td>\n",
       "    </tr>\n",
       "    <tr>\n",
       "      <th>1</th>\n",
       "      <td>2020-12-29 17:53:19</td>\n",
       "      <td>1.0</td>\n",
       "      <td>1.0</td>\n",
       "    </tr>\n",
       "    <tr>\n",
       "      <th>2</th>\n",
       "      <td>2020-12-29 17:36:30</td>\n",
       "      <td>1.0</td>\n",
       "      <td>1.0</td>\n",
       "    </tr>\n",
       "    <tr>\n",
       "      <th>3</th>\n",
       "      <td>2020-12-29 17:20:05</td>\n",
       "      <td>1.0</td>\n",
       "      <td>1.0</td>\n",
       "    </tr>\n",
       "    <tr>\n",
       "      <th>4</th>\n",
       "      <td>2020-12-29 17:14:16</td>\n",
       "      <td>1.0</td>\n",
       "      <td>1.0</td>\n",
       "    </tr>\n",
       "    <tr>\n",
       "      <th>...</th>\n",
       "      <td>...</td>\n",
       "      <td>...</td>\n",
       "      <td>...</td>\n",
       "    </tr>\n",
       "    <tr>\n",
       "      <th>72982</th>\n",
       "      <td>2020-02-03 16:21:11</td>\n",
       "      <td>1.0</td>\n",
       "      <td>1.0</td>\n",
       "    </tr>\n",
       "    <tr>\n",
       "      <th>72983</th>\n",
       "      <td>2020-02-03 16:19:26</td>\n",
       "      <td>1.0</td>\n",
       "      <td>1.0</td>\n",
       "    </tr>\n",
       "    <tr>\n",
       "      <th>72984</th>\n",
       "      <td>2020-02-03 16:17:58</td>\n",
       "      <td>1.0</td>\n",
       "      <td>1.0</td>\n",
       "    </tr>\n",
       "    <tr>\n",
       "      <th>72985</th>\n",
       "      <td>2020-02-03 16:17:30</td>\n",
       "      <td>1.0</td>\n",
       "      <td>1.0</td>\n",
       "    </tr>\n",
       "    <tr>\n",
       "      <th>72986</th>\n",
       "      <td>2020-02-03 16:17:26</td>\n",
       "      <td>1.0</td>\n",
       "      <td>1.0</td>\n",
       "    </tr>\n",
       "  </tbody>\n",
       "</table>\n",
       "<p>72987 rows × 3 columns</p>\n",
       "</div>"
      ],
      "text/plain": [
       "                      date  nn_prediction  lr_prediction\n",
       "0      2020-12-29 18:53:03            1.0            1.0\n",
       "1      2020-12-29 17:53:19            1.0            1.0\n",
       "2      2020-12-29 17:36:30            1.0            1.0\n",
       "3      2020-12-29 17:20:05            1.0            1.0\n",
       "4      2020-12-29 17:14:16            1.0            1.0\n",
       "...                    ...            ...            ...\n",
       "72982  2020-02-03 16:21:11            1.0            1.0\n",
       "72983  2020-02-03 16:19:26            1.0            1.0\n",
       "72984  2020-02-03 16:17:58            1.0            1.0\n",
       "72985  2020-02-03 16:17:30            1.0            1.0\n",
       "72986  2020-02-03 16:17:26            1.0            1.0\n",
       "\n",
       "[72987 rows x 3 columns]"
      ]
     },
     "execution_count": 95,
     "metadata": {},
     "output_type": "execute_result"
    }
   ],
   "source": [
    "df_predicted['lr_prediction'] = y_predicted\n",
    "df_predicted"
   ]
  },
  {
   "cell_type": "code",
   "execution_count": 105,
   "metadata": {},
   "outputs": [],
   "source": [
    "df_predicted['stonk_pct_change'] = y_test"
   ]
  },
  {
   "cell_type": "code",
   "execution_count": 106,
   "metadata": {},
   "outputs": [
    {
     "data": {
      "text/html": [
       "<div>\n",
       "<style scoped>\n",
       "    .dataframe tbody tr th:only-of-type {\n",
       "        vertical-align: middle;\n",
       "    }\n",
       "\n",
       "    .dataframe tbody tr th {\n",
       "        vertical-align: top;\n",
       "    }\n",
       "\n",
       "    .dataframe thead th {\n",
       "        text-align: right;\n",
       "    }\n",
       "</style>\n",
       "<table border=\"1\" class=\"dataframe\">\n",
       "  <thead>\n",
       "    <tr style=\"text-align: right;\">\n",
       "      <th></th>\n",
       "      <th>date</th>\n",
       "      <th>nn_prediction</th>\n",
       "      <th>lr_prediction</th>\n",
       "      <th>stonk_pct_change</th>\n",
       "    </tr>\n",
       "  </thead>\n",
       "  <tbody>\n",
       "    <tr>\n",
       "      <th>0</th>\n",
       "      <td>2020-12-29 18:53:03</td>\n",
       "      <td>1.0</td>\n",
       "      <td>1.0</td>\n",
       "      <td>1.0</td>\n",
       "    </tr>\n",
       "    <tr>\n",
       "      <th>1</th>\n",
       "      <td>2020-12-29 17:53:19</td>\n",
       "      <td>1.0</td>\n",
       "      <td>1.0</td>\n",
       "      <td>1.0</td>\n",
       "    </tr>\n",
       "    <tr>\n",
       "      <th>2</th>\n",
       "      <td>2020-12-29 17:36:30</td>\n",
       "      <td>1.0</td>\n",
       "      <td>1.0</td>\n",
       "      <td>1.0</td>\n",
       "    </tr>\n",
       "    <tr>\n",
       "      <th>3</th>\n",
       "      <td>2020-12-29 17:20:05</td>\n",
       "      <td>1.0</td>\n",
       "      <td>1.0</td>\n",
       "      <td>1.0</td>\n",
       "    </tr>\n",
       "    <tr>\n",
       "      <th>4</th>\n",
       "      <td>2020-12-29 17:14:16</td>\n",
       "      <td>1.0</td>\n",
       "      <td>1.0</td>\n",
       "      <td>1.0</td>\n",
       "    </tr>\n",
       "    <tr>\n",
       "      <th>...</th>\n",
       "      <td>...</td>\n",
       "      <td>...</td>\n",
       "      <td>...</td>\n",
       "      <td>...</td>\n",
       "    </tr>\n",
       "    <tr>\n",
       "      <th>72982</th>\n",
       "      <td>2020-02-03 16:21:11</td>\n",
       "      <td>1.0</td>\n",
       "      <td>1.0</td>\n",
       "      <td>1.0</td>\n",
       "    </tr>\n",
       "    <tr>\n",
       "      <th>72983</th>\n",
       "      <td>2020-02-03 16:19:26</td>\n",
       "      <td>1.0</td>\n",
       "      <td>1.0</td>\n",
       "      <td>1.0</td>\n",
       "    </tr>\n",
       "    <tr>\n",
       "      <th>72984</th>\n",
       "      <td>2020-02-03 16:17:58</td>\n",
       "      <td>1.0</td>\n",
       "      <td>1.0</td>\n",
       "      <td>1.0</td>\n",
       "    </tr>\n",
       "    <tr>\n",
       "      <th>72985</th>\n",
       "      <td>2020-02-03 16:17:30</td>\n",
       "      <td>1.0</td>\n",
       "      <td>1.0</td>\n",
       "      <td>1.0</td>\n",
       "    </tr>\n",
       "    <tr>\n",
       "      <th>72986</th>\n",
       "      <td>2020-02-03 16:17:26</td>\n",
       "      <td>1.0</td>\n",
       "      <td>1.0</td>\n",
       "      <td>1.0</td>\n",
       "    </tr>\n",
       "  </tbody>\n",
       "</table>\n",
       "<p>72987 rows × 4 columns</p>\n",
       "</div>"
      ],
      "text/plain": [
       "                      date  nn_prediction  lr_prediction  stonk_pct_change\n",
       "0      2020-12-29 18:53:03            1.0            1.0               1.0\n",
       "1      2020-12-29 17:53:19            1.0            1.0               1.0\n",
       "2      2020-12-29 17:36:30            1.0            1.0               1.0\n",
       "3      2020-12-29 17:20:05            1.0            1.0               1.0\n",
       "4      2020-12-29 17:14:16            1.0            1.0               1.0\n",
       "...                    ...            ...            ...               ...\n",
       "72982  2020-02-03 16:21:11            1.0            1.0               1.0\n",
       "72983  2020-02-03 16:19:26            1.0            1.0               1.0\n",
       "72984  2020-02-03 16:17:58            1.0            1.0               1.0\n",
       "72985  2020-02-03 16:17:30            1.0            1.0               1.0\n",
       "72986  2020-02-03 16:17:26            1.0            1.0               1.0\n",
       "\n",
       "[72987 rows x 4 columns]"
      ]
     },
     "execution_count": 106,
     "metadata": {},
     "output_type": "execute_result"
    }
   ],
   "source": [
    "df_predicted"
   ]
  },
  {
   "cell_type": "code",
   "execution_count": 9,
   "metadata": {},
   "outputs": [
    {
     "data": {
      "text/html": [
       "<div>\n",
       "<style scoped>\n",
       "    .dataframe tbody tr th:only-of-type {\n",
       "        vertical-align: middle;\n",
       "    }\n",
       "\n",
       "    .dataframe tbody tr th {\n",
       "        vertical-align: top;\n",
       "    }\n",
       "\n",
       "    .dataframe thead th {\n",
       "        text-align: right;\n",
       "    }\n",
       "</style>\n",
       "<table border=\"1\" class=\"dataframe\">\n",
       "  <thead>\n",
       "    <tr style=\"text-align: right;\">\n",
       "      <th></th>\n",
       "      <th>Date</th>\n",
       "      <th>Ticker</th>\n",
       "      <th>y_true</th>\n",
       "      <th>y_predicted_dt</th>\n",
       "      <th>y_predicted_rf</th>\n",
       "    </tr>\n",
       "  </thead>\n",
       "  <tbody>\n",
       "    <tr>\n",
       "      <th>0</th>\n",
       "      <td>2020-03-28</td>\n",
       "      <td>AAPL</td>\n",
       "      <td>0</td>\n",
       "      <td>0</td>\n",
       "      <td>0</td>\n",
       "    </tr>\n",
       "    <tr>\n",
       "      <th>1</th>\n",
       "      <td>2020-06-27</td>\n",
       "      <td>AAPL</td>\n",
       "      <td>1</td>\n",
       "      <td>1</td>\n",
       "      <td>1</td>\n",
       "    </tr>\n",
       "    <tr>\n",
       "      <th>2</th>\n",
       "      <td>2020-09-26</td>\n",
       "      <td>AAPL</td>\n",
       "      <td>1</td>\n",
       "      <td>1</td>\n",
       "      <td>1</td>\n",
       "    </tr>\n",
       "    <tr>\n",
       "      <th>3</th>\n",
       "      <td>2020-03-31</td>\n",
       "      <td>TSLA</td>\n",
       "      <td>1</td>\n",
       "      <td>1</td>\n",
       "      <td>1</td>\n",
       "    </tr>\n",
       "    <tr>\n",
       "      <th>4</th>\n",
       "      <td>2020-06-30</td>\n",
       "      <td>TSLA</td>\n",
       "      <td>1</td>\n",
       "      <td>1</td>\n",
       "      <td>1</td>\n",
       "    </tr>\n",
       "    <tr>\n",
       "      <th>5</th>\n",
       "      <td>2020-09-30</td>\n",
       "      <td>TSLA</td>\n",
       "      <td>1</td>\n",
       "      <td>1</td>\n",
       "      <td>1</td>\n",
       "    </tr>\n",
       "    <tr>\n",
       "      <th>6</th>\n",
       "      <td>2020-12-31</td>\n",
       "      <td>TSLA</td>\n",
       "      <td>1</td>\n",
       "      <td>1</td>\n",
       "      <td>1</td>\n",
       "    </tr>\n",
       "  </tbody>\n",
       "</table>\n",
       "</div>"
      ],
      "text/plain": [
       "         Date Ticker  y_true  y_predicted_dt  y_predicted_rf\n",
       "0  2020-03-28   AAPL       0               0               0\n",
       "1  2020-06-27   AAPL       1               1               1\n",
       "2  2020-09-26   AAPL       1               1               1\n",
       "3  2020-03-31   TSLA       1               1               1\n",
       "4  2020-06-30   TSLA       1               1               1\n",
       "5  2020-09-30   TSLA       1               1               1\n",
       "6  2020-12-31   TSLA       1               1               1"
      ]
     },
     "execution_count": 9,
     "metadata": {},
     "output_type": "execute_result"
    }
   ],
   "source": [
    "df_regression = pd.read_csv('regression.csv')\n",
    "df_regression"
   ]
  },
  {
   "cell_type": "code",
   "execution_count": 10,
   "metadata": {},
   "outputs": [
    {
     "data": {
      "text/html": [
       "<div>\n",
       "<style scoped>\n",
       "    .dataframe tbody tr th:only-of-type {\n",
       "        vertical-align: middle;\n",
       "    }\n",
       "\n",
       "    .dataframe tbody tr th {\n",
       "        vertical-align: top;\n",
       "    }\n",
       "\n",
       "    .dataframe thead th {\n",
       "        text-align: right;\n",
       "    }\n",
       "</style>\n",
       "<table border=\"1\" class=\"dataframe\">\n",
       "  <thead>\n",
       "    <tr style=\"text-align: right;\">\n",
       "      <th></th>\n",
       "      <th>Date</th>\n",
       "      <th>AAPL_pct_change</th>\n",
       "      <th>NB_Ber_Predictions</th>\n",
       "      <th>Decision_Tree_Predictions</th>\n",
       "      <th>Stock</th>\n",
       "    </tr>\n",
       "  </thead>\n",
       "  <tbody>\n",
       "    <tr>\n",
       "      <th>0</th>\n",
       "      <td>12/31/2020</td>\n",
       "      <td>0</td>\n",
       "      <td>1</td>\n",
       "      <td>1</td>\n",
       "      <td>AAPL</td>\n",
       "    </tr>\n",
       "    <tr>\n",
       "      <th>1</th>\n",
       "      <td>12/31/2020</td>\n",
       "      <td>0</td>\n",
       "      <td>1</td>\n",
       "      <td>0</td>\n",
       "      <td>AAPL</td>\n",
       "    </tr>\n",
       "    <tr>\n",
       "      <th>2</th>\n",
       "      <td>12/31/2020</td>\n",
       "      <td>0</td>\n",
       "      <td>1</td>\n",
       "      <td>0</td>\n",
       "      <td>AAPL</td>\n",
       "    </tr>\n",
       "    <tr>\n",
       "      <th>3</th>\n",
       "      <td>12/31/2020</td>\n",
       "      <td>0</td>\n",
       "      <td>1</td>\n",
       "      <td>1</td>\n",
       "      <td>AAPL</td>\n",
       "    </tr>\n",
       "    <tr>\n",
       "      <th>4</th>\n",
       "      <td>12/31/2020</td>\n",
       "      <td>0</td>\n",
       "      <td>1</td>\n",
       "      <td>0</td>\n",
       "      <td>AAPL</td>\n",
       "    </tr>\n",
       "    <tr>\n",
       "      <th>...</th>\n",
       "      <td>...</td>\n",
       "      <td>...</td>\n",
       "      <td>...</td>\n",
       "      <td>...</td>\n",
       "      <td>...</td>\n",
       "    </tr>\n",
       "    <tr>\n",
       "      <th>443551</th>\n",
       "      <td>1/2/2020</td>\n",
       "      <td>1</td>\n",
       "      <td>0</td>\n",
       "      <td>1</td>\n",
       "      <td>TSLA</td>\n",
       "    </tr>\n",
       "    <tr>\n",
       "      <th>443552</th>\n",
       "      <td>1/2/2020</td>\n",
       "      <td>1</td>\n",
       "      <td>0</td>\n",
       "      <td>1</td>\n",
       "      <td>TSLA</td>\n",
       "    </tr>\n",
       "    <tr>\n",
       "      <th>443553</th>\n",
       "      <td>1/2/2020</td>\n",
       "      <td>1</td>\n",
       "      <td>1</td>\n",
       "      <td>1</td>\n",
       "      <td>TSLA</td>\n",
       "    </tr>\n",
       "    <tr>\n",
       "      <th>443554</th>\n",
       "      <td>1/2/2020</td>\n",
       "      <td>1</td>\n",
       "      <td>0</td>\n",
       "      <td>0</td>\n",
       "      <td>TSLA</td>\n",
       "    </tr>\n",
       "    <tr>\n",
       "      <th>443555</th>\n",
       "      <td>1/2/2020</td>\n",
       "      <td>1</td>\n",
       "      <td>0</td>\n",
       "      <td>1</td>\n",
       "      <td>TSLA</td>\n",
       "    </tr>\n",
       "  </tbody>\n",
       "</table>\n",
       "<p>443556 rows × 5 columns</p>\n",
       "</div>"
      ],
      "text/plain": [
       "              Date  AAPL_pct_change  NB_Ber_Predictions  \\\n",
       "0       12/31/2020                0                   1   \n",
       "1       12/31/2020                0                   1   \n",
       "2       12/31/2020                0                   1   \n",
       "3       12/31/2020                0                   1   \n",
       "4       12/31/2020                0                   1   \n",
       "...            ...              ...                 ...   \n",
       "443551    1/2/2020                1                   0   \n",
       "443552    1/2/2020                1                   0   \n",
       "443553    1/2/2020                1                   1   \n",
       "443554    1/2/2020                1                   0   \n",
       "443555    1/2/2020                1                   0   \n",
       "\n",
       "        Decision_Tree_Predictions Stock  \n",
       "0                               1  AAPL  \n",
       "1                               0  AAPL  \n",
       "2                               0  AAPL  \n",
       "3                               1  AAPL  \n",
       "4                               0  AAPL  \n",
       "...                           ...   ...  \n",
       "443551                          1  TSLA  \n",
       "443552                          1  TSLA  \n",
       "443553                          1  TSLA  \n",
       "443554                          0  TSLA  \n",
       "443555                          1  TSLA  \n",
       "\n",
       "[443556 rows x 5 columns]"
      ]
     },
     "execution_count": 10,
     "metadata": {},
     "output_type": "execute_result"
    }
   ],
   "source": [
    "df_reddit = pd.read_csv('reddit_nn.csv').drop(['Unnamed: 0'], axis=1)\n",
    "df_reddit"
   ]
  },
  {
   "cell_type": "code",
   "execution_count": 6,
   "metadata": {},
   "outputs": [],
   "source": [
    "df_predicted = pd.read_csv(\"DF_PREDICTED.csv\").drop(['Unnamed: 0'], axis=1)"
   ]
  },
  {
   "cell_type": "markdown",
   "metadata": {},
   "source": [
    "# combine from different algorithms"
   ]
  },
  {
   "cell_type": "code",
   "execution_count": 216,
   "metadata": {},
   "outputs": [
    {
     "data": {
      "text/html": [
       "<div>\n",
       "<style scoped>\n",
       "    .dataframe tbody tr th:only-of-type {\n",
       "        vertical-align: middle;\n",
       "    }\n",
       "\n",
       "    .dataframe tbody tr th {\n",
       "        vertical-align: top;\n",
       "    }\n",
       "\n",
       "    .dataframe thead th {\n",
       "        text-align: right;\n",
       "    }\n",
       "</style>\n",
       "<table border=\"1\" class=\"dataframe\">\n",
       "  <thead>\n",
       "    <tr style=\"text-align: right;\">\n",
       "      <th></th>\n",
       "      <th>Date</th>\n",
       "      <th>nn_prediction</th>\n",
       "      <th>lr_prediction</th>\n",
       "      <th>stonk_pct_change</th>\n",
       "    </tr>\n",
       "  </thead>\n",
       "  <tbody>\n",
       "    <tr>\n",
       "      <th>0</th>\n",
       "      <td>2020-12-29</td>\n",
       "      <td>1.0</td>\n",
       "      <td>1.0</td>\n",
       "      <td>1.0</td>\n",
       "    </tr>\n",
       "    <tr>\n",
       "      <th>10</th>\n",
       "      <td>2020-12-29</td>\n",
       "      <td>0.0</td>\n",
       "      <td>0.0</td>\n",
       "      <td>1.0</td>\n",
       "    </tr>\n",
       "    <tr>\n",
       "      <th>81</th>\n",
       "      <td>2020-12-29</td>\n",
       "      <td>0.0</td>\n",
       "      <td>1.0</td>\n",
       "      <td>1.0</td>\n",
       "    </tr>\n",
       "    <tr>\n",
       "      <th>97</th>\n",
       "      <td>2020-12-29</td>\n",
       "      <td>1.0</td>\n",
       "      <td>0.0</td>\n",
       "      <td>1.0</td>\n",
       "    </tr>\n",
       "    <tr>\n",
       "      <th>100</th>\n",
       "      <td>2020-12-07</td>\n",
       "      <td>1.0</td>\n",
       "      <td>1.0</td>\n",
       "      <td>1.0</td>\n",
       "    </tr>\n",
       "    <tr>\n",
       "      <th>...</th>\n",
       "      <td>...</td>\n",
       "      <td>...</td>\n",
       "      <td>...</td>\n",
       "      <td>...</td>\n",
       "    </tr>\n",
       "    <tr>\n",
       "      <th>72621</th>\n",
       "      <td>2020-01-03</td>\n",
       "      <td>0.0</td>\n",
       "      <td>1.0</td>\n",
       "      <td>1.0</td>\n",
       "    </tr>\n",
       "    <tr>\n",
       "      <th>72677</th>\n",
       "      <td>2020-01-03</td>\n",
       "      <td>0.0</td>\n",
       "      <td>0.0</td>\n",
       "      <td>1.0</td>\n",
       "    </tr>\n",
       "    <tr>\n",
       "      <th>72826</th>\n",
       "      <td>2020-01-02</td>\n",
       "      <td>0.0</td>\n",
       "      <td>1.0</td>\n",
       "      <td>1.0</td>\n",
       "    </tr>\n",
       "    <tr>\n",
       "      <th>72827</th>\n",
       "      <td>2020-01-02</td>\n",
       "      <td>1.0</td>\n",
       "      <td>1.0</td>\n",
       "      <td>1.0</td>\n",
       "    </tr>\n",
       "    <tr>\n",
       "      <th>72830</th>\n",
       "      <td>2020-01-02</td>\n",
       "      <td>0.0</td>\n",
       "      <td>0.0</td>\n",
       "      <td>1.0</td>\n",
       "    </tr>\n",
       "  </tbody>\n",
       "</table>\n",
       "<p>833 rows × 4 columns</p>\n",
       "</div>"
      ],
      "text/plain": [
       "            Date  nn_prediction  lr_prediction  stonk_pct_change\n",
       "0     2020-12-29            1.0            1.0               1.0\n",
       "10    2020-12-29            0.0            0.0               1.0\n",
       "81    2020-12-29            0.0            1.0               1.0\n",
       "97    2020-12-29            1.0            0.0               1.0\n",
       "100   2020-12-07            1.0            1.0               1.0\n",
       "...          ...            ...            ...               ...\n",
       "72621 2020-01-03            0.0            1.0               1.0\n",
       "72677 2020-01-03            0.0            0.0               1.0\n",
       "72826 2020-01-02            0.0            1.0               1.0\n",
       "72827 2020-01-02            1.0            1.0               1.0\n",
       "72830 2020-01-02            0.0            0.0               1.0\n",
       "\n",
       "[833 rows x 4 columns]"
      ]
     },
     "execution_count": 216,
     "metadata": {},
     "output_type": "execute_result"
    }
   ],
   "source": [
    "df_predicted.drop_duplicates()"
   ]
  },
  {
   "cell_type": "code",
   "execution_count": 217,
   "metadata": {},
   "outputs": [
    {
     "data": {
      "text/html": [
       "<div>\n",
       "<style scoped>\n",
       "    .dataframe tbody tr th:only-of-type {\n",
       "        vertical-align: middle;\n",
       "    }\n",
       "\n",
       "    .dataframe tbody tr th {\n",
       "        vertical-align: top;\n",
       "    }\n",
       "\n",
       "    .dataframe thead th {\n",
       "        text-align: right;\n",
       "    }\n",
       "</style>\n",
       "<table border=\"1\" class=\"dataframe\">\n",
       "  <thead>\n",
       "    <tr style=\"text-align: right;\">\n",
       "      <th></th>\n",
       "      <th>Date</th>\n",
       "      <th>stonk_pct_change</th>\n",
       "      <th>NB_Ber_Predictions</th>\n",
       "      <th>Decision_Tree_Predictions</th>\n",
       "      <th>Stock</th>\n",
       "    </tr>\n",
       "  </thead>\n",
       "  <tbody>\n",
       "    <tr>\n",
       "      <th>0</th>\n",
       "      <td>2020-12-31</td>\n",
       "      <td>0</td>\n",
       "      <td>1</td>\n",
       "      <td>1</td>\n",
       "      <td>AAPL</td>\n",
       "    </tr>\n",
       "    <tr>\n",
       "      <th>1</th>\n",
       "      <td>2020-12-31</td>\n",
       "      <td>0</td>\n",
       "      <td>1</td>\n",
       "      <td>0</td>\n",
       "      <td>AAPL</td>\n",
       "    </tr>\n",
       "    <tr>\n",
       "      <th>476</th>\n",
       "      <td>2020-12-30</td>\n",
       "      <td>0</td>\n",
       "      <td>1</td>\n",
       "      <td>1</td>\n",
       "      <td>AAPL</td>\n",
       "    </tr>\n",
       "    <tr>\n",
       "      <th>477</th>\n",
       "      <td>2020-12-30</td>\n",
       "      <td>0</td>\n",
       "      <td>1</td>\n",
       "      <td>0</td>\n",
       "      <td>AAPL</td>\n",
       "    </tr>\n",
       "    <tr>\n",
       "      <th>939</th>\n",
       "      <td>2020-12-29</td>\n",
       "      <td>0</td>\n",
       "      <td>1</td>\n",
       "      <td>0</td>\n",
       "      <td>AAPL</td>\n",
       "    </tr>\n",
       "    <tr>\n",
       "      <th>...</th>\n",
       "      <td>...</td>\n",
       "      <td>...</td>\n",
       "      <td>...</td>\n",
       "      <td>...</td>\n",
       "      <td>...</td>\n",
       "    </tr>\n",
       "    <tr>\n",
       "      <th>442846</th>\n",
       "      <td>2020-01-03</td>\n",
       "      <td>1</td>\n",
       "      <td>0</td>\n",
       "      <td>1</td>\n",
       "      <td>TSLA</td>\n",
       "    </tr>\n",
       "    <tr>\n",
       "      <th>443244</th>\n",
       "      <td>2020-01-02</td>\n",
       "      <td>1</td>\n",
       "      <td>1</td>\n",
       "      <td>1</td>\n",
       "      <td>TSLA</td>\n",
       "    </tr>\n",
       "    <tr>\n",
       "      <th>443245</th>\n",
       "      <td>2020-01-02</td>\n",
       "      <td>1</td>\n",
       "      <td>0</td>\n",
       "      <td>1</td>\n",
       "      <td>TSLA</td>\n",
       "    </tr>\n",
       "    <tr>\n",
       "      <th>443249</th>\n",
       "      <td>2020-01-02</td>\n",
       "      <td>1</td>\n",
       "      <td>0</td>\n",
       "      <td>0</td>\n",
       "      <td>TSLA</td>\n",
       "    </tr>\n",
       "    <tr>\n",
       "      <th>443270</th>\n",
       "      <td>2020-01-02</td>\n",
       "      <td>1</td>\n",
       "      <td>1</td>\n",
       "      <td>0</td>\n",
       "      <td>TSLA</td>\n",
       "    </tr>\n",
       "  </tbody>\n",
       "</table>\n",
       "<p>1518 rows × 5 columns</p>\n",
       "</div>"
      ],
      "text/plain": [
       "             Date  stonk_pct_change  NB_Ber_Predictions  \\\n",
       "0      2020-12-31                 0                   1   \n",
       "1      2020-12-31                 0                   1   \n",
       "476    2020-12-30                 0                   1   \n",
       "477    2020-12-30                 0                   1   \n",
       "939    2020-12-29                 0                   1   \n",
       "...           ...               ...                 ...   \n",
       "442846 2020-01-03                 1                   0   \n",
       "443244 2020-01-02                 1                   1   \n",
       "443245 2020-01-02                 1                   0   \n",
       "443249 2020-01-02                 1                   0   \n",
       "443270 2020-01-02                 1                   1   \n",
       "\n",
       "        Decision_Tree_Predictions Stock  \n",
       "0                               1  AAPL  \n",
       "1                               0  AAPL  \n",
       "476                             1  AAPL  \n",
       "477                             0  AAPL  \n",
       "939                             0  AAPL  \n",
       "...                           ...   ...  \n",
       "442846                          1  TSLA  \n",
       "443244                          1  TSLA  \n",
       "443245                          1  TSLA  \n",
       "443249                          0  TSLA  \n",
       "443270                          0  TSLA  \n",
       "\n",
       "[1518 rows x 5 columns]"
      ]
     },
     "execution_count": 217,
     "metadata": {},
     "output_type": "execute_result"
    }
   ],
   "source": [
    "df_reddit.drop_duplicates()"
   ]
  },
  {
   "cell_type": "code",
   "execution_count": 302,
   "metadata": {},
   "outputs": [
    {
     "data": {
      "text/html": [
       "<div>\n",
       "<style scoped>\n",
       "    .dataframe tbody tr th:only-of-type {\n",
       "        vertical-align: middle;\n",
       "    }\n",
       "\n",
       "    .dataframe tbody tr th {\n",
       "        vertical-align: top;\n",
       "    }\n",
       "\n",
       "    .dataframe thead th {\n",
       "        text-align: right;\n",
       "    }\n",
       "</style>\n",
       "<table border=\"1\" class=\"dataframe\">\n",
       "  <thead>\n",
       "    <tr style=\"text-align: right;\">\n",
       "      <th></th>\n",
       "      <th>Date_x</th>\n",
       "      <th>stonk_pct_change</th>\n",
       "      <th>NB_Ber_Predictions</th>\n",
       "      <th>Decision_Tree_Predictions</th>\n",
       "      <th>Stock</th>\n",
       "      <th>Date_y</th>\n",
       "      <th>nn_prediction</th>\n",
       "      <th>lr_prediction</th>\n",
       "    </tr>\n",
       "  </thead>\n",
       "  <tbody>\n",
       "    <tr>\n",
       "      <th>0</th>\n",
       "      <td>2020-12-31</td>\n",
       "      <td>0</td>\n",
       "      <td>1</td>\n",
       "      <td>1</td>\n",
       "      <td>AAPL</td>\n",
       "      <td>2020-12-22</td>\n",
       "      <td>0.0</td>\n",
       "      <td>1.0</td>\n",
       "    </tr>\n",
       "    <tr>\n",
       "      <th>1</th>\n",
       "      <td>2020-12-31</td>\n",
       "      <td>0</td>\n",
       "      <td>1</td>\n",
       "      <td>1</td>\n",
       "      <td>AAPL</td>\n",
       "      <td>2020-12-22</td>\n",
       "      <td>0.0</td>\n",
       "      <td>0.0</td>\n",
       "    </tr>\n",
       "    <tr>\n",
       "      <th>2</th>\n",
       "      <td>2020-12-31</td>\n",
       "      <td>0</td>\n",
       "      <td>1</td>\n",
       "      <td>1</td>\n",
       "      <td>AAPL</td>\n",
       "      <td>2020-12-22</td>\n",
       "      <td>1.0</td>\n",
       "      <td>1.0</td>\n",
       "    </tr>\n",
       "    <tr>\n",
       "      <th>3</th>\n",
       "      <td>2020-12-31</td>\n",
       "      <td>0</td>\n",
       "      <td>1</td>\n",
       "      <td>1</td>\n",
       "      <td>AAPL</td>\n",
       "      <td>2020-12-21</td>\n",
       "      <td>1.0</td>\n",
       "      <td>0.0</td>\n",
       "    </tr>\n",
       "    <tr>\n",
       "      <th>4</th>\n",
       "      <td>2020-12-31</td>\n",
       "      <td>0</td>\n",
       "      <td>1</td>\n",
       "      <td>1</td>\n",
       "      <td>AAPL</td>\n",
       "      <td>2020-12-21</td>\n",
       "      <td>0.0</td>\n",
       "      <td>0.0</td>\n",
       "    </tr>\n",
       "    <tr>\n",
       "      <th>...</th>\n",
       "      <td>...</td>\n",
       "      <td>...</td>\n",
       "      <td>...</td>\n",
       "      <td>...</td>\n",
       "      <td>...</td>\n",
       "      <td>...</td>\n",
       "      <td>...</td>\n",
       "      <td>...</td>\n",
       "    </tr>\n",
       "    <tr>\n",
       "      <th>645271</th>\n",
       "      <td>2020-01-02</td>\n",
       "      <td>1</td>\n",
       "      <td>1</td>\n",
       "      <td>0</td>\n",
       "      <td>TSLA</td>\n",
       "      <td>2020-01-03</td>\n",
       "      <td>0.0</td>\n",
       "      <td>1.0</td>\n",
       "    </tr>\n",
       "    <tr>\n",
       "      <th>645272</th>\n",
       "      <td>2020-01-02</td>\n",
       "      <td>1</td>\n",
       "      <td>1</td>\n",
       "      <td>0</td>\n",
       "      <td>TSLA</td>\n",
       "      <td>2020-01-03</td>\n",
       "      <td>0.0</td>\n",
       "      <td>0.0</td>\n",
       "    </tr>\n",
       "    <tr>\n",
       "      <th>645273</th>\n",
       "      <td>2020-01-02</td>\n",
       "      <td>1</td>\n",
       "      <td>1</td>\n",
       "      <td>0</td>\n",
       "      <td>TSLA</td>\n",
       "      <td>2020-01-02</td>\n",
       "      <td>0.0</td>\n",
       "      <td>1.0</td>\n",
       "    </tr>\n",
       "    <tr>\n",
       "      <th>645274</th>\n",
       "      <td>2020-01-02</td>\n",
       "      <td>1</td>\n",
       "      <td>1</td>\n",
       "      <td>0</td>\n",
       "      <td>TSLA</td>\n",
       "      <td>2020-01-02</td>\n",
       "      <td>1.0</td>\n",
       "      <td>1.0</td>\n",
       "    </tr>\n",
       "    <tr>\n",
       "      <th>645275</th>\n",
       "      <td>2020-01-02</td>\n",
       "      <td>1</td>\n",
       "      <td>1</td>\n",
       "      <td>0</td>\n",
       "      <td>TSLA</td>\n",
       "      <td>2020-01-02</td>\n",
       "      <td>0.0</td>\n",
       "      <td>0.0</td>\n",
       "    </tr>\n",
       "  </tbody>\n",
       "</table>\n",
       "<p>645276 rows × 8 columns</p>\n",
       "</div>"
      ],
      "text/plain": [
       "           Date_x  stonk_pct_change  NB_Ber_Predictions  \\\n",
       "0      2020-12-31                 0                   1   \n",
       "1      2020-12-31                 0                   1   \n",
       "2      2020-12-31                 0                   1   \n",
       "3      2020-12-31                 0                   1   \n",
       "4      2020-12-31                 0                   1   \n",
       "...           ...               ...                 ...   \n",
       "645271 2020-01-02                 1                   1   \n",
       "645272 2020-01-02                 1                   1   \n",
       "645273 2020-01-02                 1                   1   \n",
       "645274 2020-01-02                 1                   1   \n",
       "645275 2020-01-02                 1                   1   \n",
       "\n",
       "        Decision_Tree_Predictions Stock     Date_y  nn_prediction  \\\n",
       "0                               1  AAPL 2020-12-22            0.0   \n",
       "1                               1  AAPL 2020-12-22            0.0   \n",
       "2                               1  AAPL 2020-12-22            1.0   \n",
       "3                               1  AAPL 2020-12-21            1.0   \n",
       "4                               1  AAPL 2020-12-21            0.0   \n",
       "...                           ...   ...        ...            ...   \n",
       "645271                          0  TSLA 2020-01-03            0.0   \n",
       "645272                          0  TSLA 2020-01-03            0.0   \n",
       "645273                          0  TSLA 2020-01-02            0.0   \n",
       "645274                          0  TSLA 2020-01-02            1.0   \n",
       "645275                          0  TSLA 2020-01-02            0.0   \n",
       "\n",
       "        lr_prediction  \n",
       "0                 1.0  \n",
       "1                 0.0  \n",
       "2                 1.0  \n",
       "3                 0.0  \n",
       "4                 0.0  \n",
       "...               ...  \n",
       "645271            1.0  \n",
       "645272            0.0  \n",
       "645273            1.0  \n",
       "645274            1.0  \n",
       "645275            0.0  \n",
       "\n",
       "[645276 rows x 8 columns]"
      ]
     },
     "execution_count": 302,
     "metadata": {},
     "output_type": "execute_result"
    }
   ],
   "source": [
    "merged_df = df_reddit.drop_duplicates().sort_values(['Date'], ascending=False).merge(\\\n",
    "             df_predicted.drop_duplicates().sort_values(['Date'], ascending=False), on=['stonk_pct_change'])\n",
    "merged_df"
   ]
  },
  {
   "cell_type": "code",
   "execution_count": 11,
   "metadata": {},
   "outputs": [
    {
     "data": {
      "text/html": [
       "<div>\n",
       "<style scoped>\n",
       "    .dataframe tbody tr th:only-of-type {\n",
       "        vertical-align: middle;\n",
       "    }\n",
       "\n",
       "    .dataframe tbody tr th {\n",
       "        vertical-align: top;\n",
       "    }\n",
       "\n",
       "    .dataframe thead th {\n",
       "        text-align: right;\n",
       "    }\n",
       "</style>\n",
       "<table border=\"1\" class=\"dataframe\">\n",
       "  <thead>\n",
       "    <tr style=\"text-align: right;\">\n",
       "      <th></th>\n",
       "      <th>Date</th>\n",
       "      <th>Ticker</th>\n",
       "      <th>y_true</th>\n",
       "      <th>y_predicted_dt</th>\n",
       "      <th>y_predicted_rf</th>\n",
       "    </tr>\n",
       "  </thead>\n",
       "  <tbody>\n",
       "    <tr>\n",
       "      <th>0</th>\n",
       "      <td>2020-03-28</td>\n",
       "      <td>AAPL</td>\n",
       "      <td>0</td>\n",
       "      <td>0</td>\n",
       "      <td>0</td>\n",
       "    </tr>\n",
       "    <tr>\n",
       "      <th>1</th>\n",
       "      <td>2020-06-27</td>\n",
       "      <td>AAPL</td>\n",
       "      <td>1</td>\n",
       "      <td>1</td>\n",
       "      <td>1</td>\n",
       "    </tr>\n",
       "    <tr>\n",
       "      <th>2</th>\n",
       "      <td>2020-09-26</td>\n",
       "      <td>AAPL</td>\n",
       "      <td>1</td>\n",
       "      <td>1</td>\n",
       "      <td>1</td>\n",
       "    </tr>\n",
       "    <tr>\n",
       "      <th>3</th>\n",
       "      <td>2020-03-31</td>\n",
       "      <td>TSLA</td>\n",
       "      <td>1</td>\n",
       "      <td>1</td>\n",
       "      <td>1</td>\n",
       "    </tr>\n",
       "    <tr>\n",
       "      <th>4</th>\n",
       "      <td>2020-06-30</td>\n",
       "      <td>TSLA</td>\n",
       "      <td>1</td>\n",
       "      <td>1</td>\n",
       "      <td>1</td>\n",
       "    </tr>\n",
       "    <tr>\n",
       "      <th>5</th>\n",
       "      <td>2020-09-30</td>\n",
       "      <td>TSLA</td>\n",
       "      <td>1</td>\n",
       "      <td>1</td>\n",
       "      <td>1</td>\n",
       "    </tr>\n",
       "    <tr>\n",
       "      <th>6</th>\n",
       "      <td>2020-12-31</td>\n",
       "      <td>TSLA</td>\n",
       "      <td>1</td>\n",
       "      <td>1</td>\n",
       "      <td>1</td>\n",
       "    </tr>\n",
       "  </tbody>\n",
       "</table>\n",
       "</div>"
      ],
      "text/plain": [
       "         Date Ticker  y_true  y_predicted_dt  y_predicted_rf\n",
       "0  2020-03-28   AAPL       0               0               0\n",
       "1  2020-06-27   AAPL       1               1               1\n",
       "2  2020-09-26   AAPL       1               1               1\n",
       "3  2020-03-31   TSLA       1               1               1\n",
       "4  2020-06-30   TSLA       1               1               1\n",
       "5  2020-09-30   TSLA       1               1               1\n",
       "6  2020-12-31   TSLA       1               1               1"
      ]
     },
     "execution_count": 11,
     "metadata": {},
     "output_type": "execute_result"
    }
   ],
   "source": [
    "df_predicted\n",
    "df_reddit\n",
    "# df_regression"
   ]
  },
  {
   "cell_type": "code",
   "execution_count": 25,
   "metadata": {},
   "outputs": [],
   "source": [
    "df_reddit.rename(columns={'AAPL_pct_change':'stonk_pct_change'}, inplace=True)"
   ]
  },
  {
   "cell_type": "code",
   "execution_count": null,
   "metadata": {},
   "outputs": [],
   "source": [
    "df_regression.rename(columns={'Ticker':'Stock'})"
   ]
  },
  {
   "cell_type": "code",
   "execution_count": 366,
   "metadata": {},
   "outputs": [
    {
     "data": {
      "text/html": [
       "<div>\n",
       "<style scoped>\n",
       "    .dataframe tbody tr th:only-of-type {\n",
       "        vertical-align: middle;\n",
       "    }\n",
       "\n",
       "    .dataframe tbody tr th {\n",
       "        vertical-align: top;\n",
       "    }\n",
       "\n",
       "    .dataframe thead th {\n",
       "        text-align: right;\n",
       "    }\n",
       "</style>\n",
       "<table border=\"1\" class=\"dataframe\">\n",
       "  <thead>\n",
       "    <tr style=\"text-align: right;\">\n",
       "      <th></th>\n",
       "      <th>Date</th>\n",
       "      <th>stonk_pct_change</th>\n",
       "      <th>NB_Ber_Predictions</th>\n",
       "      <th>Decision_Tree_Predictions</th>\n",
       "      <th>Stock</th>\n",
       "    </tr>\n",
       "  </thead>\n",
       "  <tbody>\n",
       "    <tr>\n",
       "      <th>0</th>\n",
       "      <td>2020-12-31</td>\n",
       "      <td>0</td>\n",
       "      <td>1</td>\n",
       "      <td>1</td>\n",
       "      <td>AAPL</td>\n",
       "    </tr>\n",
       "    <tr>\n",
       "      <th>1</th>\n",
       "      <td>2020-12-31</td>\n",
       "      <td>0</td>\n",
       "      <td>1</td>\n",
       "      <td>0</td>\n",
       "      <td>AAPL</td>\n",
       "    </tr>\n",
       "    <tr>\n",
       "      <th>2</th>\n",
       "      <td>2020-12-31</td>\n",
       "      <td>0</td>\n",
       "      <td>1</td>\n",
       "      <td>0</td>\n",
       "      <td>AAPL</td>\n",
       "    </tr>\n",
       "    <tr>\n",
       "      <th>3</th>\n",
       "      <td>2020-12-31</td>\n",
       "      <td>0</td>\n",
       "      <td>1</td>\n",
       "      <td>1</td>\n",
       "      <td>AAPL</td>\n",
       "    </tr>\n",
       "    <tr>\n",
       "      <th>4</th>\n",
       "      <td>2020-12-31</td>\n",
       "      <td>0</td>\n",
       "      <td>1</td>\n",
       "      <td>0</td>\n",
       "      <td>AAPL</td>\n",
       "    </tr>\n",
       "    <tr>\n",
       "      <th>...</th>\n",
       "      <td>...</td>\n",
       "      <td>...</td>\n",
       "      <td>...</td>\n",
       "      <td>...</td>\n",
       "      <td>...</td>\n",
       "    </tr>\n",
       "    <tr>\n",
       "      <th>443551</th>\n",
       "      <td>2020-01-02</td>\n",
       "      <td>1</td>\n",
       "      <td>0</td>\n",
       "      <td>1</td>\n",
       "      <td>TSLA</td>\n",
       "    </tr>\n",
       "    <tr>\n",
       "      <th>443552</th>\n",
       "      <td>2020-01-02</td>\n",
       "      <td>1</td>\n",
       "      <td>0</td>\n",
       "      <td>1</td>\n",
       "      <td>TSLA</td>\n",
       "    </tr>\n",
       "    <tr>\n",
       "      <th>443553</th>\n",
       "      <td>2020-01-02</td>\n",
       "      <td>1</td>\n",
       "      <td>1</td>\n",
       "      <td>1</td>\n",
       "      <td>TSLA</td>\n",
       "    </tr>\n",
       "    <tr>\n",
       "      <th>443554</th>\n",
       "      <td>2020-01-02</td>\n",
       "      <td>1</td>\n",
       "      <td>0</td>\n",
       "      <td>0</td>\n",
       "      <td>TSLA</td>\n",
       "    </tr>\n",
       "    <tr>\n",
       "      <th>443555</th>\n",
       "      <td>2020-01-02</td>\n",
       "      <td>1</td>\n",
       "      <td>0</td>\n",
       "      <td>1</td>\n",
       "      <td>TSLA</td>\n",
       "    </tr>\n",
       "  </tbody>\n",
       "</table>\n",
       "<p>443556 rows × 5 columns</p>\n",
       "</div>"
      ],
      "text/plain": [
       "             Date  stonk_pct_change  NB_Ber_Predictions  \\\n",
       "0      2020-12-31                 0                   1   \n",
       "1      2020-12-31                 0                   1   \n",
       "2      2020-12-31                 0                   1   \n",
       "3      2020-12-31                 0                   1   \n",
       "4      2020-12-31                 0                   1   \n",
       "...           ...               ...                 ...   \n",
       "443551 2020-01-02                 1                   0   \n",
       "443552 2020-01-02                 1                   0   \n",
       "443553 2020-01-02                 1                   1   \n",
       "443554 2020-01-02                 1                   0   \n",
       "443555 2020-01-02                 1                   0   \n",
       "\n",
       "        Decision_Tree_Predictions Stock  \n",
       "0                               1  AAPL  \n",
       "1                               0  AAPL  \n",
       "2                               0  AAPL  \n",
       "3                               1  AAPL  \n",
       "4                               0  AAPL  \n",
       "...                           ...   ...  \n",
       "443551                          1  TSLA  \n",
       "443552                          1  TSLA  \n",
       "443553                          1  TSLA  \n",
       "443554                          0  TSLA  \n",
       "443555                          1  TSLA  \n",
       "\n",
       "[443556 rows x 5 columns]"
      ]
     },
     "execution_count": 366,
     "metadata": {},
     "output_type": "execute_result"
    }
   ],
   "source": [
    "df_reddit['Date'] = pd.to_datetime(df_reddit['Date'], format='%m/%d/%Y')\n",
    "\n",
    "df_predicted['Date'] = [str(i).split()[0] for i in df_predicted['Date']]\n",
    "df_predicted['Date'] = pd.to_datetime(df_predicted['Date'], format='%Y/%m/%d')\n",
    "\n",
    "df_regression['Date'] = pd.to_datetime(df_regression['Date'], format='%Y/%m/%d')\n",
    "\n",
    "\n",
    "df_reddit"
   ]
  },
  {
   "cell_type": "code",
   "execution_count": 359,
   "metadata": {},
   "outputs": [],
   "source": [
    "# df_predicted.merge(df_reddit, on=['Date', 'stonk_pct_change'])\n",
    "merged_df = df_predicted.merge(df_reddit, on=['Date', 'stonk_pct_change']).dropna(axis=0)"
   ]
  },
  {
   "cell_type": "code",
   "execution_count": 360,
   "metadata": {},
   "outputs": [
    {
     "data": {
      "text/html": [
       "<div>\n",
       "<style scoped>\n",
       "    .dataframe tbody tr th:only-of-type {\n",
       "        vertical-align: middle;\n",
       "    }\n",
       "\n",
       "    .dataframe tbody tr th {\n",
       "        vertical-align: top;\n",
       "    }\n",
       "\n",
       "    .dataframe thead th {\n",
       "        text-align: right;\n",
       "    }\n",
       "</style>\n",
       "<table border=\"1\" class=\"dataframe\">\n",
       "  <thead>\n",
       "    <tr style=\"text-align: right;\">\n",
       "      <th></th>\n",
       "      <th>Date</th>\n",
       "      <th>nn_prediction</th>\n",
       "      <th>lr_prediction</th>\n",
       "      <th>stonk_pct_change</th>\n",
       "      <th>NB_Ber_Predictions</th>\n",
       "      <th>Decision_Tree_Predictions</th>\n",
       "      <th>Stock</th>\n",
       "    </tr>\n",
       "  </thead>\n",
       "  <tbody>\n",
       "    <tr>\n",
       "      <th>0</th>\n",
       "      <td>2020-12-29</td>\n",
       "      <td>1.0</td>\n",
       "      <td>1.0</td>\n",
       "      <td>1.0</td>\n",
       "      <td>1</td>\n",
       "      <td>0</td>\n",
       "      <td>TSLA</td>\n",
       "    </tr>\n",
       "    <tr>\n",
       "      <th>1</th>\n",
       "      <td>2020-12-29</td>\n",
       "      <td>1.0</td>\n",
       "      <td>1.0</td>\n",
       "      <td>1.0</td>\n",
       "      <td>1</td>\n",
       "      <td>1</td>\n",
       "      <td>TSLA</td>\n",
       "    </tr>\n",
       "    <tr>\n",
       "      <th>2</th>\n",
       "      <td>2020-12-29</td>\n",
       "      <td>1.0</td>\n",
       "      <td>1.0</td>\n",
       "      <td>1.0</td>\n",
       "      <td>1</td>\n",
       "      <td>0</td>\n",
       "      <td>TSLA</td>\n",
       "    </tr>\n",
       "    <tr>\n",
       "      <th>3</th>\n",
       "      <td>2020-12-29</td>\n",
       "      <td>1.0</td>\n",
       "      <td>1.0</td>\n",
       "      <td>1.0</td>\n",
       "      <td>0</td>\n",
       "      <td>1</td>\n",
       "      <td>TSLA</td>\n",
       "    </tr>\n",
       "    <tr>\n",
       "      <th>4</th>\n",
       "      <td>2020-12-29</td>\n",
       "      <td>1.0</td>\n",
       "      <td>1.0</td>\n",
       "      <td>1.0</td>\n",
       "      <td>0</td>\n",
       "      <td>1</td>\n",
       "      <td>TSLA</td>\n",
       "    </tr>\n",
       "    <tr>\n",
       "      <th>...</th>\n",
       "      <td>...</td>\n",
       "      <td>...</td>\n",
       "      <td>...</td>\n",
       "      <td>...</td>\n",
       "      <td>...</td>\n",
       "      <td>...</td>\n",
       "      <td>...</td>\n",
       "    </tr>\n",
       "    <tr>\n",
       "      <th>109928037</th>\n",
       "      <td>2020-01-02</td>\n",
       "      <td>1.0</td>\n",
       "      <td>1.0</td>\n",
       "      <td>1.0</td>\n",
       "      <td>0</td>\n",
       "      <td>1</td>\n",
       "      <td>TSLA</td>\n",
       "    </tr>\n",
       "    <tr>\n",
       "      <th>109928038</th>\n",
       "      <td>2020-01-02</td>\n",
       "      <td>1.0</td>\n",
       "      <td>1.0</td>\n",
       "      <td>1.0</td>\n",
       "      <td>0</td>\n",
       "      <td>1</td>\n",
       "      <td>TSLA</td>\n",
       "    </tr>\n",
       "    <tr>\n",
       "      <th>109928039</th>\n",
       "      <td>2020-01-02</td>\n",
       "      <td>1.0</td>\n",
       "      <td>1.0</td>\n",
       "      <td>1.0</td>\n",
       "      <td>1</td>\n",
       "      <td>1</td>\n",
       "      <td>TSLA</td>\n",
       "    </tr>\n",
       "    <tr>\n",
       "      <th>109928040</th>\n",
       "      <td>2020-01-02</td>\n",
       "      <td>1.0</td>\n",
       "      <td>1.0</td>\n",
       "      <td>1.0</td>\n",
       "      <td>0</td>\n",
       "      <td>0</td>\n",
       "      <td>TSLA</td>\n",
       "    </tr>\n",
       "    <tr>\n",
       "      <th>109928041</th>\n",
       "      <td>2020-01-02</td>\n",
       "      <td>1.0</td>\n",
       "      <td>1.0</td>\n",
       "      <td>1.0</td>\n",
       "      <td>0</td>\n",
       "      <td>1</td>\n",
       "      <td>TSLA</td>\n",
       "    </tr>\n",
       "  </tbody>\n",
       "</table>\n",
       "<p>109928042 rows × 7 columns</p>\n",
       "</div>"
      ],
      "text/plain": [
       "                Date  nn_prediction  lr_prediction  stonk_pct_change  \\\n",
       "0         2020-12-29            1.0            1.0               1.0   \n",
       "1         2020-12-29            1.0            1.0               1.0   \n",
       "2         2020-12-29            1.0            1.0               1.0   \n",
       "3         2020-12-29            1.0            1.0               1.0   \n",
       "4         2020-12-29            1.0            1.0               1.0   \n",
       "...              ...            ...            ...               ...   \n",
       "109928037 2020-01-02            1.0            1.0               1.0   \n",
       "109928038 2020-01-02            1.0            1.0               1.0   \n",
       "109928039 2020-01-02            1.0            1.0               1.0   \n",
       "109928040 2020-01-02            1.0            1.0               1.0   \n",
       "109928041 2020-01-02            1.0            1.0               1.0   \n",
       "\n",
       "           NB_Ber_Predictions  Decision_Tree_Predictions Stock  \n",
       "0                           1                          0  TSLA  \n",
       "1                           1                          1  TSLA  \n",
       "2                           1                          0  TSLA  \n",
       "3                           0                          1  TSLA  \n",
       "4                           0                          1  TSLA  \n",
       "...                       ...                        ...   ...  \n",
       "109928037                   0                          1  TSLA  \n",
       "109928038                   0                          1  TSLA  \n",
       "109928039                   1                          1  TSLA  \n",
       "109928040                   0                          0  TSLA  \n",
       "109928041                   0                          1  TSLA  \n",
       "\n",
       "[109928042 rows x 7 columns]"
      ]
     },
     "execution_count": 360,
     "metadata": {},
     "output_type": "execute_result"
    }
   ],
   "source": [
    "merged_df"
   ]
  },
  {
   "cell_type": "code",
   "execution_count": 415,
   "metadata": {},
   "outputs": [
    {
     "data": {
      "text/html": [
       "<div>\n",
       "<style scoped>\n",
       "    .dataframe tbody tr th:only-of-type {\n",
       "        vertical-align: middle;\n",
       "    }\n",
       "\n",
       "    .dataframe tbody tr th {\n",
       "        vertical-align: top;\n",
       "    }\n",
       "\n",
       "    .dataframe thead th {\n",
       "        text-align: right;\n",
       "    }\n",
       "</style>\n",
       "<table border=\"1\" class=\"dataframe\">\n",
       "  <thead>\n",
       "    <tr style=\"text-align: right;\">\n",
       "      <th></th>\n",
       "      <th>Date</th>\n",
       "      <th>nn_prediction</th>\n",
       "      <th>lr_prediction</th>\n",
       "      <th>stonk_pct_change</th>\n",
       "      <th>NB_Ber_Predictions</th>\n",
       "      <th>Decision_Tree_Predictions</th>\n",
       "      <th>Stock</th>\n",
       "    </tr>\n",
       "  </thead>\n",
       "  <tbody>\n",
       "    <tr>\n",
       "      <th>0</th>\n",
       "      <td>2020-12-29</td>\n",
       "      <td>1.0</td>\n",
       "      <td>1.0</td>\n",
       "      <td>1.0</td>\n",
       "      <td>1</td>\n",
       "      <td>0</td>\n",
       "      <td>TSLA</td>\n",
       "    </tr>\n",
       "    <tr>\n",
       "      <th>1</th>\n",
       "      <td>2020-12-29</td>\n",
       "      <td>1.0</td>\n",
       "      <td>0.0</td>\n",
       "      <td>1.0</td>\n",
       "      <td>1</td>\n",
       "      <td>0</td>\n",
       "      <td>TSLA</td>\n",
       "    </tr>\n",
       "    <tr>\n",
       "      <th>2</th>\n",
       "      <td>2020-12-29</td>\n",
       "      <td>0.0</td>\n",
       "      <td>0.0</td>\n",
       "      <td>1.0</td>\n",
       "      <td>1</td>\n",
       "      <td>0</td>\n",
       "      <td>TSLA</td>\n",
       "    </tr>\n",
       "    <tr>\n",
       "      <th>3</th>\n",
       "      <td>2020-12-29</td>\n",
       "      <td>0.0</td>\n",
       "      <td>1.0</td>\n",
       "      <td>1.0</td>\n",
       "      <td>1</td>\n",
       "      <td>0</td>\n",
       "      <td>TSLA</td>\n",
       "    </tr>\n",
       "    <tr>\n",
       "      <th>4</th>\n",
       "      <td>2020-12-29</td>\n",
       "      <td>1.0</td>\n",
       "      <td>1.0</td>\n",
       "      <td>1.0</td>\n",
       "      <td>1</td>\n",
       "      <td>1</td>\n",
       "      <td>TSLA</td>\n",
       "    </tr>\n",
       "    <tr>\n",
       "      <th>...</th>\n",
       "      <td>...</td>\n",
       "      <td>...</td>\n",
       "      <td>...</td>\n",
       "      <td>...</td>\n",
       "      <td>...</td>\n",
       "      <td>...</td>\n",
       "      <td>...</td>\n",
       "    </tr>\n",
       "    <tr>\n",
       "      <th>4399</th>\n",
       "      <td>2020-01-02</td>\n",
       "      <td>0.0</td>\n",
       "      <td>1.0</td>\n",
       "      <td>1.0</td>\n",
       "      <td>1</td>\n",
       "      <td>0</td>\n",
       "      <td>AAPL</td>\n",
       "    </tr>\n",
       "    <tr>\n",
       "      <th>4400</th>\n",
       "      <td>2020-01-02</td>\n",
       "      <td>0.0</td>\n",
       "      <td>1.0</td>\n",
       "      <td>1.0</td>\n",
       "      <td>1</td>\n",
       "      <td>1</td>\n",
       "      <td>AAPL</td>\n",
       "    </tr>\n",
       "    <tr>\n",
       "      <th>4401</th>\n",
       "      <td>2020-01-02</td>\n",
       "      <td>1.0</td>\n",
       "      <td>1.0</td>\n",
       "      <td>1.0</td>\n",
       "      <td>1</td>\n",
       "      <td>1</td>\n",
       "      <td>TSLA</td>\n",
       "    </tr>\n",
       "    <tr>\n",
       "      <th>4402</th>\n",
       "      <td>2020-01-02</td>\n",
       "      <td>1.0</td>\n",
       "      <td>1.0</td>\n",
       "      <td>1.0</td>\n",
       "      <td>1</td>\n",
       "      <td>0</td>\n",
       "      <td>TSLA</td>\n",
       "    </tr>\n",
       "    <tr>\n",
       "      <th>4403</th>\n",
       "      <td>2020-01-02</td>\n",
       "      <td>0.0</td>\n",
       "      <td>0.0</td>\n",
       "      <td>1.0</td>\n",
       "      <td>1</td>\n",
       "      <td>0</td>\n",
       "      <td>TSLA</td>\n",
       "    </tr>\n",
       "  </tbody>\n",
       "</table>\n",
       "<p>4404 rows × 7 columns</p>\n",
       "</div>"
      ],
      "text/plain": [
       "           Date  nn_prediction  lr_prediction  stonk_pct_change  \\\n",
       "0    2020-12-29            1.0            1.0               1.0   \n",
       "1    2020-12-29            1.0            0.0               1.0   \n",
       "2    2020-12-29            0.0            0.0               1.0   \n",
       "3    2020-12-29            0.0            1.0               1.0   \n",
       "4    2020-12-29            1.0            1.0               1.0   \n",
       "...         ...            ...            ...               ...   \n",
       "4399 2020-01-02            0.0            1.0               1.0   \n",
       "4400 2020-01-02            0.0            1.0               1.0   \n",
       "4401 2020-01-02            1.0            1.0               1.0   \n",
       "4402 2020-01-02            1.0            1.0               1.0   \n",
       "4403 2020-01-02            0.0            0.0               1.0   \n",
       "\n",
       "      NB_Ber_Predictions  Decision_Tree_Predictions Stock  \n",
       "0                      1                          0  TSLA  \n",
       "1                      1                          0  TSLA  \n",
       "2                      1                          0  TSLA  \n",
       "3                      1                          0  TSLA  \n",
       "4                      1                          1  TSLA  \n",
       "...                  ...                        ...   ...  \n",
       "4399                   1                          0  AAPL  \n",
       "4400                   1                          1  AAPL  \n",
       "4401                   1                          1  TSLA  \n",
       "4402                   1                          0  TSLA  \n",
       "4403                   1                          0  TSLA  \n",
       "\n",
       "[4404 rows x 7 columns]"
      ]
     },
     "execution_count": 415,
     "metadata": {},
     "output_type": "execute_result"
    }
   ],
   "source": [
    "merged_df = merged_df.drop_duplicates().sort_values(['Date'], ascending=False).reset_index(drop=True)\n",
    "merged_df"
   ]
  },
  {
   "cell_type": "code",
   "execution_count": 408,
   "metadata": {},
   "outputs": [],
   "source": [
    "from datetime import datetime\n",
    "\n",
    "def days_between(d1, d2):\n",
    "    d1 = datetime.strptime(d1, \"%Y-%m-%d\")\n",
    "    d2 = datetime.strptime(d2, \"%Y-%m-%d\")\n",
    "    return abs((d2 - d1).days)"
   ]
  },
  {
   "cell_type": "code",
   "execution_count": 423,
   "metadata": {},
   "outputs": [
    {
     "name": "stdout",
     "output_type": "stream",
     "text": [
      "2020-03-28 00:00:00\n",
      "2020-06-27 00:00:00\n",
      "2020-09-26 00:00:00\n",
      "2020-03-31 00:00:00\n",
      "2020-06-30 00:00:00\n",
      "2020-09-30 00:00:00\n",
      "2020-12-31 00:00:00\n"
     ]
    }
   ],
   "source": [
    "df_test = pd.DataFrame(data=[], columns=['nn_prediction', 'lr_prediction', 'NB_Ber_Predictions', 'Decision_Tree_Predictions'])\n",
    "\n",
    "\n",
    "# take the average of each time period and make that the correct prediction\n",
    "prev = None\n",
    "for d in df_regression['Date']:\n",
    "    for i, j in enumerate(merged_df['Date']):\n",
    "        if (days_between(str(j).split()[0], str(d).split()[0]) <= 1 or days_between(str(j).split()[0], str(d).split()[0]) <= 2) and prev:\n",
    "            print(d)\n",
    "            df_test = df_test.append(merged_df.drop(['Date', 'Stock', 'stonk_pct_change'], axis=1).iloc[i:prev, :].mean(), ignore_index=True)\n",
    "            break\n",
    "        elif (days_between(str(j).split()[0], str(d).split()[0]) <= 1 or days_between(str(j).split()[0], str(d).split()[0]) <= 2) and not prev:\n",
    "            print(d)\n",
    "            df_test = df_test.append(merged_df.drop(['Date', 'Stock', 'stonk_pct_change'], axis=1).iloc[i:, :].mean(), ignore_index=True)\n",
    "            break\n",
    "                "
   ]
  },
  {
   "cell_type": "code",
   "execution_count": 431,
   "metadata": {},
   "outputs": [
    {
     "data": {
      "text/html": [
       "<div>\n",
       "<style scoped>\n",
       "    .dataframe tbody tr th:only-of-type {\n",
       "        vertical-align: middle;\n",
       "    }\n",
       "\n",
       "    .dataframe tbody tr th {\n",
       "        vertical-align: top;\n",
       "    }\n",
       "\n",
       "    .dataframe thead th {\n",
       "        text-align: right;\n",
       "    }\n",
       "</style>\n",
       "<table border=\"1\" class=\"dataframe\">\n",
       "  <thead>\n",
       "    <tr style=\"text-align: right;\">\n",
       "      <th></th>\n",
       "      <th>Date</th>\n",
       "      <th>Ticker</th>\n",
       "      <th>y_true</th>\n",
       "      <th>y_predicted_dt</th>\n",
       "      <th>y_predicted_rf</th>\n",
       "      <th>nn_prediction</th>\n",
       "      <th>lr_prediction</th>\n",
       "      <th>NB_Ber_Predictions</th>\n",
       "      <th>Decision_Tree_Predictions</th>\n",
       "    </tr>\n",
       "  </thead>\n",
       "  <tbody>\n",
       "    <tr>\n",
       "      <th>0</th>\n",
       "      <td>2020-03-28</td>\n",
       "      <td>AAPL</td>\n",
       "      <td>0</td>\n",
       "      <td>0</td>\n",
       "      <td>0</td>\n",
       "      <td>0.424951</td>\n",
       "      <td>0.578947</td>\n",
       "      <td>0.610136</td>\n",
       "      <td>0.5</td>\n",
       "    </tr>\n",
       "    <tr>\n",
       "      <th>1</th>\n",
       "      <td>2020-06-27</td>\n",
       "      <td>AAPL</td>\n",
       "      <td>1</td>\n",
       "      <td>1</td>\n",
       "      <td>1</td>\n",
       "      <td>0.414587</td>\n",
       "      <td>0.595969</td>\n",
       "      <td>0.618042</td>\n",
       "      <td>0.5</td>\n",
       "    </tr>\n",
       "    <tr>\n",
       "      <th>2</th>\n",
       "      <td>2020-09-26</td>\n",
       "      <td>AAPL</td>\n",
       "      <td>1</td>\n",
       "      <td>1</td>\n",
       "      <td>1</td>\n",
       "      <td>0.427791</td>\n",
       "      <td>0.578883</td>\n",
       "      <td>0.623180</td>\n",
       "      <td>0.5</td>\n",
       "    </tr>\n",
       "    <tr>\n",
       "      <th>3</th>\n",
       "      <td>2020-03-31</td>\n",
       "      <td>TSLA</td>\n",
       "      <td>1</td>\n",
       "      <td>1</td>\n",
       "      <td>1</td>\n",
       "      <td>0.423507</td>\n",
       "      <td>0.580224</td>\n",
       "      <td>0.608209</td>\n",
       "      <td>0.5</td>\n",
       "    </tr>\n",
       "    <tr>\n",
       "      <th>4</th>\n",
       "      <td>2020-06-30</td>\n",
       "      <td>TSLA</td>\n",
       "      <td>1</td>\n",
       "      <td>1</td>\n",
       "      <td>1</td>\n",
       "      <td>0.414406</td>\n",
       "      <td>0.595884</td>\n",
       "      <td>0.618335</td>\n",
       "      <td>0.5</td>\n",
       "    </tr>\n",
       "    <tr>\n",
       "      <th>5</th>\n",
       "      <td>2020-09-30</td>\n",
       "      <td>TSLA</td>\n",
       "      <td>1</td>\n",
       "      <td>1</td>\n",
       "      <td>1</td>\n",
       "      <td>0.427553</td>\n",
       "      <td>0.580760</td>\n",
       "      <td>0.624109</td>\n",
       "      <td>0.5</td>\n",
       "    </tr>\n",
       "    <tr>\n",
       "      <th>6</th>\n",
       "      <td>2020-12-31</td>\n",
       "      <td>TSLA</td>\n",
       "      <td>1</td>\n",
       "      <td>1</td>\n",
       "      <td>1</td>\n",
       "      <td>0.427793</td>\n",
       "      <td>0.579473</td>\n",
       "      <td>0.621708</td>\n",
       "      <td>0.5</td>\n",
       "    </tr>\n",
       "  </tbody>\n",
       "</table>\n",
       "</div>"
      ],
      "text/plain": [
       "        Date Ticker  y_true  y_predicted_dt  y_predicted_rf  nn_prediction  \\\n",
       "0 2020-03-28   AAPL       0               0               0       0.424951   \n",
       "1 2020-06-27   AAPL       1               1               1       0.414587   \n",
       "2 2020-09-26   AAPL       1               1               1       0.427791   \n",
       "3 2020-03-31   TSLA       1               1               1       0.423507   \n",
       "4 2020-06-30   TSLA       1               1               1       0.414406   \n",
       "5 2020-09-30   TSLA       1               1               1       0.427553   \n",
       "6 2020-12-31   TSLA       1               1               1       0.427793   \n",
       "\n",
       "   lr_prediction  NB_Ber_Predictions  Decision_Tree_Predictions  \n",
       "0       0.578947            0.610136                        0.5  \n",
       "1       0.595969            0.618042                        0.5  \n",
       "2       0.578883            0.623180                        0.5  \n",
       "3       0.580224            0.608209                        0.5  \n",
       "4       0.595884            0.618335                        0.5  \n",
       "5       0.580760            0.624109                        0.5  \n",
       "6       0.579473            0.621708                        0.5  "
      ]
     },
     "execution_count": 431,
     "metadata": {},
     "output_type": "execute_result"
    }
   ],
   "source": [
    "new_merged_df = df_regression.merge(df_test, left_index=True, right_index=True)\n",
    "new_merged_df"
   ]
  },
  {
   "cell_type": "code",
   "execution_count": 485,
   "metadata": {},
   "outputs": [
    {
     "name": "stdout",
     "output_type": "stream",
     "text": [
      "(4, 6)\n",
      "(3, 6)\n",
      "(4, 1)\n",
      "(3, 1)\n"
     ]
    }
   ],
   "source": [
    "# Traing on 80% of the data and predict 20%\n",
    "# w = 0.2\n",
    "# X_test = merged_df.drop(['stonk_pct_change', 'Stock'], axis=1).iloc[:int(merged_df.shape[0]*w), 1:-1]\n",
    "# X_train = merged_df.drop(['stonk_pct_change', 'Stock'], axis=1).iloc[int(merged_df.shape[0]*w):, 1:-1]\n",
    "\n",
    "# y_test = merged_df['stonk_pct_change'][:int(merged_df.shape[0]*w)]\n",
    "# y_train = merged_df['stonk_pct_change'][int(merged_df.shape[0]*w):]\n",
    "\n",
    "X = new_merged_df.drop(['y_true', 'Ticker', 'Date'], axis=1)\n",
    "y = new_merged_df[['y_true']]\n",
    "\n",
    "X_train, X_test, y_train, y_test = train_test_split(X, y, test_size=0.50)\n",
    "\n",
    "print(X_test.shape)\n",
    "print(X_train.shape)\n",
    "print(y_test.shape)\n",
    "print(y_train.shape)"
   ]
  },
  {
   "cell_type": "code",
   "execution_count": 486,
   "metadata": {},
   "outputs": [
    {
     "data": {
      "text/html": [
       "<div>\n",
       "<style scoped>\n",
       "    .dataframe tbody tr th:only-of-type {\n",
       "        vertical-align: middle;\n",
       "    }\n",
       "\n",
       "    .dataframe tbody tr th {\n",
       "        vertical-align: top;\n",
       "    }\n",
       "\n",
       "    .dataframe thead th {\n",
       "        text-align: right;\n",
       "    }\n",
       "</style>\n",
       "<table border=\"1\" class=\"dataframe\">\n",
       "  <thead>\n",
       "    <tr style=\"text-align: right;\">\n",
       "      <th></th>\n",
       "      <th>y_true</th>\n",
       "    </tr>\n",
       "  </thead>\n",
       "  <tbody>\n",
       "    <tr>\n",
       "      <th>6</th>\n",
       "      <td>1</td>\n",
       "    </tr>\n",
       "    <tr>\n",
       "      <th>1</th>\n",
       "      <td>1</td>\n",
       "    </tr>\n",
       "    <tr>\n",
       "      <th>0</th>\n",
       "      <td>0</td>\n",
       "    </tr>\n",
       "    <tr>\n",
       "      <th>4</th>\n",
       "      <td>1</td>\n",
       "    </tr>\n",
       "  </tbody>\n",
       "</table>\n",
       "</div>"
      ],
      "text/plain": [
       "   y_true\n",
       "6       1\n",
       "1       1\n",
       "0       0\n",
       "4       1"
      ]
     },
     "execution_count": 486,
     "metadata": {},
     "output_type": "execute_result"
    }
   ],
   "source": [
    "y_test"
   ]
  },
  {
   "cell_type": "code",
   "execution_count": 337,
   "metadata": {},
   "outputs": [],
   "source": [
    "import tensorflow as tf\n",
    "import keras\n",
    "from keras.models import Sequential\n",
    "from keras.layers import LSTM, Dense, Dropout, Activation, Conv2D, MaxPooling2D, Flatten, GRU, SimpleRNN, Conv1D\n"
   ]
  },
  {
   "cell_type": "code",
   "execution_count": 487,
   "metadata": {},
   "outputs": [],
   "source": [
    "s = StandardScaler()\n",
    "\n",
    "X_train_sc = s.fit_transform(X_train.values)\n",
    "X_test_sc = s.transform(X_test.values)"
   ]
  },
  {
   "cell_type": "code",
   "execution_count": 527,
   "metadata": {},
   "outputs": [
    {
     "name": "stdout",
     "output_type": "stream",
     "text": [
      "Epoch 1/10\n",
      "1/1 [==============================] - 0s 1ms/step - loss: 0.6751 - accuracy: 1.0000 - precision: 1.0000 - recall: 1.0000\n",
      "Epoch 2/10\n",
      "1/1 [==============================] - 0s 846us/step - loss: 0.6725 - accuracy: 1.0000 - precision: 1.0000 - recall: 1.0000\n",
      "Epoch 3/10\n",
      "1/1 [==============================] - 0s 967us/step - loss: 0.6646 - accuracy: 1.0000 - precision: 1.0000 - recall: 1.0000\n",
      "Epoch 4/10\n",
      "1/1 [==============================] - 0s 800us/step - loss: 0.6666 - accuracy: 1.0000 - precision: 1.0000 - recall: 1.0000\n",
      "Epoch 5/10\n",
      "1/1 [==============================] - 0s 852us/step - loss: 0.6544 - accuracy: 1.0000 - precision: 1.0000 - recall: 1.0000\n",
      "Epoch 6/10\n",
      "1/1 [==============================] - 0s 876us/step - loss: 0.6582 - accuracy: 1.0000 - precision: 1.0000 - recall: 1.0000\n",
      "Epoch 7/10\n",
      "1/1 [==============================] - 0s 901us/step - loss: 0.6509 - accuracy: 1.0000 - precision: 1.0000 - recall: 1.0000\n",
      "Epoch 8/10\n",
      "1/1 [==============================] - 0s 898us/step - loss: 0.6412 - accuracy: 1.0000 - precision: 1.0000 - recall: 1.0000\n",
      "Epoch 9/10\n",
      "1/1 [==============================] - 0s 866us/step - loss: 0.6346 - accuracy: 1.0000 - precision: 1.0000 - recall: 1.0000\n",
      "Epoch 10/10\n",
      "1/1 [==============================] - 0s 887us/step - loss: 0.6258 - accuracy: 1.0000 - precision: 1.0000 - recall: 1.0000\n"
     ]
    },
    {
     "data": {
      "text/plain": [
       "<tensorflow.python.keras.callbacks.History at 0x7fc6a5da0990>"
      ]
     },
     "execution_count": 527,
     "metadata": {},
     "output_type": "execute_result"
    }
   ],
   "source": [
    "#reshape as correct shape for input LSTM model\n",
    "X_train_ = np.reshape(X_train_sc.astype(np.float16), (X_train.values.shape[0], X_train.values.shape[1], 1))\n",
    "\n",
    "nn = Sequential()\n",
    "nn.add(LSTM(units = 32, activation='relu', return_sequences = True, input_shape=(X_train_.shape[1], 1)))\n",
    "nn.add(Dense(units=32, activation='relu'))\n",
    "nn.add(Dropout(0.2))\n",
    "\n",
    "nn.add(Flatten())\n",
    "#output one value (Dense layer)\n",
    "nn.add(Dense(units=1, activation='hard_sigmoid')) \n",
    "\n",
    "nn.compile(optimizer='adam', loss='binary_crossentropy', metrics=['accuracy', 'Precision', 'Recall'])\n",
    "\n",
    "# nn.save('tweet_prediction.h5')\n",
    "nn.fit(X_train_, y_train.astype(np.float16), epochs=10, batch_size=32)"
   ]
  },
  {
   "cell_type": "code",
   "execution_count": 528,
   "metadata": {},
   "outputs": [
    {
     "name": "stdout",
     "output_type": "stream",
     "text": [
      "WARNING:tensorflow:8 out of the last 21 calls to <function Model.make_test_function.<locals>.test_function at 0x7fc6a742d950> triggered tf.function retracing. Tracing is expensive and the excessive number of tracings could be due to (1) creating @tf.function repeatedly in a loop, (2) passing tensors with different shapes, (3) passing Python objects instead of tensors. For (1), please define your @tf.function outside of the loop. For (2), @tf.function has experimental_relax_shapes=True option that relaxes argument shapes that can avoid unnecessary retracing. For (3), please refer to https://www.tensorflow.org/tutorials/customization/performance#python_or_tensor_args and https://www.tensorflow.org/api_docs/python/tf/function for  more details.\n",
      "1/1 [==============================] - 0s 966us/step - loss: 0.6450 - accuracy: 0.7500 - precision: 0.7500 - recall: 1.0000\n",
      "Test loss: 0.6450320482254028\n",
      "Test accuracy: 0.75\n",
      "Test precision: 0.75\n",
      "Test recall: 1.0\n"
     ]
    }
   ],
   "source": [
    "X_test_ = np.reshape(X_test.values, (X_test.values.shape[0], X_test.values.shape[1], 1))\n",
    "test_loss, test_acc, test_prec, test_rec = nn.evaluate(X_test_, y_test.values)\n",
    "print('Test loss:', test_loss)\n",
    "print('Test accuracy:', test_acc)\n",
    "print('Test precision:', test_prec)\n",
    "print('Test recall:', test_rec)"
   ]
  },
  {
   "cell_type": "code",
   "execution_count": 529,
   "metadata": {},
   "outputs": [
    {
     "name": "stdout",
     "output_type": "stream",
     "text": [
      "WARNING:tensorflow:5 out of the last 13 calls to <function Model.make_predict_function.<locals>.predict_function at 0x7fc7129a3440> triggered tf.function retracing. Tracing is expensive and the excessive number of tracings could be due to (1) creating @tf.function repeatedly in a loop, (2) passing tensors with different shapes, (3) passing Python objects instead of tensors. For (1), please define your @tf.function outside of the loop. For (2), @tf.function has experimental_relax_shapes=True option that relaxes argument shapes that can avoid unnecessary retracing. For (3), please refer to https://www.tensorflow.org/tutorials/customization/performance#python_or_tensor_args and https://www.tensorflow.org/api_docs/python/tf/function for  more details.\n"
     ]
    }
   ],
   "source": [
    "# predict \n",
    "y_predicted = (nn.predict(X_test_) > stats.median(nn.predict(X_test_))).astype(\"int32\")\n",
    "\n",
    "# y_predicted = (nn.predict(X_test_) > 0.5).astype(\"int32\")"
   ]
  },
  {
   "cell_type": "code",
   "execution_count": 530,
   "metadata": {},
   "outputs": [
    {
     "name": "stdout",
     "output_type": "stream",
     "text": [
      "2 4\n"
     ]
    }
   ],
   "source": [
    "print(y_predicted.sum(), y_predicted.shape[0])"
   ]
  },
  {
   "cell_type": "code",
   "execution_count": 531,
   "metadata": {},
   "outputs": [
    {
     "name": "stdout",
     "output_type": "stream",
     "text": [
      "Classification Report for NN\n",
      "\n",
      "\n",
      "              precision    recall  f1-score   support\n",
      "\n",
      "     Bullish       0.50      1.00      0.67         1\n",
      "     Bearish       1.00      0.67      0.80         3\n",
      "\n",
      "    accuracy                           0.75         4\n",
      "   macro avg       0.75      0.83      0.73         4\n",
      "weighted avg       0.88      0.75      0.77         4\n",
      "\n"
     ]
    },
    {
     "data": {
      "image/png": "[encoded data removed]",
      "text/plain": [
       "<Figure size 432x288 with 1 Axes>"
      ]
     },
     "metadata": {
      "needs_background": "light"
     },
     "output_type": "display_data"
    }
   ],
   "source": [
    "from sklearn.metrics import confusion_matrix\n",
    "\n",
    "#plot\n",
    "print(f\"Classification Report for NN\\n\\n\")\n",
    "print(classification_report(y_test.values, y_predicted, target_names=['Bullish', 'Bearish']))\n",
    "\n",
    "fig, ax = plt.subplots()\n",
    "ax.matshow(confusion_matrix(y_test, y_predicted), cmap=plt.cm.Blues, )\n",
    "for (i, j), z in np.ndenumerate(confusion_matrix(y_test, y_predicted)):\n",
    "    ax.text(j, i, '{:0.1f}'.format(z), ha='center', va='center')\n",
    "    \n",
    "# plt.colorbar()\n",
    "plt.show()"
   ]
  },
  {
   "cell_type": "code",
   "execution_count": 532,
   "metadata": {},
   "outputs": [
    {
     "name": "stdout",
     "output_type": "stream",
     "text": [
      "Model: \"sequential_79\"\n",
      "_________________________________________________________________\n",
      "Layer (type)                 Output Shape              Param #   \n",
      "=================================================================\n",
      "lstm_313 (LSTM)              (None, 6, 32)             4352      \n",
      "_________________________________________________________________\n",
      "dense_127 (Dense)            (None, 6, 32)             1056      \n",
      "_________________________________________________________________\n",
      "dropout_270 (Dropout)        (None, 6, 32)             0         \n",
      "_________________________________________________________________\n",
      "flatten_47 (Flatten)         (None, 192)               0         \n",
      "_________________________________________________________________\n",
      "dense_128 (Dense)            (None, 1)                 193       \n",
      "=================================================================\n",
      "Total params: 5,601\n",
      "Trainable params: 5,601\n",
      "Non-trainable params: 0\n",
      "_________________________________________________________________\n"
     ]
    }
   ],
   "source": [
    "nn.summary()"
   ]
  },
  {
   "cell_type": "markdown",
   "metadata": {},
   "source": [
    "### Logistic Regression"
   ]
  },
  {
   "cell_type": "code",
   "execution_count": 534,
   "metadata": {},
   "outputs": [
    {
     "ename": "ValueError",
     "evalue": "This solver needs samples of at least 2 classes in the data, but the data contains only one class: 1",
     "output_type": "error",
     "traceback": [
      "\u001b[0;31m---------------------------------------------------------------------------\u001b[0m",
      "\u001b[0;31mValueError\u001b[0m                                Traceback (most recent call last)",
      "\u001b[0;32m<ipython-input-534-9e7cd0d5b723>\u001b[0m in \u001b[0;36m<module>\u001b[0;34m\u001b[0m\n\u001b[1;32m      1\u001b[0m \u001b[0;32mfrom\u001b[0m \u001b[0msklearn\u001b[0m\u001b[0;34m.\u001b[0m\u001b[0mlinear_model\u001b[0m \u001b[0;32mimport\u001b[0m \u001b[0mLogisticRegression\u001b[0m\u001b[0;34m\u001b[0m\u001b[0;34m\u001b[0m\u001b[0m\n\u001b[1;32m      2\u001b[0m \u001b[0mclassifier\u001b[0m \u001b[0;34m=\u001b[0m \u001b[0mLogisticRegression\u001b[0m\u001b[0;34m(\u001b[0m\u001b[0;34m)\u001b[0m\u001b[0;34m\u001b[0m\u001b[0;34m\u001b[0m\u001b[0m\n\u001b[0;32m----> 3\u001b[0;31m \u001b[0mclassifier\u001b[0m\u001b[0;34m.\u001b[0m\u001b[0mfit\u001b[0m\u001b[0;34m(\u001b[0m\u001b[0mX_train\u001b[0m\u001b[0;34m.\u001b[0m\u001b[0mvalues\u001b[0m\u001b[0;34m,\u001b[0m \u001b[0my_train\u001b[0m\u001b[0;34m.\u001b[0m\u001b[0mvalues\u001b[0m\u001b[0;34m.\u001b[0m\u001b[0mravel\u001b[0m\u001b[0;34m(\u001b[0m\u001b[0;34m)\u001b[0m\u001b[0;34m)\u001b[0m\u001b[0;34m\u001b[0m\u001b[0;34m\u001b[0m\u001b[0m\n\u001b[0m\u001b[1;32m      4\u001b[0m \u001b[0;34m\u001b[0m\u001b[0m\n\u001b[1;32m      5\u001b[0m \u001b[0;31m# predict\u001b[0m\u001b[0;34m\u001b[0m\u001b[0;34m\u001b[0m\u001b[0;34m\u001b[0m\u001b[0m\n",
      "\u001b[0;32m~/opt/anaconda3/envs/tensorflow_env/lib/python3.7/site-packages/sklearn/linear_model/_logistic.py\u001b[0m in \u001b[0;36mfit\u001b[0;34m(self, X, y, sample_weight)\u001b[0m\n\u001b[1;32m   1372\u001b[0m             raise ValueError(\"This solver needs samples of at least 2 classes\"\n\u001b[1;32m   1373\u001b[0m                              \u001b[0;34m\" in the data, but the data contains only one\"\u001b[0m\u001b[0;34m\u001b[0m\u001b[0;34m\u001b[0m\u001b[0m\n\u001b[0;32m-> 1374\u001b[0;31m                              \" class: %r\" % classes_[0])\n\u001b[0m\u001b[1;32m   1375\u001b[0m \u001b[0;34m\u001b[0m\u001b[0m\n\u001b[1;32m   1376\u001b[0m         \u001b[0;32mif\u001b[0m \u001b[0mlen\u001b[0m\u001b[0;34m(\u001b[0m\u001b[0mself\u001b[0m\u001b[0;34m.\u001b[0m\u001b[0mclasses_\u001b[0m\u001b[0;34m)\u001b[0m \u001b[0;34m==\u001b[0m \u001b[0;36m2\u001b[0m\u001b[0;34m:\u001b[0m\u001b[0;34m\u001b[0m\u001b[0;34m\u001b[0m\u001b[0m\n",
      "\u001b[0;31mValueError\u001b[0m: This solver needs samples of at least 2 classes in the data, but the data contains only one class: 1"
     ]
    }
   ],
   "source": [
    "from sklearn.linear_model import LogisticRegression\n",
    "classifier = LogisticRegression()\n",
    "classifier.fit(X_train.values, y_train.values.ravel())\n",
    "\n",
    "# predict \n",
    "y_predicted = classifier.predict(X_test.values) \n",
    "\n",
    "#plot\n",
    "print(f\"Classification Report for Logistic Regression\\n\\n\")\n",
    "print(classification_report(y_test.values, y_predicted, target_names=['Bullish', 'Bearish']))\n",
    "plot_confusion_matrix(classifier, X_test.values, y_test.values, cmap=plt.cm.Blues, display_labels=['Bullish', 'Bearish'])  \n",
    "plt.show()  "
   ]
  },
  {
   "cell_type": "code",
   "execution_count": 89,
   "metadata": {},
   "outputs": [
    {
     "name": "stdout",
     "output_type": "stream",
     "text": [
      "Accuracy: 58.63 %\n",
      "Standard Deviation: 0.10 %\n",
      "Best Accuracy: 58.63 %\n",
      "Best Parameters: {'C': 0.2, 'penalty': 'l1', 'solver': 'liblinear'}\n"
     ]
    },
    {
     "data": {
      "image/png": "[encoded data removed]",
      "text/plain": [
       "<Figure size 432x288 with 2 Axes>"
      ]
     },
     "metadata": {
      "needs_background": "light"
     },
     "output_type": "display_data"
    }
   ],
   "source": [
    "from sklearn.model_selection import cross_val_score\n",
    "accuracies = cross_val_score(estimator = classifier, X = X_train.values, y = y_train.values.ravel(), cv = 10)\n",
    "print(\"Accuracy: {:.2f} %\".format(accuracies.mean()*100))\n",
    "print(\"Standard Deviation: {:.2f} %\".format(accuracies.std()*100))\n",
    "\n",
    "from sklearn.model_selection import GridSearchCV\n",
    "parameters = [{'penalty': ['l1', 'l2', 'elasticnet'], 'C': [0.2, 0.4, 0.6, 0.8, 1.0, 10], \\\n",
    "               'solver': ['newton-cg', 'lbfgs', 'liblinear', 'sag', 'saga']}]\n",
    "grid_search = GridSearchCV(estimator = classifier,\n",
    "                           param_grid = parameters,\n",
    "                           scoring = 'accuracy',\n",
    "                           cv = 5,\n",
    "                           n_jobs = -1)\n",
    "grid_search.fit(X_train.values, y_train.values.ravel())\n",
    "best_accuracy = grid_search.best_score_\n",
    "best_parameters = grid_searc## K-Nearest-Neighbors (KNN)h.best_params_\n",
    "print(\"Best Accuracy: {:.2f} %\".format(best_accuracy*100))\n",
    "print(\"Best Parameters:\", best_parameters)\n",
    "\n",
    "# predict \n",
    "y_predicted = grid_search.predict(X_test.values) \n",
    "\n",
    "#plot\n",
    "plot_confusion_matrix(grid_search, X_test.values, y_test.values, cmap=plt.cm.Blues, display_labels=['Bullish', 'Bearish'])  \n",
    "plt.show()  "
   ]
  },
  {
   "cell_type": "markdown",
   "metadata": {},
   "source": [
    "## K-Nearest-Neighbors (KNN)"
   ]
  },
  {
   "cell_type": "code",
   "execution_count": 104,
   "metadata": {},
   "outputs": [
    {
     "name": "stdout",
     "output_type": "stream",
     "text": [
      "Classification Report for K-Nearest-Neighbors\n",
      "\n",
      "\n",
      "              precision    recall  f1-score   support\n",
      "\n",
      "     Bullish       0.42      0.52      0.46       380\n",
      "     Bearish       0.55      0.45      0.50       500\n",
      "\n",
      "    accuracy                           0.48       880\n",
      "   macro avg       0.49      0.48      0.48       880\n",
      "weighted avg       0.49      0.48      0.48       880\n",
      "\n"
     ]
    },
    {
     "data": {
      "image/png": "[encoded data removed]",
      "text/plain": [
       "<Figure size 432x288 with 2 Axes>"
      ]
     },
     "metadata": {
      "needs_background": "light"
     },
     "output_type": "display_data"
    }
   ],
   "source": [
    "from sklearn.neighbors import KNeighborsClassifier\n",
    "classifier = KNeighborsClassifier(n_neighbors = 5, metric = 'minkowski', p = 2)\n",
    "classifier.fit(X_train.values, y_train.values.ravel())\n",
    "\n",
    "# predict \n",
    "y_predicted = classifier.predict(X_test.values) \n",
    "\n",
    "#plot\n",
    "print(f\"Classification Report for K-Nearest-Neighbors\\n\\n\")\n",
    "print(classification_report(y_test.values, y_predicted, target_names=['Bullish', 'Bearish']))\n",
    "plot_confusion_matrix(classifier, X_test.values, y_test.values, cmap=plt.cm.Blues, display_labels=['Bullish', 'Bearish'])  \n",
    "plt.show()  "
   ]
  },
  {
   "cell_type": "code",
   "execution_count": 105,
   "metadata": {},
   "outputs": [
    {
     "name": "stdout",
     "output_type": "stream",
     "text": [
      "Accuracy: 54.03 %\n",
      "Standard Deviation: 3.32 %\n",
      "Best Accuracy: 54.40 %\n",
      "Best Parameters: {'algorithm': 'auto', 'n_neighbors': 20, 'weights': 'uniform'}\n"
     ]
    },
    {
     "data": {
      "image/png": "[encoded data removed]",
      "text/plain": [
       "<Figure size 432x288 with 2 Axes>"
      ]
     },
     "metadata": {
      "needs_background": "light"
     },
     "output_type": "display_data"
    }
   ],
   "source": [
    "from sklearn.model_selection import cross_val_score\n",
    "accuracies = cross_val_score(estimator = classifier, X = X_train.values, y = y_train.values.ravel(), cv = 10)\n",
    "print(\"Accuracy: {:.2f} %\".format(accuracies.mean()*100))\n",
    "print(\"Standard Deviation: {:.2f} %\".format(accuracies.std()*100))\n",
    "\n",
    "from sklearn.model_selection import GridSearchCV\n",
    "parameters = [{'n_neighbors': [5, 10, 20, 30], 'weights': ['uniform', 'distance'], \\\n",
    "              'algorithm': ['auto', 'ball_tree', 'kd_tree', 'brute']}]\n",
    "grid_search = GridSearchCV(estimator = classifier,\n",
    "                           param_grid = parameters,\n",
    "                           scoring = 'accuracy',\n",
    "                           cv = 5,\n",
    "                           n_jobs = -1)\n",
    "grid_search.fit(X_train.values, y_train.values.ravel())\n",
    "best_accuracy = grid_search.best_score_\n",
    "best_parameters = grid_search.best_params_\n",
    "print(\"Best Accuracy: {:.2f} %\".format(best_accuracy*100))\n",
    "print(\"Best Parameters:\", best_parameters)\n",
    "\n",
    "# predict \n",
    "y_predicted = grid_search.predict(X_test.values) \n",
    "\n",
    "#plot\n",
    "plot_confusion_matrix(grid_search, X_test.values, y_test.values, cmap=plt.cm.Blues, display_labels=['Bullish', 'Bearish'])  \n",
    "plt.show() "
   ]
  },
  {
   "cell_type": "markdown",
   "metadata": {},
   "source": [
    "# Kernel SVM"
   ]
  },
  {
   "cell_type": "code",
   "execution_count": 92,
   "metadata": {},
   "outputs": [
    {
     "name": "stdout",
     "output_type": "stream",
     "text": [
      "Classification Report for Kernel SVM\n",
      "\n",
      "\n",
      "              precision    recall  f1-score   support\n",
      "\n",
      "     Bullish       0.00      0.00      0.00       380\n",
      "     Bearish       0.57      1.00      0.72       500\n",
      "\n",
      "    accuracy                           0.57       880\n",
      "   macro avg       0.28      0.50      0.36       880\n",
      "weighted avg       0.32      0.57      0.41       880\n",
      "\n"
     ]
    },
    {
     "name": "stderr",
     "output_type": "stream",
     "text": [
      "/Users/Roy/opt/anaconda3/envs/tensorflow_env/lib/python3.7/site-packages/sklearn/metrics/_classification.py:1221: UndefinedMetricWarning: Precision and F-score are ill-defined and being set to 0.0 in labels with no predicted samples. Use `zero_division` parameter to control this behavior.\n",
      "  _warn_prf(average, modifier, msg_start, len(result))\n"
     ]
    },
    {
     "data": {
      "image/png": "[encoded data removed]",
      "text/plain": [
       "<Figure size 432x288 with 2 Axes>"
      ]
     },
     "metadata": {
      "needs_background": "light"
     },
     "output_type": "display_data"
    }
   ],
   "source": [
    "from sklearn.svm import SVC\n",
    "classifier = SVC(kernel = 'rbf', random_state = 0)\n",
    "classifier.fit(X_train, y_train.values.ravel())\n",
    "\n",
    "# predict \n",
    "y_predicted = classifier.predict(X_test) \n",
    "\n",
    "#plot\n",
    "print(f\"Classification Report for Kernel SVM\\n\\n\")\n",
    "print(classification_report(y_test.values, y_predicted, target_names=['Bullish', 'Bearish']))\n",
    "plot_confusion_matrix(classifier, X_test.values, y_test.values, cmap=plt.cm.Blues, display_labels=['Bullish', 'Bearish'])  \n",
    "plt.show()  "
   ]
  },
  {
   "cell_type": "code",
   "execution_count": 94,
   "metadata": {},
   "outputs": [
    {
     "name": "stdout",
     "output_type": "stream",
     "text": [
      "Accuracy: 58.63 %\n",
      "Standard Deviation: 0.10 %\n",
      "Best Accuracy: 58.63 %\n",
      "Best Parameters: {'C': 0.2, 'kernel': 'linear'}\n"
     ]
    },
    {
     "data": {
      "image/png": "[encoded data removed]",
      "text/plain": [
       "<Figure size 432x288 with 2 Axes>"
      ]
     },
     "metadata": {
      "needs_background": "light"
     },
     "output_type": "display_data"
    }
   ],
   "source": [
    "from sklearn.model_selection import cross_val_score\n",
    "accuracies = cross_val_score(estimator = classifier, X = X_train.values, y = y_train.values.ravel(), cv = 10)\n",
    "print(\"Accuracy: {:.2f} %\".format(accuracies.mean()*100))\n",
    "print(\"Standard Deviation: {:.2f} %\".format(accuracies.std()*100))\n",
    "\n",
    "from sklearn.model_selection import GridSearchCV\n",
    "parameters = [{'C': [0.2, 0.5, 1.0, 10.0], 'kernel': ['linear', 'rbf', 'sigmoid']}, \\\n",
    "              {'C': [0.2, 0.5, 1.0, 10.0], 'kernel': ['poly'], 'degree': [2, 3, 4]}]\n",
    "grid_search = GridSearchCV(estimator = classifier,\n",
    "                           param_grid = parameters,\n",
    "                           scoring = 'accuracy',\n",
    "                           cv = 5,\n",
    "                           n_jobs = -1)\n",
    "grid_search.fit(X_train.values, y_train.values.ravel())\n",
    "best_accuracy = grid_search.best_score_\n",
    "best_parameters = grid_search.best_params_\n",
    "print(\"Best Accuracy: {:.2f} %\".format(best_accuracy*100))\n",
    "print(\"Best Parameters:\", best_parameters)\n",
    "\n",
    "# predict \n",
    "y_predicted = grid_search.predict(X_test.values) \n",
    "\n",
    "#plot\n",
    "plot_confusion_matrix(grid_search, X_test.values, y_test.values, cmap=plt.cm.Blues, display_labels=['Bullish', 'Bearish'])  \n",
    "plt.show() "
   ]
  },
  {
   "cell_type": "markdown",
   "metadata": {},
   "source": [
    "## Naive Bayes"
   ]
  },
  {
   "cell_type": "code",
   "execution_count": 95,
   "metadata": {},
   "outputs": [
    {
     "name": "stdout",
     "output_type": "stream",
     "text": [
      "Classification Report for Naive Bayes\n",
      "\n",
      "\n",
      "              precision    recall  f1-score   support\n",
      "\n",
      "     Bullish       0.00      0.00      0.00       380\n",
      "     Bearish       0.57      1.00      0.72       500\n",
      "\n",
      "    accuracy                           0.57       880\n",
      "   macro avg       0.28      0.50      0.36       880\n",
      "weighted avg       0.32      0.57      0.41       880\n",
      "\n"
     ]
    },
    {
     "name": "stderr",
     "output_type": "stream",
     "text": [
      "/Users/Roy/opt/anaconda3/envs/tensorflow_env/lib/python3.7/site-packages/sklearn/metrics/_classification.py:1221: UndefinedMetricWarning: Precision and F-score are ill-defined and being set to 0.0 in labels with no predicted samples. Use `zero_division` parameter to control this behavior.\n",
      "  _warn_prf(average, modifier, msg_start, len(result))\n"
     ]
    },
    {
     "data": {
      "image/png": "[encoded data removed]",
      "text/plain": [
       "<Figure size 432x288 with 2 Axes>"
      ]
     },
     "metadata": {
      "needs_background": "light"
     },
     "output_type": "display_data"
    }
   ],
   "source": [
    "from sklearn.naive_bayes import GaussianNB\n",
    "classifier = GaussianNB()\n",
    "classifier.fit(X_train.values, y_train.values.ravel())\n",
    "\n",
    "# predict \n",
    "y_predicted = classifier.predict(X_test.values) \n",
    "\n",
    "#plot\n",
    "print(f\"Classification Report for Naive Bayes\\n\\n\")\n",
    "print(classification_report(y_test.values, y_predicted, target_names=['Bullish', 'Bearish']))\n",
    "plot_confusion_matrix(classifier, X_test.values, y_test.values, cmap=plt.cm.Blues, display_labels=['Bullish', 'Bearish'])  \n",
    "plt.show()  "
   ]
  },
  {
   "cell_type": "code",
   "execution_count": 96,
   "metadata": {},
   "outputs": [
    {
     "name": "stdout",
     "output_type": "stream",
     "text": [
      "Classification Report for Naive Bayes\n",
      "\n",
      "\n",
      "              precision    recall  f1-score   support\n",
      "\n",
      "     Bullish       0.00      0.00      0.00       380\n",
      "     Bearish       0.57      1.00      0.72       500\n",
      "\n",
      "    accuracy                           0.57       880\n",
      "   macro avg       0.28      0.50      0.36       880\n",
      "weighted avg       0.32      0.57      0.41       880\n",
      "\n"
     ]
    },
    {
     "name": "stderr",
     "output_type": "stream",
     "text": [
      "/Users/Roy/opt/anaconda3/envs/tensorflow_env/lib/python3.7/site-packages/sklearn/metrics/_classification.py:1221: UndefinedMetricWarning: Precision and F-score are ill-defined and being set to 0.0 in labels with no predicted samples. Use `zero_division` parameter to control this behavior.\n",
      "  _warn_prf(average, modifier, msg_start, len(result))\n"
     ]
    },
    {
     "data": {
      "image/png": "[encoded data removed]",
      "text/plain": [
       "<Figure size 432x288 with 2 Axes>"
      ]
     },
     "metadata": {
      "needs_background": "light"
     },
     "output_type": "display_data"
    }
   ],
   "source": [
    "from sklearn.naive_bayes import BernoulliNB\n",
    "classifier = BernoulliNB()\n",
    "classifier.fit(X_train.values, y_train.values.ravel())\n",
    "\n",
    "# predict \n",
    "y_predicted = classifier.predict(X_test.values) \n",
    "\n",
    "#plot\n",
    "print(f\"Classification Report for Naive Bayes\\n\\n\")\n",
    "print(classification_report(y_test.values, y_predicted, target_names=['Bullish', 'Bearish']))\n",
    "plot_confusion_matrix(classifier, X_test.values, y_test.values, cmap=plt.cm.Blues, display_labels=['Bullish', 'Bearish'])  \n",
    "plt.show()  "
   ]
  },
  {
   "cell_type": "code",
   "execution_count": 97,
   "metadata": {},
   "outputs": [
    {
     "name": "stdout",
     "output_type": "stream",
     "text": [
      "Accuracy: 58.63 %\n",
      "Standard Deviation: 0.10 %\n",
      "Best Accuracy: 58.63 %\n",
      "Best Parameters: {'alpha': 0.0}\n"
     ]
    },
    {
     "name": "stderr",
     "output_type": "stream",
     "text": [
      "/Users/Roy/opt/anaconda3/envs/tensorflow_env/lib/python3.7/site-packages/sklearn/naive_bayes.py:512: UserWarning: alpha too small will result in numeric errors, setting alpha = 1.0e-10\n",
      "  'setting alpha = %.1e' % _ALPHA_MIN)\n"
     ]
    },
    {
     "data": {
      "image/png": "[encoded data removed]",
      "text/plain": [
       "<Figure size 432x288 with 2 Axes>"
      ]
     },
     "metadata": {
      "needs_background": "light"
     },
     "output_type": "display_data"
    }
   ],
   "source": [
    "from sklearn.model_selection import cross_val_score\n",
    "accuracies = cross_val_score(estimator = classifier, X = X_train.values, y = y_train.values.ravel(), cv = 10)\n",
    "print(\"Accuracy: {:.2f} %\".format(accuracies.mean()*100))\n",
    "print(\"Standard Deviation: {:.2f} %\".format(accuracies.std()*100))\n",
    "\n",
    "from sklearn.model_selection import GridSearchCV\n",
    "parameters = [{'alpha': [0.0, 0.2, 0.5, 1.0]}]\n",
    "grid_search = GridSearchCV(estimator = classifier,\n",
    "                           param_grid = parameters,\n",
    "                           scoring = 'accuracy',\n",
    "                           cv = 5,\n",
    "                           n_jobs = -1)\n",
    "grid_search.fit(X_train.values, y_train.values.ravel())\n",
    "best_accuracy = grid_search.best_score_\n",
    "best_parameters = grid_search.best_params_\n",
    "print(\"Best Accuracy: {:.2f} %\".format(best_accuracy*100))\n",
    "print(\"Best Parameters:\", best_parameters)\n",
    "\n",
    "# predict \n",
    "y_predicted = grid_search.predict(X_test.values) \n",
    "\n",
    "#plot\n",
    "plot_confusion_matrix(grid_search, X_test.values, y_test.values, cmap=plt.cm.Blues, display_labels=['Bullish', 'Bearish'])  \n",
    "plt.show() "
   ]
  },
  {
   "cell_type": "markdown",
   "metadata": {},
   "source": [
    "## Decision Tree Classification"
   ]
  },
  {
   "cell_type": "code",
   "execution_count": 98,
   "metadata": {},
   "outputs": [
    {
     "name": "stdout",
     "output_type": "stream",
     "text": [
      "Classification Report for Decision Tree Classification\n",
      "\n",
      "\n",
      "              precision    recall  f1-score   support\n",
      "\n",
      "     Bullish       0.00      0.00      0.00       380\n",
      "     Bearish       0.57      1.00      0.72       500\n",
      "\n",
      "    accuracy                           0.57       880\n",
      "   macro avg       0.28      0.50      0.36       880\n",
      "weighted avg       0.32      0.57      0.41       880\n",
      "\n"
     ]
    },
    {
     "name": "stderr",
     "output_type": "stream",
     "text": [
      "/Users/Roy/opt/anaconda3/envs/tensorflow_env/lib/python3.7/site-packages/sklearn/metrics/_classification.py:1221: UndefinedMetricWarning: Precision and F-score are ill-defined and being set to 0.0 in labels with no predicted samples. Use `zero_division` parameter to control this behavior.\n",
      "  _warn_prf(average, modifier, msg_start, len(result))\n"
     ]
    },
    {
     "data": {
      "image/png": "[encoded data removed]",
      "text/plain": [
       "<Figure size 432x288 with 2 Axes>"
      ]
     },
     "metadata": {
      "needs_background": "light"
     },
     "output_type": "display_data"
    }
   ],
   "source": [
    "from sklearn.tree import DecisionTreeClassifier\n",
    "classifier = DecisionTreeClassifier(criterion = 'entropy', random_state = 0)\n",
    "classifier.fit(X_train.values, y_train.values.ravel())\n",
    "\n",
    "# predict \n",
    "y_predicted = classifier.predict(X_test.values) \n",
    "\n",
    "#plot\n",
    "print(f\"Classification Report for Decision Tree Classification\\n\\n\")\n",
    "print(classification_report(y_test.values, y_predicted, target_names=['Bullish', 'Bearish']))\n",
    "plot_confusion_matrix(classifier, X_test.values, y_test.values, cmap=plt.cm.Blues, display_labels=['Bullish', 'Bearish'])  \n",
    "plt.show()  "
   ]
  },
  {
   "cell_type": "markdown",
   "metadata": {},
   "source": [
    "## Random Forest Classification"
   ]
  },
  {
   "cell_type": "code",
   "execution_count": 107,
   "metadata": {},
   "outputs": [
    {
     "name": "stdout",
     "output_type": "stream",
     "text": [
      "Classification Report for Random Forest Classification\n",
      "\n",
      "\n",
      "              precision    recall  f1-score   support\n",
      "\n",
      "     Bullish       0.00      0.00      0.00       380\n",
      "     Bearish       0.57      1.00      0.72       500\n",
      "\n",
      "    accuracy                           0.57       880\n",
      "   macro avg       0.28      0.50      0.36       880\n",
      "weighted avg       0.32      0.57      0.41       880\n",
      "\n"
     ]
    },
    {
     "name": "stderr",
     "output_type": "stream",
     "text": [
      "/Users/Roy/opt/anaconda3/envs/tensorflow_env/lib/python3.7/site-packages/sklearn/metrics/_classification.py:1221: UndefinedMetricWarning: Precision and F-score are ill-defined and being set to 0.0 in labels with no predicted samples. Use `zero_division` parameter to control this behavior.\n",
      "  _warn_prf(average, modifier, msg_start, len(result))\n"
     ]
    },
    {
     "data": {
      "image/png": "[encoded data removed]",
      "text/plain": [
       "<Figure size 432x288 with 2 Axes>"
      ]
     },
     "metadata": {
      "needs_background": "light"
     },
     "output_type": "display_data"
    }
   ],
   "source": [
    "from sklearn.ensemble import RandomForestClassifier\n",
    "classifier = RandomForestClassifier(n_estimators = 10, criterion = 'entropy', random_state = 0)\n",
    "classifier.fit(X_train.values, y_train.values.ravel())\n",
    "\n",
    "# predict \n",
    "y_predicted = classifier.predict(X_test) \n",
    "\n",
    "#plot\n",
    "print(f\"Classification Report for Random Forest Classification\\n\\n\")\n",
    "print(classification_report(y_test.values, y_predicted, target_names=['Bullish', 'Bearish']))\n",
    "plot_confusion_matrix(classifier, X_test.values, y_test.values, cmap=plt.cm.Blues, display_labels=['Bullish', 'Bearish'])  \n",
    "plt.show()  "
   ]
  },
  {
   "cell_type": "code",
   "execution_count": 108,
   "metadata": {},
   "outputs": [
    {
     "name": "stdout",
     "output_type": "stream",
     "text": [
      "Accuracy: 58.63 %\n",
      "Standard Deviation: 0.10 %\n",
      "Best Accuracy: 58.63 %\n",
      "Best Parameters: {'criterion': 'entropy', 'n_estimators': 8}\n"
     ]
    },
    {
     "data": {
      "image/png": "[encoded data removed]",
      "text/plain": [
       "<Figure size 432x288 with 2 Axes>"
      ]
     },
     "metadata": {
      "needs_background": "light"
     },
     "output_type": "display_data"
    }
   ],
   "source": [
    "from sklearn.model_selection import cross_val_score\n",
    "accuracies = cross_val_score(estimator = classifier, X = X_train.values, y = y_train.values.ravel(), cv = 10)\n",
    "print(\"Accuracy: {:.2f} %\".format(accuracies.mean()*100))\n",
    "print(\"Standard Deviation: {:.2f} %\".format(accuracies.std()*100))\n",
    "\n",
    "from sklearn.model_selection import GridSearchCV\n",
    "parameters = [{'n_estimators': [2, 4, 8, 16, 20], 'criterion': ['entropy', 'gini']}]\n",
    "grid_search = GridSearchCV(estimator = classifier,\n",
    "                           param_grid = parameters,\n",
    "                           scoring = 'accuracy',\n",
    "                           cv = 15,\n",
    "                           n_jobs = -1)\n",
    "grid_search.fit(X_train.values, y_train.values.ravel())\n",
    "best_accuracy = grid_search.best_score_\n",
    "best_parameters = grid_search.best_params_\n",
    "print(\"Best Accuracy: {:.2f} %\".format(best_accuracy*100))\n",
    "print(\"Best Parameters:\", best_parameters)\n",
    "\n",
    "# predict \n",
    "y_predicted = grid_search.predict(X_test.values) \n",
    "\n",
    "#plot\n",
    "plot_confusion_matrix(grid_search, X_test.values, y_test.values, cmap=plt.cm.Blues, display_labels=['Bullish', 'Bearish'])  \n",
    "plt.show() "
   ]
  },
  {
   "cell_type": "markdown",
   "metadata": {},
   "source": [
    "# Regression"
   ]
  },
  {
   "cell_type": "code",
   "execution_count": 137,
   "metadata": {},
   "outputs": [
    {
     "data": {
      "text/plain": [
       "(3524, 4, 1)"
      ]
     },
     "execution_count": 137,
     "metadata": {},
     "output_type": "execute_result"
    }
   ],
   "source": [
    "X_train_.shape"
   ]
  },
  {
   "cell_type": "code",
   "execution_count": 215,
   "metadata": {},
   "outputs": [
    {
     "name": "stdout",
     "output_type": "stream",
     "text": [
      "(880,)\n",
      "500.0\n",
      "0.5681818181818182\n",
      "(3524,)\n",
      "2066.0\n",
      "0.5862656072644722\n"
     ]
    }
   ],
   "source": [
    "print(y_test.shape)\n",
    "print(y_test.sum())\n",
    "print(y_test.sum()/y_test.shape[0])\n",
    "\n",
    "print(y_train.shape)\n",
    "print(y_train.sum())\n",
    "print(y_train.sum()/y_train.shape[0])\n"
   ]
  },
  {
   "cell_type": "code",
   "execution_count": 208,
   "metadata": {},
   "outputs": [
    {
     "name": "stdout",
     "output_type": "stream",
     "text": [
      "Epoch 1/15\n",
      "1/1 [==============================] - 0s 886us/step - loss: 0.2500 - mae: 0.5000\n",
      "Epoch 2/15\n",
      "1/1 [==============================] - 0s 1ms/step - loss: 0.2490 - mae: 0.4990\n",
      "Epoch 3/15\n",
      "1/1 [==============================] - 0s 889us/step - loss: 0.2478 - mae: 0.4978\n",
      "Epoch 4/15\n",
      "1/1 [==============================] - 0s 999us/step - loss: 0.2465 - mae: 0.4965\n",
      "Epoch 5/15\n",
      "1/1 [==============================] - 0s 910us/step - loss: 0.2451 - mae: 0.4951\n",
      "Epoch 6/15\n",
      "1/1 [==============================] - 0s 914us/step - loss: 0.2437 - mae: 0.4937\n",
      "Epoch 7/15\n",
      "1/1 [==============================] - 0s 935us/step - loss: 0.2421 - mae: 0.4920\n",
      "Epoch 8/15\n",
      "1/1 [==============================] - 0s 1ms/step - loss: 0.2401 - mae: 0.4900\n",
      "Epoch 9/15\n",
      "1/1 [==============================] - 0s 1ms/step - loss: 0.2381 - mae: 0.4880\n",
      "Epoch 10/15\n",
      "1/1 [==============================] - 0s 2ms/step - loss: 0.2361 - mae: 0.4859\n",
      "Epoch 11/15\n",
      "1/1 [==============================] - 0s 1ms/step - loss: 0.2337 - mae: 0.4834\n",
      "Epoch 12/15\n",
      "1/1 [==============================] - 0s 1ms/step - loss: 0.2307 - mae: 0.4803\n",
      "Epoch 13/15\n",
      "1/1 [==============================] - 0s 1ms/step - loss: 0.2284 - mae: 0.4780\n",
      "Epoch 14/15\n",
      "1/1 [==============================] - 0s 1ms/step - loss: 0.2258 - mae: 0.4752\n",
      "Epoch 15/15\n",
      "1/1 [==============================] - 0s 989us/step - loss: 0.2216 - mae: 0.4707\n"
     ]
    },
    {
     "data": {
      "text/plain": [
       "<tensorflow.python.keras.callbacks.History at 0x7fcb5addd050>"
      ]
     },
     "execution_count": 208,
     "metadata": {},
     "output_type": "execute_result"
    }
   ],
   "source": [
    "#reshape as correct shape for input LSTM model\n",
    "X_train_ = np.reshape(X_train.values, (X_train.values.shape[0], X_train.values.shape[1], 1))\n",
    "\n",
    "nn = Sequential()\n",
    "nn.add(LSTM(units = 128, activation='relu', return_sequences = True, input_shape=(X_train_[0].reshape(1,-1, 1).shape[1], 1)))\n",
    "nn.add(Dropout(0.2))\n",
    "nn.add(LSTM(units = 128, activation='relu', return_sequences = True))\n",
    "nn.add(Dropout(0.2))\n",
    "nn.add(LSTM(units = 128, activation='relu', return_sequences = True))\n",
    "nn.add(Dropout(0.2))\n",
    "nn.add(LSTM(units = 128, activation='relu', return_sequences = True))\n",
    "nn.add(Dropout(0.2))\n",
    "nn.add(LSTM(units = 128, activation='relu', return_sequences = True))\n",
    "nn.add(Dropout(0.2))\n",
    "nn.add(LSTM(units = 128, activation='relu', return_sequences = True))\n",
    "nn.add(Dropout(0.2))\n",
    "nn.add(LSTM(units = 64, activation='relu', return_sequences = False))\n",
    "nn.add(Flatten())\n",
    "#output one value (Dense layer)\n",
    "nn.add(Dense(units=1, activation='sigmoid')) \n",
    "\n",
    "nn.compile(optimizer='adam', loss='mse', metrics=['mae'])\n",
    "\n",
    "# nn.save('tweet_prediction.h5')\n",
    "nn.fit(X_train_[0].reshape(1,-1, 1), np.expand_dims(y_train.iloc[0], axis=0), epochs=15, batch_size=1)"
   ]
  },
  {
   "cell_type": "code",
   "execution_count": 209,
   "metadata": {},
   "outputs": [
    {
     "data": {
      "text/plain": [
       "array([0.])"
      ]
     },
     "execution_count": 209,
     "metadata": {},
     "output_type": "execute_result"
    }
   ],
   "source": [
    "np.expand_dims(y_train.iloc[0], axis=0)"
   ]
  },
  {
   "cell_type": "code",
   "execution_count": 210,
   "metadata": {},
   "outputs": [
    {
     "name": "stdout",
     "output_type": "stream",
     "text": [
      "WARNING:tensorflow:5 out of the last 144 calls to <function Model.make_predict_function.<locals>.predict_function at 0x7fcb5c7765f0> triggered tf.function retracing. Tracing is expensive and the excessive number of tracings could be due to (1) creating @tf.function repeatedly in a loop, (2) passing tensors with different shapes, (3) passing Python objects instead of tensors. For (1), please define your @tf.function outside of the loop. For (2), @tf.function has experimental_relax_shapes=True option that relaxes argument shapes that can avoid unnecessary retracing. For (3), please refer to https://www.tensorflow.org/tutorials/customization/performance#python_or_tensor_args and https://www.tensorflow.org/api_docs/python/tf/function for  more details.\n"
     ]
    },
    {
     "data": {
      "text/plain": [
       "array([[0.46734366]], dtype=float32)"
      ]
     },
     "execution_count": 210,
     "metadata": {},
     "output_type": "execute_result"
    }
   ],
   "source": [
    "nn.predict(X_train_[0].reshape(1,-1, 1))"
   ]
  },
  {
   "cell_type": "code",
   "execution_count": 136,
   "metadata": {},
   "outputs": [
    {
     "data": {
      "image/png": "[encoded data removed]",
      "text/plain": [
       "<Figure size 720x1080 with 6 Axes>"
      ]
     },
     "metadata": {
      "needs_background": "light"
     },
     "output_type": "display_data"
    }
   ],
   "source": [
    "import numpy as np\n",
    "import matplotlib.pyplot as plt\n",
    "from sklearn.naive_bayes import GaussianNB\n",
    "from sklearn.svm import SVC\n",
    "from sklearn.datasets import load_digits\n",
    "from sklearn.model_selection import learning_curve\n",
    "from sklearn.model_selection import ShuffleSplit\n",
    "\n",
    "\n",
    "def plot_learning_curve(estimator, title, X, y, axes=None, ylim=None, cv=None,\n",
    "                        n_jobs=None, train_sizes=np.linspace(.1, 1.0, 5)):\n",
    "    \"\"\"\n",
    "    Generate 3 plots: the test and training learning curve, the training\n",
    "    samples vs fit times curve, the fit times vs score curve.\n",
    "\n",
    "    Parameters\n",
    "    ----------\n",
    "    estimator : estimator instance\n",
    "        An estimator instance implementing `fit` and `predict` methods which\n",
    "        will be cloned for each validation.\n",
    "\n",
    "    title : str\n",
    "        Title for the chart.\n",
    "\n",
    "    X : array-like of shape (n_samples, n_features)\n",
    "        Training vector, where ``n_samples`` is the number of samples and\n",
    "        ``n_features`` is the number of features.\n",
    "\n",
    "    y : array-like of shape (n_samples) or (n_samples, n_features)\n",
    "        Target relative to ``X`` for classification or regression;\n",
    "        None for unsupervised learning.\n",
    "\n",
    "    axes : array-like of shape (3,), default=None\n",
    "        Axes to use for plotting the curves.\n",
    "\n",
    "    ylim : tuple of shape (2,), default=None\n",
    "        Defines minimum and maximum y-values plotted, e.g. (ymin, ymax).\n",
    "\n",
    "    cv : int, cross-validation generator or an iterable, default=None\n",
    "        Determines the cross-validation splitting strategy.\n",
    "        Possible inputs for cv are:\n",
    "\n",
    "          - None, to use the default 5-fold cross-validation,\n",
    "          - integer, to specify the number of folds.\n",
    "          - :term:`CV splitter`,\n",
    "          - An iterable yielding (train, test) splits as arrays of indices.\n",
    "\n",
    "        For integer/None inputs, if ``y`` is binary or multiclass,\n",
    "        :class:`StratifiedKFold` used. If the estimator is not a classifier\n",
    "        or if ``y`` is neither binary nor multiclass, :class:`KFold` is used.\n",
    "\n",
    "        Refer :ref:`User Guide <cross_validation>` for the various\n",
    "        cross-validators that can be used here.\n",
    "\n",
    "    n_jobs : int or None, default=None\n",
    "        Number of jobs to run in parallel.\n",
    "        ``None`` means 1 unless in a :obj:`joblib.parallel_backend` context.\n",
    "        ``-1`` means using all processors. See :term:`Glossary <n_jobs>`\n",
    "        for more details.\n",
    "\n",
    "    train_sizes : array-like of shape (n_ticks,)\n",
    "        Relative or absolute numbers of training examples that will be used to\n",
    "        generate the learning curve. If the ``dtype`` is float, it is regarded\n",
    "        as a fraction of the maximum size of the training set (that is\n",
    "        determined by the selected validation method), i.e. it has to be within\n",
    "        (0, 1]. Otherwise it is interpreted as absolute sizes of the training\n",
    "        sets. Note that for classification the number of samples usually have\n",
    "        to be big enough to contain at least one sample from each class.\n",
    "        (default: np.linspace(0.1, 1.0, 5))\n",
    "    \"\"\"\n",
    "    if axes is None:\n",
    "        _, axes = plt.subplots(1, 3, figsize=(20, 5))\n",
    "\n",
    "    axes[0].set_title(title)\n",
    "    if ylim is not None:\n",
    "        axes[0].set_ylim(*ylim)\n",
    "    axes[0].set_xlabel(\"Training examples\")\n",
    "    axes[0].set_ylabel(\"Score\")\n",
    "\n",
    "    train_sizes, train_scores, test_scores, fit_times, _ = \\\n",
    "        learning_curve(estimator, X_test, y_test, cv=cv, n_jobs=n_jobs,\n",
    "                       train_sizes=train_sizes,\n",
    "                       return_times=True)\n",
    "    train_scores_mean = np.mean(train_scores, axis=1)\n",
    "    train_scores_std = np.std(train_scores, axis=1)\n",
    "    test_scores_mean = np.mean(test_scores, axis=1)\n",
    "    test_scores_std = np.std(test_scores, axis=1)\n",
    "    fit_times_mean = np.mean(fit_times, axis=1)\n",
    "    fit_times_std = np.std(fit_times, axis=1)\n",
    "\n",
    "    # Plot learning curve\n",
    "    axes[0].grid()\n",
    "    axes[0].fill_between(train_sizes, train_scores_mean - train_scores_std,\n",
    "                         train_scores_mean + train_scores_std, alpha=0.1,\n",
    "                         color=\"r\")\n",
    "    axes[0].fill_between(train_sizes, test_scores_mean - test_scores_std,\n",
    "                         test_scores_mean + test_scores_std, alpha=0.1,\n",
    "                         color=\"g\")\n",
    "    axes[0].plot(train_sizes, train_scores_mean, 'o-', color=\"r\",\n",
    "                 label=\"Training score\")\n",
    "    axes[0].plot(train_sizes, test_scores_mean, 'o-', color=\"g\",\n",
    "                 label=\"Cross-validation score\")\n",
    "    axes[0].legend(loc=\"best\")\n",
    "\n",
    "    # Plot n_samples vs fit_times\n",
    "    axes[1].grid()\n",
    "    axes[1].plot(train_sizes, fit_times_mean, 'o-')\n",
    "    axes[1].fill_between(train_sizes, fit_times_mean - fit_times_std,\n",
    "                         fit_times_mean + fit_times_std, alpha=0.1)\n",
    "    axes[1].set_xlabel(\"Training examples\")\n",
    "    axes[1].set_ylabel(\"fit_times\")\n",
    "    axes[1].set_title(\"Scalability of the model\")\n",
    "\n",
    "    # Plot fit_time vs score\n",
    "    axes[2].grid()\n",
    "    axes[2].plot(fit_times_mean, test_scores_mean, 'o-')\n",
    "    axes[2].fill_between(fit_times_mean, test_scores_mean - test_scores_std,\n",
    "                         test_scores_mean + test_scores_std, alpha=0.1)\n",
    "    axes[2].set_xlabel(\"fit_times\")\n",
    "    axes[2].set_ylabel(\"Score\")\n",
    "    axes[2].set_title(\"Performance of the model\")\n",
    "\n",
    "    return plt\n",
    "\n",
    "\n",
    "fig, axes = plt.subplots(3, 2, figsize=(10, 15))\n",
    "\n",
    "\n",
    "title = \"Learning Curves (Naive Bayes)\"\n",
    "# Cross validation with 100 iterations to get smoother mean test and train\n",
    "# score curves, each time with 20% data randomly selected as a validation set.\n",
    "cv = ShuffleSplit(n_splits=100, test_size=0.2, random_state=0)\n",
    "\n",
    "estimator = GaussianNB()\n",
    "plot_learning_curve(estimator, title, X_test, y_test, axes=axes[:, 0], ylim=(0.7, 1.01),\n",
    "                    cv=cv, n_jobs=4)\n",
    "\n",
    "title = r\"Learning Curves (SVM, RBF kernel, $\\gamma=0.001$)\"\n",
    "# SVC is more expensive so we do a lower number of CV iterations:\n",
    "cv = ShuffleSplit(n_splits=10, test_size=0.2, random_state=0)\n",
    "estimator = SVC(gamma=0.001)\n",
    "plot_learning_curve(estimator, title, X_test, y_test, axes=axes[:, 1], ylim=(0.7, 1.01),\n",
    "                    cv=cv, n_jobs=4)\n",
    "\n",
    "plt.show()"
   ]
  },
  {
   "cell_type": "code",
   "execution_count": 115,
   "metadata": {},
   "outputs": [
    {
     "name": "stdout",
     "output_type": "stream",
     "text": [
      "Classification Report for NN\n",
      "\n",
      "\n",
      "              precision    recall  f1-score   support\n",
      "\n",
      "     Bullish       0.00      0.00      0.00       380\n",
      "     Bearish       0.57      1.00      0.72       500\n",
      "\n",
      "    accuracy                           0.57       880\n",
      "   macro avg       0.28      0.50      0.36       880\n",
      "weighted avg       0.32      0.57      0.41       880\n",
      "\n"
     ]
    },
    {
     "name": "stderr",
     "output_type": "stream",
     "text": [
      "/Users/Roy/opt/anaconda3/envs/tensorflow_env/lib/python3.7/site-packages/sklearn/metrics/_classification.py:1221: UndefinedMetricWarning: Precision and F-score are ill-defined and being set to 0.0 in labels with no predicted samples. Use `zero_division` parameter to control this behavior.\n",
      "  _warn_prf(average, modifier, msg_start, len(result))\n"
     ]
    },
    {
     "data": {
      "image/png": "[encoded data removed]",
      "text/plain": [
       "<Figure size 432x288 with 1 Axes>"
      ]
     },
     "metadata": {
      "needs_background": "light"
     },
     "output_type": "display_data"
    }
   ],
   "source": [
    "# predict \n",
    "y_predicted = (nn.predict(X_test_) > 0.5).astype(\"int32\")\n",
    "\n",
    "from sklearn.metrics import confusion_matrix\n",
    "\n",
    "#plot\n",
    "print(f\"Classification Report for NN\\n\\n\")\n",
    "print(classification_report(y_test.values, y_predicted, target_names=['Bullish', 'Bearish']))\n",
    "\n",
    "fig, ax = plt.subplots()\n",
    "ax.matshow(confusion_matrix(y_test, y_predicted), cmap=plt.cm.Blues, )\n",
    "for (i, j), z in np.ndenumerate(confusion_matrix(y_test, y_predicted)):\n",
    "    ax.text(j, i, '{:0.1f}'.format(z), ha='center', va='center')\n",
    "    \n",
    "# plt.colorbar()\n",
    "plt.show()\n"
   ]
  },
  {
   "cell_type": "code",
   "execution_count": 121,
   "metadata": {},
   "outputs": [
    {
     "name": "stdout",
     "output_type": "stream",
     "text": [
      "XGBoost validation MAE =  0.48944909342310644\n",
      "XGBoost validation MSE =  0.24695964631061731\n"
     ]
    }
   ],
   "source": [
    "from xgboost import XGBRegressor\n",
    "from sklearn.metrics import mean_absolute_error, mean_squared_error\n",
    "\n",
    "\n",
    "XGBModel = XGBRegressor()\n",
    "XGBModel.fit(X_train,y_train , verbose=False)\n",
    "\n",
    "# Get the mean absolute error on the validation data :\n",
    "XGBpredictions = XGBModel.predict(X_test)\n",
    "MAE = mean_absolute_error(y_test , XGBpredictions)\n",
    "MSE = mean_squared_error(y_test , XGBpredictions)\n",
    "\n",
    "print('XGBoost validation MAE = ', MAE)\n",
    "print('XGBoost validation MSE = ', MSE)"
   ]
  },
  {
   "cell_type": "code",
   "execution_count": 129,
   "metadata": {},
   "outputs": [],
   "source": [
    "y_prediction = (XGBpredictions > XGBpredictions.mean()).astype(\"int32\").reshape(-1,)"
   ]
  },
  {
   "cell_type": "code",
   "execution_count": 132,
   "metadata": {},
   "outputs": [
    {
     "data": {
      "text/plain": [
       "880"
      ]
     },
     "execution_count": 132,
     "metadata": {},
     "output_type": "execute_result"
    }
   ],
   "source": [
    "y_predicted.sum()"
   ]
  },
  {
   "cell_type": "code",
   "execution_count": 130,
   "metadata": {},
   "outputs": [
    {
     "name": "stdout",
     "output_type": "stream",
     "text": [
      "Classification Report for NN\n",
      "\n",
      "\n",
      "              precision    recall  f1-score   support\n",
      "\n",
      "     Bullish       0.00      0.00      0.00       380\n",
      "     Bearish       0.57      1.00      0.72       500\n",
      "\n",
      "    accuracy                           0.57       880\n",
      "   macro avg       0.28      0.50      0.36       880\n",
      "weighted avg       0.32      0.57      0.41       880\n",
      "\n"
     ]
    },
    {
     "name": "stderr",
     "output_type": "stream",
     "text": [
      "/Users/Roy/opt/anaconda3/envs/tensorflow_env/lib/python3.7/site-packages/sklearn/metrics/_classification.py:1221: UndefinedMetricWarning: Precision and F-score are ill-defined and being set to 0.0 in labels with no predicted samples. Use `zero_division` parameter to control this behavior.\n",
      "  _warn_prf(average, modifier, msg_start, len(result))\n"
     ]
    },
    {
     "data": {
      "image/png": "[encoded data removed]",
      "text/plain": [
       "<Figure size 432x288 with 1 Axes>"
      ]
     },
     "metadata": {
      "needs_background": "light"
     },
     "output_type": "display_data"
    }
   ],
   "source": [
    "from sklearn.metrics import confusion_matrix\n",
    "\n",
    "#plot\n",
    "print(f\"Classification Report for NN\\n\\n\")\n",
    "print(classification_report(y_test.values, y_predicted, target_names=['Bullish', 'Bearish']))\n",
    "\n",
    "fig, ax = plt.subplots()\n",
    "ax.matshow(confusion_matrix(y_test, y_predicted), cmap=plt.cm.Blues, )\n",
    "for (i, j), z in np.ndenumerate(confusion_matrix(y_test, y_predicted)):\n",
    "    ax.text(j, i, '{:0.1f}'.format(z), ha='center', va='center')\n",
    "    \n",
    "# plt.colorbar()\n",
    "plt.show()\n"
   ]
  },
  {
   "cell_type": "code",
   "execution_count": null,
   "metadata": {},
   "outputs": [],
   "source": []
  }
 ],
 "metadata": {
  "kernelspec": {
   "display_name": "Python 3",
   "language": "python",
   "name": "python3"
  },
  "language_info": {
   "codemirror_mode": {
    "name": "ipython",
    "version": 3
   },
   "file_extension": ".py",
   "mimetype": "text/x-python",
   "name": "python",
   "nbconvert_exporter": "python",
   "pygments_lexer": "ipython3",
   "version": "3.7.10"
  },
  "latex_envs": {
   "LaTeX_envs_menu_present": true,
   "autoclose": false,
   "autocomplete": true,
   "bibliofile": "biblio.bib",
   "cite_by": "apalike",
   "current_citInitial": 1,
   "eqLabelWithNumbers": true,
   "eqNumInitial": 1,
   "hotkeys": {
    "equation": "Ctrl-E",
    "itemize": "Ctrl-I"
   },
   "labels_anchors": false,
   "latex_user_defs": false,
   "report_style_numbering": false,
   "user_envs_cfg": false
  },
  "toc": {
   "base_numbering": 1,
   "nav_menu": {},
   "number_sections": true,
   "sideBar": true,
   "skip_h1_title": false,
   "title_cell": "Table of Contents",
   "title_sidebar": "Contents",
   "toc_cell": false,
   "toc_position": {},
   "toc_section_display": true,
   "toc_window_display": false
  },
  "varInspector": {
   "cols": {
    "lenName": 16,
    "lenType": 16,
    "lenVar": 40
   },
   "kernels_config": {
    "python": {
     "delete_cmd_postfix": "",
     "delete_cmd_prefix": "del ",
     "library": "var_list.py",
     "varRefreshCmd": "print(var_dic_list())"
    },
    "r": {
     "delete_cmd_postfix": ") ",
     "delete_cmd_prefix": "rm(",
     "library": "var_list.r",
     "varRefreshCmd": "cat(var_dic_list()) "
    }
   },
   "types_to_exclude": [
    "module",
    "function",
    "builtin_function_or_method",
    "instance",
    "_Feature"
   ],
   "window_display": false
  }
 },
 "nbformat": 4,
 "nbformat_minor": 2
}