{
 "metadata": {
  "language_info": {
   "codemirror_mode": {
    "name": "ipython",
    "version": 3
   },
   "file_extension": ".py",
   "mimetype": "text/x-python",
   "name": "python",
   "nbconvert_exporter": "python",
   "pygments_lexer": "ipython3",
   "version": "3.7.4"
  },
  "orig_nbformat": 2,
  "kernelspec": {
   "name": "python374jvsc74a57bd0c4d364b06a8f08325c9930ce3265223e6aa231e318698eb1bdbca46ce6bab9ad",
   "display_name": "Python 3.7.4 64-bit"
  }
 },
 "nbformat": 4,
 "nbformat_minor": 2,
 "cells": [
  {
   "cell_type": "code",
   "execution_count": 1,
   "metadata": {},
   "outputs": [],
   "source": [
    "import yfinance as yf\n",
    "import pandas as pd\n",
    "import numpy as np\n",
    "from sklearn.linear_model import LinearRegression\n",
    "from sklearn.model_selection import train_test_split\n",
    "from sklearn.model_selection import cross_val_score\n",
    "from sklearn.model_selection import KFold\n",
    "from sklearn.model_selection import GridSearchCV\n",
    "from sklearn.metrics import mean_squared_error\n",
    "from math import sqrt\n",
    "import csv"
   ]
  },
  {
   "cell_type": "code",
   "execution_count": 2,
   "metadata": {},
   "outputs": [
    {
     "output_type": "execute_result",
     "data": {
      "text/plain": [
       "         Year Ticker  Change_Net_Income  Change_Cash_Operations  \\\n",
       "0  2014-12-27   AAPL              18024                   33722   \n",
       "1  2015-03-28   AAPL              13569                   19081   \n",
       "2  2015-06-25   AAPL              10677                   14988   \n",
       "3  2015-09-26   AAPL              11124                   13475   \n",
       "4  2015-12-26   AAPL              18361                   27463   \n",
       "\n",
       "   Change_Cash_Investments  Change_Cash_Financials  Change_Cash_Equivalents  \n",
       "0                   -21165                    6923                     5634  \n",
       "1                   -22331                  -15585                    -4989  \n",
       "2                   -11403                   -2755                      830  \n",
       "3                    -1375                   -6299                     5801  \n",
       "4                   -20450                  -11444                    -4431  "
      ],
      "text/html": "<div>\n<style scoped>\n    .dataframe tbody tr th:only-of-type {\n        vertical-align: middle;\n    }\n\n    .dataframe tbody tr th {\n        vertical-align: top;\n    }\n\n    .dataframe thead th {\n        text-align: right;\n    }\n</style>\n<table border=\"1\" class=\"dataframe\">\n  <thead>\n    <tr style=\"text-align: right;\">\n      <th></th>\n      <th>Year</th>\n      <th>Ticker</th>\n      <th>Change_Net_Income</th>\n      <th>Change_Cash_Operations</th>\n      <th>Change_Cash_Investments</th>\n      <th>Change_Cash_Financials</th>\n      <th>Change_Cash_Equivalents</th>\n    </tr>\n  </thead>\n  <tbody>\n    <tr>\n      <th>0</th>\n      <td>2014-12-27</td>\n      <td>AAPL</td>\n      <td>18024</td>\n      <td>33722</td>\n      <td>-21165</td>\n      <td>6923</td>\n      <td>5634</td>\n    </tr>\n    <tr>\n      <th>1</th>\n      <td>2015-03-28</td>\n      <td>AAPL</td>\n      <td>13569</td>\n      <td>19081</td>\n      <td>-22331</td>\n      <td>-15585</td>\n      <td>-4989</td>\n    </tr>\n    <tr>\n      <th>2</th>\n      <td>2015-06-25</td>\n      <td>AAPL</td>\n      <td>10677</td>\n      <td>14988</td>\n      <td>-11403</td>\n      <td>-2755</td>\n      <td>830</td>\n    </tr>\n    <tr>\n      <th>3</th>\n      <td>2015-09-26</td>\n      <td>AAPL</td>\n      <td>11124</td>\n      <td>13475</td>\n      <td>-1375</td>\n      <td>-6299</td>\n      <td>5801</td>\n    </tr>\n    <tr>\n      <th>4</th>\n      <td>2015-12-26</td>\n      <td>AAPL</td>\n      <td>18361</td>\n      <td>27463</td>\n      <td>-20450</td>\n      <td>-11444</td>\n      <td>-4431</td>\n    </tr>\n  </tbody>\n</table>\n</div>"
     },
     "metadata": {},
     "execution_count": 2
    }
   ],
   "source": [
    "aapl = pd.read_csv(\"Quarterly_Data_AAPL.csv\")\n",
    "aapl.insert(1, \"Ticker\", \"AAPL\")\n",
    "aapl.head()"
   ]
  },
  {
   "cell_type": "code",
   "execution_count": 3,
   "metadata": {},
   "outputs": [
    {
     "output_type": "execute_result",
     "data": {
      "text/plain": [
       "         Year Ticker  Change_Net_Income  Change_Cash_Operations  \\\n",
       "0  2015-03-31   TSLA           -154.181                -131.794   \n",
       "1  2015-06-30   TSLA           -184.227                -159.516   \n",
       "2  2015-09-30   TSLA           -229.858                -203.340   \n",
       "3  2015-12-31   TSLA           -320.397                 -29.849   \n",
       "4  2016-03-31   TSLA           -282.267                -249.605   \n",
       "\n",
       "   Change_Cash_Investments  Change_Cash_Financials  Change_Cash_Equivalents  \n",
       "0                 -432.344                 186.156                 -395.637  \n",
       "1                 -422.837                 218.351                 -359.403  \n",
       "2                 -404.090                 893.978                  275.363  \n",
       "3                 -414.280                 225.038                 -229.128  \n",
       "4                 -233.819                 715.435                  244.881  "
      ],
      "text/html": "<div>\n<style scoped>\n    .dataframe tbody tr th:only-of-type {\n        vertical-align: middle;\n    }\n\n    .dataframe tbody tr th {\n        vertical-align: top;\n    }\n\n    .dataframe thead th {\n        text-align: right;\n    }\n</style>\n<table border=\"1\" class=\"dataframe\">\n  <thead>\n    <tr style=\"text-align: right;\">\n      <th></th>\n      <th>Year</th>\n      <th>Ticker</th>\n      <th>Change_Net_Income</th>\n      <th>Change_Cash_Operations</th>\n      <th>Change_Cash_Investments</th>\n      <th>Change_Cash_Financials</th>\n      <th>Change_Cash_Equivalents</th>\n    </tr>\n  </thead>\n  <tbody>\n    <tr>\n      <th>0</th>\n      <td>2015-03-31</td>\n      <td>TSLA</td>\n      <td>-154.181</td>\n      <td>-131.794</td>\n      <td>-432.344</td>\n      <td>186.156</td>\n      <td>-395.637</td>\n    </tr>\n    <tr>\n      <th>1</th>\n      <td>2015-06-30</td>\n      <td>TSLA</td>\n      <td>-184.227</td>\n      <td>-159.516</td>\n      <td>-422.837</td>\n      <td>218.351</td>\n      <td>-359.403</td>\n    </tr>\n    <tr>\n      <th>2</th>\n      <td>2015-09-30</td>\n      <td>TSLA</td>\n      <td>-229.858</td>\n      <td>-203.340</td>\n      <td>-404.090</td>\n      <td>893.978</td>\n      <td>275.363</td>\n    </tr>\n    <tr>\n      <th>3</th>\n      <td>2015-12-31</td>\n      <td>TSLA</td>\n      <td>-320.397</td>\n      <td>-29.849</td>\n      <td>-414.280</td>\n      <td>225.038</td>\n      <td>-229.128</td>\n    </tr>\n    <tr>\n      <th>4</th>\n      <td>2016-03-31</td>\n      <td>TSLA</td>\n      <td>-282.267</td>\n      <td>-249.605</td>\n      <td>-233.819</td>\n      <td>715.435</td>\n      <td>244.881</td>\n    </tr>\n  </tbody>\n</table>\n</div>"
     },
     "metadata": {},
     "execution_count": 3
    }
   ],
   "source": [
    "tsla = pd.read_csv(\"Quarterly_Data_TSLA.csv\")\n",
    "tsla.insert(1, \"Ticker\", \"TSLA\")\n",
    "tsla.head()"
   ]
  },
  {
   "cell_type": "code",
   "execution_count": 4,
   "metadata": {},
   "outputs": [],
   "source": [
    "#Retrieve adjusted close for each date we have\n",
    "def get_adj_close(df, tckr):\n",
    "    dates = list(df[\"Year\"])\n",
    "    close = np.array([])\n",
    "    start = \"\"\n",
    "\n",
    "    for i in range(len(dates) - 1):\n",
    "        start = dates[i]\n",
    "        end = dates[i + 1]\n",
    "        adj = yf.download(tckr, start = start, end = end)[\"Adj Close\"]\n",
    "        close = np.append(close, adj[0])\n",
    "\n",
    "        if i is len(dates) - 2:\n",
    "            close = np.append(close, adj[-1])\n",
    "    return close"
   ]
  },
  {
   "cell_type": "code",
   "execution_count": 5,
   "metadata": {},
   "outputs": [
    {
     "output_type": "stream",
     "name": "stdout",
     "text": [
      "[*********************100%***********************]  1 of 1 completed\n",
      "[*********************100%***********************]  1 of 1 completed\n",
      "[*********************100%***********************]  1 of 1 completed\n",
      "[*********************100%***********************]  1 of 1 completed\n",
      "[*********************100%***********************]  1 of 1 completed\n",
      "[*********************100%***********************]  1 of 1 completed\n",
      "[*********************100%***********************]  1 of 1 completed\n",
      "[*********************100%***********************]  1 of 1 completed\n",
      "[*********************100%***********************]  1 of 1 completed\n",
      "[*********************100%***********************]  1 of 1 completed\n",
      "[*********************100%***********************]  1 of 1 completed\n",
      "[*********************100%***********************]  1 of 1 completed\n",
      "[*********************100%***********************]  1 of 1 completed\n",
      "[*********************100%***********************]  1 of 1 completed\n",
      "[*********************100%***********************]  1 of 1 completed\n",
      "[*********************100%***********************]  1 of 1 completed\n",
      "[*********************100%***********************]  1 of 1 completed\n",
      "[*********************100%***********************]  1 of 1 completed\n",
      "[*********************100%***********************]  1 of 1 completed\n",
      "[*********************100%***********************]  1 of 1 completed\n",
      "[*********************100%***********************]  1 of 1 completed\n",
      "[*********************100%***********************]  1 of 1 completed\n",
      "[*********************100%***********************]  1 of 1 completed\n",
      "[*********************100%***********************]  1 of 1 completed\n",
      "[*********************100%***********************]  1 of 1 completed\n",
      "[*********************100%***********************]  1 of 1 completed\n",
      "[*********************100%***********************]  1 of 1 completed\n",
      "[*********************100%***********************]  1 of 1 completed\n",
      "[*********************100%***********************]  1 of 1 completed\n",
      "[*********************100%***********************]  1 of 1 completed\n",
      "[*********************100%***********************]  1 of 1 completed\n",
      "[*********************100%***********************]  1 of 1 completed\n",
      "[*********************100%***********************]  1 of 1 completed\n",
      "[*********************100%***********************]  1 of 1 completed\n",
      "[*********************100%***********************]  1 of 1 completed\n",
      "[*********************100%***********************]  1 of 1 completed\n",
      "[*********************100%***********************]  1 of 1 completed\n",
      "[*********************100%***********************]  1 of 1 completed\n",
      "[*********************100%***********************]  1 of 1 completed\n",
      "[*********************100%***********************]  1 of 1 completed\n",
      "[*********************100%***********************]  1 of 1 completed\n",
      "[*********************100%***********************]  1 of 1 completed\n",
      "[*********************100%***********************]  1 of 1 completed\n",
      "[*********************100%***********************]  1 of 1 completed\n",
      "[*********************100%***********************]  1 of 1 completed\n",
      "[*********************100%***********************]  1 of 1 completed\n"
     ]
    }
   ],
   "source": [
    "aapl[\"Adj_Close\"] = get_adj_close(aapl, \"AAPL\")\n",
    "tsla[\"Adj_Close\"] = get_adj_close(tsla, \"TSLA\")"
   ]
  },
  {
   "cell_type": "code",
   "execution_count": 6,
   "metadata": {},
   "outputs": [
    {
     "output_type": "execute_result",
     "data": {
      "text/plain": [
       "         Year Ticker  Change_Net_Income  Change_Cash_Operations  \\\n",
       "0  2014-12-27   AAPL              18024                   33722   \n",
       "1  2015-03-28   AAPL              13569                   19081   \n",
       "2  2015-06-25   AAPL              10677                   14988   \n",
       "3  2015-09-26   AAPL              11124                   13475   \n",
       "4  2015-12-26   AAPL              18361                   27463   \n",
       "\n",
       "   Change_Cash_Investments  Change_Cash_Financials  Change_Cash_Equivalents  \\\n",
       "0                   -21165                    6923                     5634   \n",
       "1                   -22331                  -15585                    -4989   \n",
       "2                   -11403                   -2755                      830   \n",
       "3                    -1375                   -6299                     5801   \n",
       "4                   -20450                  -11444                    -4431   \n",
       "\n",
       "   Adj_Close   %Change  \n",
       "0  25.902882       NaN  \n",
       "1  28.849669  0.113763  \n",
       "2  29.229227  0.013156  \n",
       "3  25.893421 -0.114126  \n",
       "4  24.704502 -0.045916  "
      ],
      "text/html": "<div>\n<style scoped>\n    .dataframe tbody tr th:only-of-type {\n        vertical-align: middle;\n    }\n\n    .dataframe tbody tr th {\n        vertical-align: top;\n    }\n\n    .dataframe thead th {\n        text-align: right;\n    }\n</style>\n<table border=\"1\" class=\"dataframe\">\n  <thead>\n    <tr style=\"text-align: right;\">\n      <th></th>\n      <th>Year</th>\n      <th>Ticker</th>\n      <th>Change_Net_Income</th>\n      <th>Change_Cash_Operations</th>\n      <th>Change_Cash_Investments</th>\n      <th>Change_Cash_Financials</th>\n      <th>Change_Cash_Equivalents</th>\n      <th>Adj_Close</th>\n      <th>%Change</th>\n    </tr>\n  </thead>\n  <tbody>\n    <tr>\n      <th>0</th>\n      <td>2014-12-27</td>\n      <td>AAPL</td>\n      <td>18024</td>\n      <td>33722</td>\n      <td>-21165</td>\n      <td>6923</td>\n      <td>5634</td>\n      <td>25.902882</td>\n      <td>NaN</td>\n    </tr>\n    <tr>\n      <th>1</th>\n      <td>2015-03-28</td>\n      <td>AAPL</td>\n      <td>13569</td>\n      <td>19081</td>\n      <td>-22331</td>\n      <td>-15585</td>\n      <td>-4989</td>\n      <td>28.849669</td>\n      <td>0.113763</td>\n    </tr>\n    <tr>\n      <th>2</th>\n      <td>2015-06-25</td>\n      <td>AAPL</td>\n      <td>10677</td>\n      <td>14988</td>\n      <td>-11403</td>\n      <td>-2755</td>\n      <td>830</td>\n      <td>29.229227</td>\n      <td>0.013156</td>\n    </tr>\n    <tr>\n      <th>3</th>\n      <td>2015-09-26</td>\n      <td>AAPL</td>\n      <td>11124</td>\n      <td>13475</td>\n      <td>-1375</td>\n      <td>-6299</td>\n      <td>5801</td>\n      <td>25.893421</td>\n      <td>-0.114126</td>\n    </tr>\n    <tr>\n      <th>4</th>\n      <td>2015-12-26</td>\n      <td>AAPL</td>\n      <td>18361</td>\n      <td>27463</td>\n      <td>-20450</td>\n      <td>-11444</td>\n      <td>-4431</td>\n      <td>24.704502</td>\n      <td>-0.045916</td>\n    </tr>\n  </tbody>\n</table>\n</div>"
     },
     "metadata": {},
     "execution_count": 6
    }
   ],
   "source": [
    "aapl[\"%Change\"] = aapl.Adj_Close.pct_change()\n",
    "aapl.head()"
   ]
  },
  {
   "cell_type": "code",
   "execution_count": 7,
   "metadata": {},
   "outputs": [
    {
     "output_type": "execute_result",
     "data": {
      "text/plain": [
       "         Year Ticker  Change_Net_Income  Change_Cash_Operations  \\\n",
       "0  2015-03-31   TSLA           -154.181                -131.794   \n",
       "1  2015-06-30   TSLA           -184.227                -159.516   \n",
       "2  2015-09-30   TSLA           -229.858                -203.340   \n",
       "3  2015-12-31   TSLA           -320.397                 -29.849   \n",
       "4  2016-03-31   TSLA           -282.267                -249.605   \n",
       "\n",
       "   Change_Cash_Investments  Change_Cash_Financials  Change_Cash_Equivalents  \\\n",
       "0                 -432.344                 186.156                 -395.637   \n",
       "1                 -422.837                 218.351                 -359.403   \n",
       "2                 -404.090                 893.978                  275.363   \n",
       "3                 -414.280                 225.038                 -229.128   \n",
       "4                 -233.819                 715.435                  244.881   \n",
       "\n",
       "   Adj_Close   %Change  \n",
       "0  37.754002       NaN  \n",
       "1  53.652000  0.421094  \n",
       "2  49.680000 -0.074033  \n",
       "3  48.001999 -0.033776  \n",
       "4  45.953999 -0.042665  "
      ],
      "text/html": "<div>\n<style scoped>\n    .dataframe tbody tr th:only-of-type {\n        vertical-align: middle;\n    }\n\n    .dataframe tbody tr th {\n        vertical-align: top;\n    }\n\n    .dataframe thead th {\n        text-align: right;\n    }\n</style>\n<table border=\"1\" class=\"dataframe\">\n  <thead>\n    <tr style=\"text-align: right;\">\n      <th></th>\n      <th>Year</th>\n      <th>Ticker</th>\n      <th>Change_Net_Income</th>\n      <th>Change_Cash_Operations</th>\n      <th>Change_Cash_Investments</th>\n      <th>Change_Cash_Financials</th>\n      <th>Change_Cash_Equivalents</th>\n      <th>Adj_Close</th>\n      <th>%Change</th>\n    </tr>\n  </thead>\n  <tbody>\n    <tr>\n      <th>0</th>\n      <td>2015-03-31</td>\n      <td>TSLA</td>\n      <td>-154.181</td>\n      <td>-131.794</td>\n      <td>-432.344</td>\n      <td>186.156</td>\n      <td>-395.637</td>\n      <td>37.754002</td>\n      <td>NaN</td>\n    </tr>\n    <tr>\n      <th>1</th>\n      <td>2015-06-30</td>\n      <td>TSLA</td>\n      <td>-184.227</td>\n      <td>-159.516</td>\n      <td>-422.837</td>\n      <td>218.351</td>\n      <td>-359.403</td>\n      <td>53.652000</td>\n      <td>0.421094</td>\n    </tr>\n    <tr>\n      <th>2</th>\n      <td>2015-09-30</td>\n      <td>TSLA</td>\n      <td>-229.858</td>\n      <td>-203.340</td>\n      <td>-404.090</td>\n      <td>893.978</td>\n      <td>275.363</td>\n      <td>49.680000</td>\n      <td>-0.074033</td>\n    </tr>\n    <tr>\n      <th>3</th>\n      <td>2015-12-31</td>\n      <td>TSLA</td>\n      <td>-320.397</td>\n      <td>-29.849</td>\n      <td>-414.280</td>\n      <td>225.038</td>\n      <td>-229.128</td>\n      <td>48.001999</td>\n      <td>-0.033776</td>\n    </tr>\n    <tr>\n      <th>4</th>\n      <td>2016-03-31</td>\n      <td>TSLA</td>\n      <td>-282.267</td>\n      <td>-249.605</td>\n      <td>-233.819</td>\n      <td>715.435</td>\n      <td>244.881</td>\n      <td>45.953999</td>\n      <td>-0.042665</td>\n    </tr>\n  </tbody>\n</table>\n</div>"
     },
     "metadata": {},
     "execution_count": 7
    }
   ],
   "source": [
    "tsla[\"%Change\"] = tsla.Adj_Close.pct_change()\n",
    "tsla.head()"
   ]
  },
  {
   "cell_type": "code",
   "execution_count": 8,
   "metadata": {},
   "outputs": [
    {
     "output_type": "execute_result",
     "data": {
      "text/plain": [
       "          Year Ticker  Change_Net_Income  Change_Cash_Operations  \\\n",
       "1   2015-03-28   AAPL          13569.000               19081.000   \n",
       "2   2015-06-25   AAPL          10677.000               14988.000   \n",
       "3   2015-09-26   AAPL          11124.000               13475.000   \n",
       "4   2015-12-26   AAPL          18361.000               27463.000   \n",
       "5   2016-03-26   AAPL          10516.000               11601.000   \n",
       "6   2016-06-25   AAPL           7796.000               10634.000   \n",
       "7   2016-09-24   AAPL           9014.000               16126.000   \n",
       "8   2016-12-31   AAPL          17891.000               27056.000   \n",
       "9   2017-04-01   AAPL          11029.000               12523.000   \n",
       "10  2017-07-01   AAPL           8717.000                8363.000   \n",
       "11  2017-09-30   AAPL          10714.000               15656.000   \n",
       "12  2017-12-30   AAPL          20065.000               28293.000   \n",
       "13  2018-03-31   AAPL          13822.000               15130.000   \n",
       "14  2018-06-30   AAPL          11519.000               14488.000   \n",
       "15  2018-09-29   AAPL          14125.000               19523.000   \n",
       "16  2018-12-29   AAPL          19965.000               26690.000   \n",
       "17  2019-03-30   AAPL          11561.000               11155.000   \n",
       "18  2019-06-29   AAPL          10044.000               11636.000   \n",
       "19  2019-09-28   AAPL          13686.000               19910.000   \n",
       "20  2019-12-28   AAPL          22236.000               30516.000   \n",
       "21  2020-03-28   AAPL          11249.000               13311.000   \n",
       "22  2020-06-27   AAPL          11253.000               16271.000   \n",
       "23  2020-09-26   AAPL          12673.000               20576.000   \n",
       "1   2015-06-30   TSLA           -184.227                -159.516   \n",
       "2   2015-09-30   TSLA           -229.858                -203.340   \n",
       "3   2015-12-31   TSLA           -320.397                 -29.849   \n",
       "4   2016-03-31   TSLA           -282.267                -249.605   \n",
       "5   2016-06-30   TSLA           -293.188                 150.336   \n",
       "6   2016-09-30   TSLA             21.878                 423.649   \n",
       "7   2016-12-31   TSLA           -219.469                -448.209   \n",
       "8   2017-03-31   TSLA           -397.181                 -69.811   \n",
       "9   2017-06-30   TSLA           -401.427                -200.172   \n",
       "10  2017-09-30   TSLA           -671.163                -300.562   \n",
       "11  2017-12-31   TSLA           -770.807                 509.891   \n",
       "12  2018-03-31   TSLA           -784.627                -398.376   \n",
       "13  2018-06-30   TSLA           -742.706                -129.664   \n",
       "14  2018-09-30   TSLA            254.673                1391.281   \n",
       "15  2018-12-31   TSLA            210.078                1234.561   \n",
       "16  2019-03-31   TSLA           -667.645                -639.606   \n",
       "17  2019-06-30   TSLA           -389.262                 863.606   \n",
       "18  2019-09-30   TSLA            149.907                 756.000   \n",
       "19  2019-12-31   TSLA            132.000                1425.000   \n",
       "20  2020-03-31   TSLA             68.000                -440.000   \n",
       "21  2020-06-30   TSLA            129.000                 964.000   \n",
       "22  2020-09-30   TSLA            369.000                2400.000   \n",
       "23  2020-12-31   TSLA            296.000                3019.000   \n",
       "\n",
       "    Change_Cash_Investments  Change_Cash_Financials  Change_Cash_Equivalents  \\\n",
       "1                -22331.000              -15585.000                -4989.000   \n",
       "2                -11403.000               -2755.000                  830.000   \n",
       "3                 -1375.000               -6299.000                 5801.000   \n",
       "4                -20450.000              -11444.000                -4431.000   \n",
       "5                -13660.000                6884.000                 4825.000   \n",
       "6                 -4470.000               -9441.000                -3277.000   \n",
       "7                 -7397.000               -6482.000                 2247.000   \n",
       "8                -19122.000              -12047.000                -4113.000   \n",
       "9                -14202.000                 465.000                -1214.000   \n",
       "10                -3180.000               -1769.000                 3414.000   \n",
       "11                -9942.000               -3996.000                 1718.000   \n",
       "12               -13590.000               -7501.000                 7202.000   \n",
       "13                28710.000              -26272.000                17568.000   \n",
       "14                 3947.000              -31523.000               -13088.000   \n",
       "15                -3001.000              -22580.000                -6058.000   \n",
       "16                 5844.000              -13676.000                18858.000   \n",
       "17                13348.000              -29457.000                -4954.000   \n",
       "18                27502.000              -26804.000                12334.000   \n",
       "19                 -798.000              -21039.000                -1927.000   \n",
       "20               -13668.000              -25407.000                -8559.000   \n",
       "21                 9013.000              -20940.000                 1384.000   \n",
       "22                -5165.000              -19116.000                -8010.000   \n",
       "23                 5531.000              -21357.000                 4750.000   \n",
       "1                  -422.837                 218.351                 -359.403   \n",
       "2                  -404.090                 893.978                  275.363   \n",
       "3                  -414.280                 225.038                 -229.128   \n",
       "4                  -233.819                 715.435                  244.881   \n",
       "5                  -319.854                1976.584                 1804.512   \n",
       "6                  -268.006                -320.870                 -162.044   \n",
       "7                  -594.751                1372.827                  308.959   \n",
       "8                  -926.943                1598.749                  613.377   \n",
       "9                 -1215.216                 428.767                 -970.669   \n",
       "10                -1314.932                2101.506                  494.106   \n",
       "11                 -961.876                 285.842                 -162.116   \n",
       "12                 -728.637                 371.660                 -745.251   \n",
       "13                 -682.817                 398.622                 -436.470   \n",
       "14                 -560.965                 -84.218                  739.728   \n",
       "15                 -365.009                -112.309                  753.422   \n",
       "16                 -305.843                -653.019                -1593.590   \n",
       "17                 -241.545                2142.841                 2765.495   \n",
       "18                 -485.612                 118.178                  377.095   \n",
       "19                 -403.000                 -79.000                  957.000   \n",
       "20                 -480.000                2708.000                 1764.000   \n",
       "21                 -566.000                 123.000                  559.000   \n",
       "22                -1039.000                4450.000                 5897.000   \n",
       "23                -1047.000                2692.000                 4898.000   \n",
       "\n",
       "     Adj_Close   %Change  \n",
       "1    28.849669  0.113763  \n",
       "2    29.229227  0.013156  \n",
       "3    25.893421 -0.114126  \n",
       "4    24.704502 -0.045916  \n",
       "5    24.459534 -0.009916  \n",
       "6    21.532110 -0.119684  \n",
       "7    26.550533  0.233067  \n",
       "8    27.459938  0.034252  \n",
       "9    34.120541  0.242557  \n",
       "10   34.213696  0.002730  \n",
       "11   36.815842  0.076056  \n",
       "12   41.380238  0.123979  \n",
       "13   40.203072 -0.028448  \n",
       "14   45.321751  0.127321  \n",
       "15   55.219261  0.218383  \n",
       "16   38.461140 -0.303483  \n",
       "17   46.829304  0.217575  \n",
       "18   49.543983  0.057970  \n",
       "19   55.264339  0.115460  \n",
       "20   72.148178  0.305511  \n",
       "21   63.212502 -0.123852  \n",
       "22   89.992256  0.423646  \n",
       "23  111.919373  0.243656  \n",
       "1    53.652000  0.421094  \n",
       "2    49.680000 -0.074033  \n",
       "3    48.001999 -0.033776  \n",
       "4    45.953999 -0.042665  \n",
       "5    42.456001 -0.076120  \n",
       "6    40.806000 -0.038864  \n",
       "7    43.397999  0.063520  \n",
       "8    55.660000  0.282548  \n",
       "9    72.321999  0.299353  \n",
       "10   68.306000 -0.055529  \n",
       "11   64.106003 -0.061488  \n",
       "12   50.495998 -0.212305  \n",
       "13   67.014000  0.327115  \n",
       "14   62.139999 -0.072731  \n",
       "15   66.559998  0.071130  \n",
       "16   57.835999 -0.131070  \n",
       "17   45.433998 -0.214434  \n",
       "18   48.174000  0.060307  \n",
       "19   83.666000  0.736746  \n",
       "20  104.800003  0.252600  \n",
       "21  215.962006  1.060706  \n",
       "22  429.010010  0.986507  \n",
       "23  694.780029  0.619496  "
      ],
      "text/html": "<div>\n<style scoped>\n    .dataframe tbody tr th:only-of-type {\n        vertical-align: middle;\n    }\n\n    .dataframe tbody tr th {\n        vertical-align: top;\n    }\n\n    .dataframe thead th {\n        text-align: right;\n    }\n</style>\n<table border=\"1\" class=\"dataframe\">\n  <thead>\n    <tr style=\"text-align: right;\">\n      <th></th>\n      <th>Year</th>\n      <th>Ticker</th>\n      <th>Change_Net_Income</th>\n      <th>Change_Cash_Operations</th>\n      <th>Change_Cash_Investments</th>\n      <th>Change_Cash_Financials</th>\n      <th>Change_Cash_Equivalents</th>\n      <th>Adj_Close</th>\n      <th>%Change</th>\n    </tr>\n  </thead>\n  <tbody>\n    <tr>\n      <th>1</th>\n      <td>2015-03-28</td>\n      <td>AAPL</td>\n      <td>13569.000</td>\n      <td>19081.000</td>\n      <td>-22331.000</td>\n      <td>-15585.000</td>\n      <td>-4989.000</td>\n      <td>28.849669</td>\n      <td>0.113763</td>\n    </tr>\n    <tr>\n      <th>2</th>\n      <td>2015-06-25</td>\n      <td>AAPL</td>\n      <td>10677.000</td>\n      <td>14988.000</td>\n      <td>-11403.000</td>\n      <td>-2755.000</td>\n      <td>830.000</td>\n      <td>29.229227</td>\n      <td>0.013156</td>\n    </tr>\n    <tr>\n      <th>3</th>\n      <td>2015-09-26</td>\n      <td>AAPL</td>\n      <td>11124.000</td>\n      <td>13475.000</td>\n      <td>-1375.000</td>\n      <td>-6299.000</td>\n      <td>5801.000</td>\n      <td>25.893421</td>\n      <td>-0.114126</td>\n    </tr>\n    <tr>\n      <th>4</th>\n      <td>2015-12-26</td>\n      <td>AAPL</td>\n      <td>18361.000</td>\n      <td>27463.000</td>\n      <td>-20450.000</td>\n      <td>-11444.000</td>\n      <td>-4431.000</td>\n      <td>24.704502</td>\n      <td>-0.045916</td>\n    </tr>\n    <tr>\n      <th>5</th>\n      <td>2016-03-26</td>\n      <td>AAPL</td>\n      <td>10516.000</td>\n      <td>11601.000</td>\n      <td>-13660.000</td>\n      <td>6884.000</td>\n      <td>4825.000</td>\n      <td>24.459534</td>\n      <td>-0.009916</td>\n    </tr>\n    <tr>\n      <th>6</th>\n      <td>2016-06-25</td>\n      <td>AAPL</td>\n      <td>7796.000</td>\n      <td>10634.000</td>\n      <td>-4470.000</td>\n      <td>-9441.000</td>\n      <td>-3277.000</td>\n      <td>21.532110</td>\n      <td>-0.119684</td>\n    </tr>\n    <tr>\n      <th>7</th>\n      <td>2016-09-24</td>\n      <td>AAPL</td>\n      <td>9014.000</td>\n      <td>16126.000</td>\n      <td>-7397.000</td>\n      <td>-6482.000</td>\n      <td>2247.000</td>\n      <td>26.550533</td>\n      <td>0.233067</td>\n    </tr>\n    <tr>\n      <th>8</th>\n      <td>2016-12-31</td>\n      <td>AAPL</td>\n      <td>17891.000</td>\n      <td>27056.000</td>\n      <td>-19122.000</td>\n      <td>-12047.000</td>\n      <td>-4113.000</td>\n      <td>27.459938</td>\n      <td>0.034252</td>\n    </tr>\n    <tr>\n      <th>9</th>\n      <td>2017-04-01</td>\n      <td>AAPL</td>\n      <td>11029.000</td>\n      <td>12523.000</td>\n      <td>-14202.000</td>\n      <td>465.000</td>\n      <td>-1214.000</td>\n      <td>34.120541</td>\n      <td>0.242557</td>\n    </tr>\n    <tr>\n      <th>10</th>\n      <td>2017-07-01</td>\n      <td>AAPL</td>\n      <td>8717.000</td>\n      <td>8363.000</td>\n      <td>-3180.000</td>\n      <td>-1769.000</td>\n      <td>3414.000</td>\n      <td>34.213696</td>\n      <td>0.002730</td>\n    </tr>\n    <tr>\n      <th>11</th>\n      <td>2017-09-30</td>\n      <td>AAPL</td>\n      <td>10714.000</td>\n      <td>15656.000</td>\n      <td>-9942.000</td>\n      <td>-3996.000</td>\n      <td>1718.000</td>\n      <td>36.815842</td>\n      <td>0.076056</td>\n    </tr>\n    <tr>\n      <th>12</th>\n      <td>2017-12-30</td>\n      <td>AAPL</td>\n      <td>20065.000</td>\n      <td>28293.000</td>\n      <td>-13590.000</td>\n      <td>-7501.000</td>\n      <td>7202.000</td>\n      <td>41.380238</td>\n      <td>0.123979</td>\n    </tr>\n    <tr>\n      <th>13</th>\n      <td>2018-03-31</td>\n      <td>AAPL</td>\n      <td>13822.000</td>\n      <td>15130.000</td>\n      <td>28710.000</td>\n      <td>-26272.000</td>\n      <td>17568.000</td>\n      <td>40.203072</td>\n      <td>-0.028448</td>\n    </tr>\n    <tr>\n      <th>14</th>\n      <td>2018-06-30</td>\n      <td>AAPL</td>\n      <td>11519.000</td>\n      <td>14488.000</td>\n      <td>3947.000</td>\n      <td>-31523.000</td>\n      <td>-13088.000</td>\n      <td>45.321751</td>\n      <td>0.127321</td>\n    </tr>\n    <tr>\n      <th>15</th>\n      <td>2018-09-29</td>\n      <td>AAPL</td>\n      <td>14125.000</td>\n      <td>19523.000</td>\n      <td>-3001.000</td>\n      <td>-22580.000</td>\n      <td>-6058.000</td>\n      <td>55.219261</td>\n      <td>0.218383</td>\n    </tr>\n    <tr>\n      <th>16</th>\n      <td>2018-12-29</td>\n      <td>AAPL</td>\n      <td>19965.000</td>\n      <td>26690.000</td>\n      <td>5844.000</td>\n      <td>-13676.000</td>\n      <td>18858.000</td>\n      <td>38.461140</td>\n      <td>-0.303483</td>\n    </tr>\n    <tr>\n      <th>17</th>\n      <td>2019-03-30</td>\n      <td>AAPL</td>\n      <td>11561.000</td>\n      <td>11155.000</td>\n      <td>13348.000</td>\n      <td>-29457.000</td>\n      <td>-4954.000</td>\n      <td>46.829304</td>\n      <td>0.217575</td>\n    </tr>\n    <tr>\n      <th>18</th>\n      <td>2019-06-29</td>\n      <td>AAPL</td>\n      <td>10044.000</td>\n      <td>11636.000</td>\n      <td>27502.000</td>\n      <td>-26804.000</td>\n      <td>12334.000</td>\n      <td>49.543983</td>\n      <td>0.057970</td>\n    </tr>\n    <tr>\n      <th>19</th>\n      <td>2019-09-28</td>\n      <td>AAPL</td>\n      <td>13686.000</td>\n      <td>19910.000</td>\n      <td>-798.000</td>\n      <td>-21039.000</td>\n      <td>-1927.000</td>\n      <td>55.264339</td>\n      <td>0.115460</td>\n    </tr>\n    <tr>\n      <th>20</th>\n      <td>2019-12-28</td>\n      <td>AAPL</td>\n      <td>22236.000</td>\n      <td>30516.000</td>\n      <td>-13668.000</td>\n      <td>-25407.000</td>\n      <td>-8559.000</td>\n      <td>72.148178</td>\n      <td>0.305511</td>\n    </tr>\n    <tr>\n      <th>21</th>\n      <td>2020-03-28</td>\n      <td>AAPL</td>\n      <td>11249.000</td>\n      <td>13311.000</td>\n      <td>9013.000</td>\n      <td>-20940.000</td>\n      <td>1384.000</td>\n      <td>63.212502</td>\n      <td>-0.123852</td>\n    </tr>\n    <tr>\n      <th>22</th>\n      <td>2020-06-27</td>\n      <td>AAPL</td>\n      <td>11253.000</td>\n      <td>16271.000</td>\n      <td>-5165.000</td>\n      <td>-19116.000</td>\n      <td>-8010.000</td>\n      <td>89.992256</td>\n      <td>0.423646</td>\n    </tr>\n    <tr>\n      <th>23</th>\n      <td>2020-09-26</td>\n      <td>AAPL</td>\n      <td>12673.000</td>\n      <td>20576.000</td>\n      <td>5531.000</td>\n      <td>-21357.000</td>\n      <td>4750.000</td>\n      <td>111.919373</td>\n      <td>0.243656</td>\n    </tr>\n    <tr>\n      <th>1</th>\n      <td>2015-06-30</td>\n      <td>TSLA</td>\n      <td>-184.227</td>\n      <td>-159.516</td>\n      <td>-422.837</td>\n      <td>218.351</td>\n      <td>-359.403</td>\n      <td>53.652000</td>\n      <td>0.421094</td>\n    </tr>\n    <tr>\n      <th>2</th>\n      <td>2015-09-30</td>\n      <td>TSLA</td>\n      <td>-229.858</td>\n      <td>-203.340</td>\n      <td>-404.090</td>\n      <td>893.978</td>\n      <td>275.363</td>\n      <td>49.680000</td>\n      <td>-0.074033</td>\n    </tr>\n    <tr>\n      <th>3</th>\n      <td>2015-12-31</td>\n      <td>TSLA</td>\n      <td>-320.397</td>\n      <td>-29.849</td>\n      <td>-414.280</td>\n      <td>225.038</td>\n      <td>-229.128</td>\n      <td>48.001999</td>\n      <td>-0.033776</td>\n    </tr>\n    <tr>\n      <th>4</th>\n      <td>2016-03-31</td>\n      <td>TSLA</td>\n      <td>-282.267</td>\n      <td>-249.605</td>\n      <td>-233.819</td>\n      <td>715.435</td>\n      <td>244.881</td>\n      <td>45.953999</td>\n      <td>-0.042665</td>\n    </tr>\n    <tr>\n      <th>5</th>\n      <td>2016-06-30</td>\n      <td>TSLA</td>\n      <td>-293.188</td>\n      <td>150.336</td>\n      <td>-319.854</td>\n      <td>1976.584</td>\n      <td>1804.512</td>\n      <td>42.456001</td>\n      <td>-0.076120</td>\n    </tr>\n    <tr>\n      <th>6</th>\n      <td>2016-09-30</td>\n      <td>TSLA</td>\n      <td>21.878</td>\n      <td>423.649</td>\n      <td>-268.006</td>\n      <td>-320.870</td>\n      <td>-162.044</td>\n      <td>40.806000</td>\n      <td>-0.038864</td>\n    </tr>\n    <tr>\n      <th>7</th>\n      <td>2016-12-31</td>\n      <td>TSLA</td>\n      <td>-219.469</td>\n      <td>-448.209</td>\n      <td>-594.751</td>\n      <td>1372.827</td>\n      <td>308.959</td>\n      <td>43.397999</td>\n      <td>0.063520</td>\n    </tr>\n    <tr>\n      <th>8</th>\n      <td>2017-03-31</td>\n      <td>TSLA</td>\n      <td>-397.181</td>\n      <td>-69.811</td>\n      <td>-926.943</td>\n      <td>1598.749</td>\n      <td>613.377</td>\n      <td>55.660000</td>\n      <td>0.282548</td>\n    </tr>\n    <tr>\n      <th>9</th>\n      <td>2017-06-30</td>\n      <td>TSLA</td>\n      <td>-401.427</td>\n      <td>-200.172</td>\n      <td>-1215.216</td>\n      <td>428.767</td>\n      <td>-970.669</td>\n      <td>72.321999</td>\n      <td>0.299353</td>\n    </tr>\n    <tr>\n      <th>10</th>\n      <td>2017-09-30</td>\n      <td>TSLA</td>\n      <td>-671.163</td>\n      <td>-300.562</td>\n      <td>-1314.932</td>\n      <td>2101.506</td>\n      <td>494.106</td>\n      <td>68.306000</td>\n      <td>-0.055529</td>\n    </tr>\n    <tr>\n      <th>11</th>\n      <td>2017-12-31</td>\n      <td>TSLA</td>\n      <td>-770.807</td>\n      <td>509.891</td>\n      <td>-961.876</td>\n      <td>285.842</td>\n      <td>-162.116</td>\n      <td>64.106003</td>\n      <td>-0.061488</td>\n    </tr>\n    <tr>\n      <th>12</th>\n      <td>2018-03-31</td>\n      <td>TSLA</td>\n      <td>-784.627</td>\n      <td>-398.376</td>\n      <td>-728.637</td>\n      <td>371.660</td>\n      <td>-745.251</td>\n      <td>50.495998</td>\n      <td>-0.212305</td>\n    </tr>\n    <tr>\n      <th>13</th>\n      <td>2018-06-30</td>\n      <td>TSLA</td>\n      <td>-742.706</td>\n      <td>-129.664</td>\n      <td>-682.817</td>\n      <td>398.622</td>\n      <td>-436.470</td>\n      <td>67.014000</td>\n      <td>0.327115</td>\n    </tr>\n    <tr>\n      <th>14</th>\n      <td>2018-09-30</td>\n      <td>TSLA</td>\n      <td>254.673</td>\n      <td>1391.281</td>\n      <td>-560.965</td>\n      <td>-84.218</td>\n      <td>739.728</td>\n      <td>62.139999</td>\n      <td>-0.072731</td>\n    </tr>\n    <tr>\n      <th>15</th>\n      <td>2018-12-31</td>\n      <td>TSLA</td>\n      <td>210.078</td>\n      <td>1234.561</td>\n      <td>-365.009</td>\n      <td>-112.309</td>\n      <td>753.422</td>\n      <td>66.559998</td>\n      <td>0.071130</td>\n    </tr>\n    <tr>\n      <th>16</th>\n      <td>2019-03-31</td>\n      <td>TSLA</td>\n      <td>-667.645</td>\n      <td>-639.606</td>\n      <td>-305.843</td>\n      <td>-653.019</td>\n      <td>-1593.590</td>\n      <td>57.835999</td>\n      <td>-0.131070</td>\n    </tr>\n    <tr>\n      <th>17</th>\n      <td>2019-06-30</td>\n      <td>TSLA</td>\n      <td>-389.262</td>\n      <td>863.606</td>\n      <td>-241.545</td>\n      <td>2142.841</td>\n      <td>2765.495</td>\n      <td>45.433998</td>\n      <td>-0.214434</td>\n    </tr>\n    <tr>\n      <th>18</th>\n      <td>2019-09-30</td>\n      <td>TSLA</td>\n      <td>149.907</td>\n      <td>756.000</td>\n      <td>-485.612</td>\n      <td>118.178</td>\n      <td>377.095</td>\n      <td>48.174000</td>\n      <td>0.060307</td>\n    </tr>\n    <tr>\n      <th>19</th>\n      <td>2019-12-31</td>\n      <td>TSLA</td>\n      <td>132.000</td>\n      <td>1425.000</td>\n      <td>-403.000</td>\n      <td>-79.000</td>\n      <td>957.000</td>\n      <td>83.666000</td>\n      <td>0.736746</td>\n    </tr>\n    <tr>\n      <th>20</th>\n      <td>2020-03-31</td>\n      <td>TSLA</td>\n      <td>68.000</td>\n      <td>-440.000</td>\n      <td>-480.000</td>\n      <td>2708.000</td>\n      <td>1764.000</td>\n      <td>104.800003</td>\n      <td>0.252600</td>\n    </tr>\n    <tr>\n      <th>21</th>\n      <td>2020-06-30</td>\n      <td>TSLA</td>\n      <td>129.000</td>\n      <td>964.000</td>\n      <td>-566.000</td>\n      <td>123.000</td>\n      <td>559.000</td>\n      <td>215.962006</td>\n      <td>1.060706</td>\n    </tr>\n    <tr>\n      <th>22</th>\n      <td>2020-09-30</td>\n      <td>TSLA</td>\n      <td>369.000</td>\n      <td>2400.000</td>\n      <td>-1039.000</td>\n      <td>4450.000</td>\n      <td>5897.000</td>\n      <td>429.010010</td>\n      <td>0.986507</td>\n    </tr>\n    <tr>\n      <th>23</th>\n      <td>2020-12-31</td>\n      <td>TSLA</td>\n      <td>296.000</td>\n      <td>3019.000</td>\n      <td>-1047.000</td>\n      <td>2692.000</td>\n      <td>4898.000</td>\n      <td>694.780029</td>\n      <td>0.619496</td>\n    </tr>\n  </tbody>\n</table>\n</div>"
     },
     "metadata": {},
     "execution_count": 8
    }
   ],
   "source": [
    "df = pd.concat([aapl[1:], tsla[1:]])\n",
    "df"
   ]
  },
  {
   "cell_type": "code",
   "execution_count": 9,
   "metadata": {},
   "outputs": [
    {
     "output_type": "stream",
     "name": "stdout",
     "text": [
      "[[ 11249.          13311.           9013.         -20940.\n    1384.             63.21250153]\n [ 11253.          16271.          -5165.         -19116.\n   -8010.             89.99225616]\n [ 12673.          20576.           5531.         -21357.\n    4750.            111.91937256]\n [    68.           -440.           -480.           2708.\n    1764.            104.80000305]\n [   129.            964.           -566.            123.\n     559.            215.96200562]\n [   369.           2400.          -1039.           4450.\n    5897.            429.01000977]\n [   296.           3019.          -1047.           2692.\n    4898.            694.7800293 ]]\n[[-0.12385173]\n [ 0.42364649]\n [ 0.24365559]\n [ 0.25259965]\n [ 1.0607061 ]\n [ 0.98650688]\n [ 0.61949608]]\n"
     ]
    }
   ],
   "source": [
    "#Split data (Train on 2020)\n",
    "x_train = df[~df[\"Year\"].str.contains(\"2020\")].iloc[:,2:-1].values\n",
    "y_train = df[~df[\"Year\"].str.contains(\"2020\")].iloc[:,-1:].values\n",
    "\n",
    "x_test = df[df[\"Year\"].str.contains(\"2020\")].iloc[:,2:-1].values\n",
    "y_test = df[df[\"Year\"].str.contains(\"2020\")].iloc[:,-1:].values\n",
    "\n",
    "# print(x_train)\n",
    "# print(y_train)\n",
    "print(x_test)\n",
    "print(y_test)"
   ]
  },
  {
   "cell_type": "code",
   "execution_count": 10,
   "metadata": {},
   "outputs": [],
   "source": [
    "def cv_scores(model):\n",
    "    scores = cross_val_score(model, x_train, y_train.ravel(), scoring='r2', cv=5)\n",
    "\n",
    "    #Create KFold with 5 splits\n",
    "    folds = KFold(n_splits = 5, shuffle = True, random_state = 100)\n",
    "    scores_r2 = cross_val_score(model, x_train, y_train.ravel(), scoring='r2', cv=folds)\n",
    "\n",
    "    scores_mse = cross_val_score(model, x_train, y_train.ravel(), scoring='neg_mean_squared_error', cv=5)\n",
    "\n",
    "    print(scores)\n",
    "    print(scores_r2)\n",
    "    print(scores_mse, \"\\n\\n\")   \n",
    "\n",
    "def cv_results(model, params):\n",
    "    #Create a cross-validation scheme\n",
    "    folds = KFold(n_splits = 5, shuffle = True, random_state = 100)\n",
    "\n",
    "    #Grid search\n",
    "    model.fit(x_train, y_train.ravel())\n",
    "    model_cv = GridSearchCV(estimator = model,\n",
    "    param_grid = params,\n",
    "    scoring= ['neg_root_mean_squared_error', 'r2'],\n",
    "    cv = folds,\n",
    "    verbose = 1,\n",
    "    refit=False,\n",
    "    return_train_score=True)\n",
    "    model_cv.fit(x_train, y_train.ravel())\n",
    "\n",
    "    cv_results = pd.DataFrame(model_cv.cv_results_)\n",
    "    max_cv_res = cv_results.loc[cv_results[\"mean_test_r2\"] == cv_results[\"mean_test_r2\"].max()]\n",
    "    print(\"Max: \", cv_results[\"mean_test_r2\"].max(), \"\\nParams: \", dict(max_cv_res[\"params\"]))\n",
    "    print(\"\\n\\n\")\n",
    "    max_cv_res = cv_results.loc[cv_results[\"mean_test_neg_root_mean_squared_error\"] == cv_results[\"mean_test_neg_root_mean_squared_error\"].max()]\n",
    "    print(\"Max: \", cv_results[\"mean_test_neg_root_mean_squared_error\"].max(), \"\\nParams: \", dict(max_cv_res[\"params\"]))\n"
   ]
  },
  {
   "cell_type": "code",
   "execution_count": 55,
   "metadata": {},
   "outputs": [
    {
     "output_type": "execute_result",
     "data": {
      "text/plain": [
       "array([[0],\n",
       "       [0],\n",
       "       [0],\n",
       "       [0],\n",
       "       [1],\n",
       "       [1],\n",
       "       [1]])"
      ]
     },
     "metadata": {},
     "execution_count": 55
    }
   ],
   "source": [
    "#Linear Regression\n",
    "from sklearn.linear_model import LinearRegression\n",
    "regressor_lr = LinearRegression()\n",
    "regressor_lr.fit(x_train, y_train)\n",
    "y_predicted_lr = regressor_lr.predict(x_test)\n",
    "\n",
    "# round predictions\n",
    "y_predicted_lr = np.where(y_predicted_lr < 0.5, 0, 1).reshape(-1,1)\n",
    "y_predicted_lr"
   ]
  },
  {
   "cell_type": "code",
   "execution_count": 56,
   "metadata": {},
   "outputs": [
    {
     "output_type": "stream",
     "name": "stdout",
     "text": [
      "[-4.43348532 -0.4960537  -0.03672486 -0.10959809  0.25443014]\n[-6.46674238e+02 -2.83914316e+00 -5.77928986e-01 -1.74189369e-01\n -5.85980496e-01]\n[-0.06574282 -0.03935814 -0.02931475 -0.03157729 -0.06823937] \n\n\nFitting 5 folds for each of 8 candidates, totalling 40 fits\nMax:  -0.9046671040814134 \nParams:  {2: {'fit_intercept': True, 'normalize': False, 'positive': True}}\n\n\n\nMax:  -0.1933564899969625 \nParams:  {0: {'fit_intercept': True, 'normalize': True, 'positive': True}, 2: {'fit_intercept': True, 'normalize': False, 'positive': True}}\n"
     ]
    }
   ],
   "source": [
    "#Linear Regression CV\n",
    "cv_scores(regressor_lr)\n",
    "parameters = [{'fit_intercept':[True, False], 'normalize':[True, False], 'positive':[True, False]}]\n",
    "cv_results(regressor_lr, parameters)"
   ]
  },
  {
   "cell_type": "code",
   "execution_count": 57,
   "metadata": {},
   "outputs": [
    {
     "output_type": "execute_result",
     "data": {
      "text/plain": [
       "array([[0.20739282],\n",
       "       [0.40393201],\n",
       "       [0.57264513],\n",
       "       [0.44441867],\n",
       "       [1.25274674],\n",
       "       [2.81003806],\n",
       "       [4.74438069]])"
      ]
     },
     "metadata": {},
     "execution_count": 57
    }
   ],
   "source": [
    "regressor_lr = LinearRegression(fit_intercept=True, normalize=True, positive=True)\n",
    "regressor_lr.fit(x_train, y_train)\n",
    "y_predicted_lr = regressor_lr.predict(x_test)\n",
    "\n",
    "# round predictions\n",
    "# y_predicted_lr = np.where(y_predicted_lr < 0.4, 0, 1).reshape(-1,1)\n",
    "y_predicted_lr"
   ]
  },
  {
   "cell_type": "code",
   "execution_count": 58,
   "metadata": {},
   "outputs": [
    {
     "output_type": "stream",
     "name": "stdout",
     "text": [
      "LR RMSE: 1.716805958062523\n"
     ]
    }
   ],
   "source": [
    "print(\"LR RMSE:\", np.sqrt(mean_squared_error(y_test, y_predicted_lr)))"
   ]
  },
  {
   "cell_type": "code",
   "execution_count": 15,
   "metadata": {},
   "outputs": [
    {
     "output_type": "execute_result",
     "data": {
      "text/plain": [
       "array([[0],\n",
       "       [1],\n",
       "       [0],\n",
       "       [0],\n",
       "       [1],\n",
       "       [1],\n",
       "       [1]])"
      ]
     },
     "metadata": {},
     "execution_count": 15
    }
   ],
   "source": [
    "#Polynomial Regression\n",
    "from sklearn.preprocessing import PolynomialFeatures\n",
    "poly_reg = PolynomialFeatures(degree = 4)\n",
    "x_poly = poly_reg.fit_transform(x_train)\n",
    "regressor_pr = LinearRegression()\n",
    "regressor_pr.fit(x_poly, y_train)\n",
    "y_predicted_pr = regressor_pr.predict(poly_reg.fit_transform(x_test))\n",
    "\n",
    "# round predictions\n",
    "y_predicted_pr = np.where(y_predicted_pr < 0.5, 0, 1).reshape(-1,1)\n",
    "y_predicted_pr"
   ]
  },
  {
   "cell_type": "code",
   "execution_count": 16,
   "metadata": {},
   "outputs": [
    {
     "output_type": "stream",
     "name": "stdout",
     "text": [
      "[-4.43348532 -0.4960537  -0.03672486 -0.10959809  0.25443014]\n",
      "[-6.46674238e+02 -2.83914316e+00 -5.77928986e-01 -1.74189369e-01\n",
      " -5.85980496e-01]\n",
      "[-0.06574282 -0.03935814 -0.02931475 -0.03157729 -0.06823937] \n",
      "\n",
      "\n",
      "Fitting 5 folds for each of 8 candidates, totalling 40 fits\n",
      "Max:  -0.9046671040814134 \n",
      "Params:  {2: {'fit_intercept': True, 'normalize': False, 'positive': True}}\n",
      "\n",
      "\n",
      "\n",
      "Max:  -0.1933564899969625 \n",
      "Params:  {0: {'fit_intercept': True, 'normalize': True, 'positive': True}, 2: {'fit_intercept': True, 'normalize': False, 'positive': True}}\n"
     ]
    }
   ],
   "source": [
    "#Polynomial Regression CV\n",
    "cv_scores(regressor_pr)\n",
    "parameters = [{'fit_intercept':[True, False], 'normalize':[True, False], 'positive':[True, False]}]\n",
    "cv_results(regressor_pr, parameters)"
   ]
  },
  {
   "cell_type": "code",
   "execution_count": 59,
   "metadata": {},
   "outputs": [
    {
     "output_type": "execute_result",
     "data": {
      "text/plain": [
       "array([[-7.57009923e+05],\n",
       "       [-5.76311220e+05],\n",
       "       [-1.98989077e+06],\n",
       "       [ 3.53756925e+02],\n",
       "       [-3.91918092e+01],\n",
       "       [ 5.28408855e+04],\n",
       "       [ 4.09563267e+04]])"
      ]
     },
     "metadata": {},
     "execution_count": 59
    }
   ],
   "source": [
    "poly_reg = PolynomialFeatures(degree = 4)\n",
    "x_poly = poly_reg.fit_transform(x_train)\n",
    "regressor_pr = LinearRegression(fit_intercept=True, normalize=False, positive=True)\n",
    "regressor_pr.fit(x_poly, y_train)\n",
    "y_predicted_pr = regressor_pr.predict(poly_reg.fit_transform(x_test))\n",
    "\n",
    "# round predictions\n",
    "# y_predicted_pr = np.where(y_predicted_pr < 0.5, 0, 1).reshape(-1,1)\n",
    "y_predicted_pr"
   ]
  },
  {
   "cell_type": "code",
   "execution_count": 60,
   "metadata": {},
   "outputs": [
    {
     "output_type": "stream",
     "name": "stdout",
     "text": [
      "PR RMSE: 834037.9185468183\n"
     ]
    }
   ],
   "source": [
    "print(\"PR RMSE:\", np.sqrt(mean_squared_error(y_test, y_predicted_pr)))"
   ]
  },
  {
   "cell_type": "code",
   "execution_count": 19,
   "metadata": {},
   "outputs": [
    {
     "output_type": "execute_result",
     "data": {
      "text/plain": [
       "array([[0],\n",
       "       [0],\n",
       "       [0],\n",
       "       [0],\n",
       "       [0],\n",
       "       [0],\n",
       "       [0]])"
      ]
     },
     "metadata": {},
     "execution_count": 19
    }
   ],
   "source": [
    "#SVR\n",
    "from sklearn.svm import SVR\n",
    "regressor_svr = SVR(kernel = 'rbf')\n",
    "regressor_svr.fit(x_train, y_train.ravel())\n",
    "\n",
    "y_predicted_svr = regressor_svr.predict(x_test)\n",
    "\n",
    "# round predictions\n",
    "y_predicted_svr = np.where(y_predicted_svr < 0.5, 0, 1).reshape(-1,1)\n",
    "y_predicted_svr"
   ]
  },
  {
   "cell_type": "code",
   "execution_count": 20,
   "metadata": {},
   "outputs": [
    {
     "output_type": "stream",
     "name": "stdout",
     "text": [
      "[-0.7497897   0.19282689 -0.24171306  0.01028121 -0.07345004]\n",
      "[-0.71643953 -2.12867935 -0.39592662 -1.17021791 -0.33423464]\n",
      "[-0.0211717  -0.02123509 -0.03511106 -0.02816573 -0.09824908] \n",
      "\n",
      "\n",
      "Fitting 5 folds for each of 4 candidates, totalling 20 fits\n",
      "Max:  -0.9490996105515442 \n",
      "Params:  {0: {'C': 1}}\n",
      "\n",
      "\n",
      "\n",
      "Max:  -0.20841551696754884 \n",
      "Params:  {0: {'C': 1}}\n"
     ]
    }
   ],
   "source": [
    "#SVR CV\n",
    "cv_scores(regressor_svr)\n",
    "parameters = [{'C': [1, 10, 100, 1000]}]\n",
    "cv_results(regressor_svr, parameters)"
   ]
  },
  {
   "cell_type": "code",
   "execution_count": 96,
   "metadata": {},
   "outputs": [
    {
     "output_type": "execute_result",
     "data": {
      "text/plain": [
       "array([0.01226232, 0.06188295, 0.00931888, 0.02468667, 0.02830903,\n",
       "       0.00408458, 0.01299232])"
      ]
     },
     "metadata": {},
     "execution_count": 96
    }
   ],
   "source": [
    "regressor_svr = SVR(kernel = 'rbf', C = 1)\n",
    "regressor_svr.fit(x_train, y_train.ravel())\n",
    "\n",
    "y_predicted_svr = regressor_svr.predict(x_test)\n",
    "\n",
    "# round predictions\n",
    "# y_predicted_svr = np.where(y_predicted_svr < 0.5, 0, 1).reshape(-1,1)\n",
    "y_predicted_svr"
   ]
  },
  {
   "cell_type": "code",
   "execution_count": 97,
   "metadata": {},
   "outputs": [
    {
     "output_type": "stream",
     "name": "stdout",
     "text": [
      "SVR RMSE: 0.6158735970647028\n"
     ]
    }
   ],
   "source": [
    "print(\"SVR RMSE:\", np.sqrt(mean_squared_error(y_test, y_predicted_svr)))"
   ]
  },
  {
   "cell_type": "code",
   "execution_count": 23,
   "metadata": {},
   "outputs": [
    {
     "output_type": "execute_result",
     "data": {
      "text/plain": [
       "array([[0],\n",
       "       [0],\n",
       "       [1],\n",
       "       [1],\n",
       "       [1],\n",
       "       [1],\n",
       "       [1]])"
      ]
     },
     "metadata": {},
     "execution_count": 23
    }
   ],
   "source": [
    "#Decision Tree\n",
    "from sklearn.tree import DecisionTreeRegressor\n",
    "regressor_dt = DecisionTreeRegressor(random_state = 0)\n",
    "regressor_dt.fit(x_train, y_train)\n",
    "\n",
    "y_predicted_dt = regressor_dt.predict(x_test)\n",
    "\n",
    "y_predicted_dt = np.where(y_predicted_dt < 0.5, 0, 1).reshape(-1,1)\n",
    "y_predicted_dt"
   ]
  },
  {
   "cell_type": "code",
   "execution_count": 24,
   "metadata": {},
   "outputs": [
    {
     "output_type": "stream",
     "name": "stdout",
     "text": [
      "[-2.32113558  0.39853406 -0.57370609 -0.65601176  0.04418153]\n",
      "[-0.48184859 -3.93387827 -2.41004808 -1.07759106 -1.81739359]\n",
      "[-0.04018431 -0.01582335 -0.0444986  -0.0471273  -0.08748268] \n",
      "\n",
      "\n",
      "Fitting 5 folds for each of 20 candidates, totalling 100 fits\n",
      "Max:  -1.299166473423788 \n",
      "Params:  {2: {'criterion': 'mse', 'max_depth': 3, 'max_features': 3}}\n",
      "\n",
      "\n",
      "\n",
      "Max:  -0.22361634899614863 \n",
      "Params:  {14: {'criterion': 'mae', 'max_depth': 3, 'max_features': 5}}\n"
     ]
    }
   ],
   "source": [
    "#DT CV\n",
    "cv_scores(regressor_dt)\n",
    "parameters = [{'max_depth':[3, None], 'max_features':[1, 2, 3, 4, 5], 'criterion': ['mse', 'mae']}]\n",
    "cv_results(regressor_dt, parameters)"
   ]
  },
  {
   "cell_type": "code",
   "execution_count": 50,
   "metadata": {},
   "outputs": [
    {
     "output_type": "execute_result",
     "data": {
      "text/plain": [
       "array([-0.08717618,  0.73674598,  0.73674598,  0.73674598,  0.73674598,\n",
       "        0.73674598,  0.73674598])"
      ]
     },
     "metadata": {},
     "execution_count": 50
    }
   ],
   "source": [
    "regressor_dt = DecisionTreeRegressor(random_state = 0, max_depth=3, max_features=5)\n",
    "regressor_dt.fit(x_train, y_train)\n",
    "\n",
    "y_predicted_dt = regressor_dt.predict(x_test)\n",
    "\n",
    "# y_predicted_dt = np.where(y_predicted_dt < 0.5, 0, 1).reshape(-1,1)\n",
    "y_predicted_dt"
   ]
  },
  {
   "cell_type": "code",
   "execution_count": 83,
   "metadata": {},
   "outputs": [
    {
     "output_type": "execute_result",
     "data": {
      "text/plain": [
       "     Actual  DT Predicted\n",
       "0 -0.123852     -0.087176\n",
       "1  0.423646      0.736746"
      ],
      "text/html": "<div>\n<style scoped>\n    .dataframe tbody tr th:only-of-type {\n        vertical-align: middle;\n    }\n\n    .dataframe tbody tr th {\n        vertical-align: top;\n    }\n\n    .dataframe thead th {\n        text-align: right;\n    }\n</style>\n<table border=\"1\" class=\"dataframe\">\n  <thead>\n    <tr style=\"text-align: right;\">\n      <th></th>\n      <th>Actual</th>\n      <th>DT Predicted</th>\n    </tr>\n  </thead>\n  <tbody>\n    <tr>\n      <th>0</th>\n      <td>-0.123852</td>\n      <td>-0.087176</td>\n    </tr>\n    <tr>\n      <th>1</th>\n      <td>0.423646</td>\n      <td>0.736746</td>\n    </tr>\n  </tbody>\n</table>\n</div>"
     },
     "metadata": {},
     "execution_count": 83
    }
   ],
   "source": [
    "temp = pd.DataFrame()\n",
    "temp[\"Actual\"] = pd.Series(y_test.reshape(-1,))\n",
    "temp[\"DT Predicted\"] = pd.Series(y_predicted_dt)\n",
    "temp.head(2)"
   ]
  },
  {
   "cell_type": "code",
   "execution_count": 51,
   "metadata": {},
   "outputs": [
    {
     "output_type": "stream",
     "name": "stdout",
     "text": [
      "DT RMSE: 0.3290658602076817\n"
     ]
    }
   ],
   "source": [
    "print(\"DT RMSE:\", np.sqrt(mean_squared_error(y_test, y_predicted_dt)))"
   ]
  },
  {
   "cell_type": "code",
   "execution_count": 67,
   "metadata": {},
   "outputs": [
    {
     "output_type": "execute_result",
     "data": {
      "text/plain": [
       "array([[0],\n",
       "       [0],\n",
       "       [1],\n",
       "       [0],\n",
       "       [1],\n",
       "       [0],\n",
       "       [0]])"
      ]
     },
     "metadata": {},
     "execution_count": 67
    }
   ],
   "source": [
    "#Random Forest\n",
    "from sklearn.ensemble import RandomForestRegressor\n",
    "regressor_rf = RandomForestRegressor(n_estimators = 10, random_state = 0)\n",
    "regressor_rf.fit(x_train, y_train.ravel())\n",
    "\n",
    "y_predicted_rf = regressor_rf.predict(x_test)\n",
    "\n",
    "# round predictions\n",
    "y_predicted_rf = np.where(y_predicted_rf < 0.5, 0, 1).reshape(-1,1)\n",
    "y_predicted_rf"
   ]
  },
  {
   "cell_type": "code",
   "execution_count": 28,
   "metadata": {},
   "outputs": [
    {
     "output_type": "stream",
     "name": "stdout",
     "text": [
      "[-1.08455901 -0.16864935  0.27893421 -0.27191849  0.01558702]\n",
      "[-0.36063027 -3.03440055  0.27948426 -1.33406246 -0.48212623]\n",
      "[-0.02522226 -0.03074479 -0.02038908 -0.03619665 -0.09009984] \n",
      "\n",
      "\n",
      "Fitting 5 folds for each of 6 candidates, totalling 30 fits\n",
      "Max:  -0.9960506150141999 \n",
      "Params:  {1: {'criterion': 'mse', 'n_estimators': 4}}\n",
      "\n",
      "\n",
      "\n",
      "Max:  -0.20728198869039946 \n",
      "Params:  {2: {'criterion': 'mse', 'n_estimators': 8}}\n"
     ]
    }
   ],
   "source": [
    "#RF CV\n",
    "cv_scores(regressor_rf)\n",
    "parameters = [{'n_estimators': [2, 4, 8], 'criterion': ['mse', 'mae']}]\n",
    "cv_results(regressor_rf, parameters)"
   ]
  },
  {
   "cell_type": "code",
   "execution_count": 90,
   "metadata": {},
   "outputs": [
    {
     "output_type": "execute_result",
     "data": {
      "text/plain": [
       "array([0.09342325, 0.52305916, 0.5537647 , 0.51881406, 0.5537647 ,\n",
       "       0.51881406, 0.51881406])"
      ]
     },
     "metadata": {},
     "execution_count": 90
    }
   ],
   "source": [
    "regressor_rf = RandomForestRegressor(n_estimators = 8, random_state = 0)\n",
    "regressor_rf.fit(x_train, y_train.ravel())\n",
    "\n",
    "y_predicted_rf = regressor_rf.predict(x_test)\n",
    "\n",
    "# round predictions\n",
    "# y_predicted_rf = np.where(y_predicted_rf < 0.5, 0, 1).reshape(-1,1)\n",
    "y_predicted_rf"
   ]
  },
  {
   "cell_type": "code",
   "execution_count": 91,
   "metadata": {},
   "outputs": [
    {
     "output_type": "stream",
     "name": "stdout",
     "text": [
      "RF RMSE: 0.31847675097950073\n"
     ]
    }
   ],
   "source": [
    "print(\"RF RMSE:\", np.sqrt(mean_squared_error(y_test, y_predicted_rf)))"
   ]
  },
  {
   "cell_type": "code",
   "execution_count": 98,
   "metadata": {},
   "outputs": [
    {
     "output_type": "execute_result",
     "data": {
      "text/plain": [
       "          Date Ticker  y_true  y_predicted_dt  y_predicted_rf\n",
       "21  2020-03-28   AAPL       0               0               0\n",
       "22  2020-06-27   AAPL       1               1               1\n",
       "23  2020-09-26   AAPL       1               1               1\n",
       "20  2020-03-31   TSLA       1               1               1\n",
       "21  2020-06-30   TSLA       1               1               1\n",
       "22  2020-09-30   TSLA       1               1               1\n",
       "23  2020-12-31   TSLA       1               1               1"
      ],
      "text/html": "<div>\n<style scoped>\n    .dataframe tbody tr th:only-of-type {\n        vertical-align: middle;\n    }\n\n    .dataframe tbody tr th {\n        vertical-align: top;\n    }\n\n    .dataframe thead th {\n        text-align: right;\n    }\n</style>\n<table border=\"1\" class=\"dataframe\">\n  <thead>\n    <tr style=\"text-align: right;\">\n      <th></th>\n      <th>Date</th>\n      <th>Ticker</th>\n      <th>y_true</th>\n      <th>y_predicted_dt</th>\n      <th>y_predicted_rf</th>\n    </tr>\n  </thead>\n  <tbody>\n    <tr>\n      <th>21</th>\n      <td>2020-03-28</td>\n      <td>AAPL</td>\n      <td>0</td>\n      <td>0</td>\n      <td>0</td>\n    </tr>\n    <tr>\n      <th>22</th>\n      <td>2020-06-27</td>\n      <td>AAPL</td>\n      <td>1</td>\n      <td>1</td>\n      <td>1</td>\n    </tr>\n    <tr>\n      <th>23</th>\n      <td>2020-09-26</td>\n      <td>AAPL</td>\n      <td>1</td>\n      <td>1</td>\n      <td>1</td>\n    </tr>\n    <tr>\n      <th>20</th>\n      <td>2020-03-31</td>\n      <td>TSLA</td>\n      <td>1</td>\n      <td>1</td>\n      <td>1</td>\n    </tr>\n    <tr>\n      <th>21</th>\n      <td>2020-06-30</td>\n      <td>TSLA</td>\n      <td>1</td>\n      <td>1</td>\n      <td>1</td>\n    </tr>\n    <tr>\n      <th>22</th>\n      <td>2020-09-30</td>\n      <td>TSLA</td>\n      <td>1</td>\n      <td>1</td>\n      <td>1</td>\n    </tr>\n    <tr>\n      <th>23</th>\n      <td>2020-12-31</td>\n      <td>TSLA</td>\n      <td>1</td>\n      <td>1</td>\n      <td>1</td>\n    </tr>\n  </tbody>\n</table>\n</div>"
     },
     "metadata": {},
     "execution_count": 98
    }
   ],
   "source": [
    "output = pd.DataFrame(df[df[\"Year\"].str.contains(\"2020\")])\n",
    "output = output.drop([\"Change_Net_Income\", \"Change_Cash_Operations\", \"Change_Cash_Investments\", \"Change_Cash_Financials\", \"Change_Cash_Equivalents\", \"Adj_Close\"], axis = 1)\n",
    "output = output.rename(columns = {\"Year\": \"Date\", \"%Change\":\"y_true\"})\n",
    "output[\"y_true\"] = np.where(output[\"y_true\"] > 0.0, 1, 0)\n",
    "output[\"y_predicted_dt\"] = np.where(y_predicted_dt > 0.5, 1, 0)\n",
    "output[\"y_predicted_rf\"] = np.where(y_predicted_rf > 0.5, 1, 0)\n",
    "output"
   ]
  },
  {
   "cell_type": "code",
   "execution_count": 88,
   "metadata": {},
   "outputs": [],
   "source": [
    "output.to_csv(\"regression.csv\", index=False)"
   ]
  }
 ]
}