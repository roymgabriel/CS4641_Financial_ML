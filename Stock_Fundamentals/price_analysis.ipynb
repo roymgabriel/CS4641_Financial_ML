{
 "metadata": {
  "language_info": {
   "codemirror_mode": {
    "name": "ipython",
    "version": 3
   },
   "file_extension": ".py",
   "mimetype": "text/x-python",
   "name": "python",
   "nbconvert_exporter": "python",
   "pygments_lexer": "ipython3",
   "version": "3.7.7-final"
  },
  "orig_nbformat": 2,
  "kernelspec": {
   "name": "python3",
   "display_name": "Python 3.7.7 64-bit ('tensorflow_env': conda)",
   "metadata": {
    "interpreter": {
     "hash": "6429ce12d03f71065fc078b10675e7ac74758b1430f2a0d204d179f3f32d3d0e"
    }
   }
  }
 },
 "nbformat": 4,
 "nbformat_minor": 2,
 "cells": [
  {
   "cell_type": "code",
   "execution_count": 3,
   "metadata": {},
   "outputs": [],
   "source": [
    "from yahoofinancials import YahooFinancials\n",
    "import pandas as pd\n",
    "def clean_financials(ticker, frequency, statement):\n",
    "    '''\n",
    "    Obtains dataframe of a certain financial statement from yahoofinancials API.\n",
    "    '''\n",
    "\n",
    "    # check which statement we are using\n",
    "    if frequency == \"annual\":\n",
    "        if statement == 'income':\n",
    "            key_word = 'incomeStatementHistory'\n",
    "        elif statement == 'balance':\n",
    "            key_word = 'balanceSheetHistory'\n",
    "        elif statement == 'cash':\n",
    "            key_word = 'cashflowStatementHistory'\n",
    "    elif frequency == \"quarterly\":\n",
    "        if statement == 'income':\n",
    "            key_word = 'incomeStatementHistoryQuarterly'\n",
    "        elif statement == 'balance':\n",
    "            key_word = 'balanceSheetHistoryQuarterly'\n",
    "        elif statement == 'cash':\n",
    "            key_word = 'cashflowStatementHistoryQuarterly'\n",
    "\n",
    "    # create an object of the YahooFinancials class given a stock\n",
    "    yahoo_f = YahooFinancials(ticker.upper())\n",
    "\n",
    "    # obtain financials statements\n",
    "    state = yahoo_f.get_financial_stmts(frequency=frequency, statement_type=statement)[key_word][ticker.upper()]\n",
    "\n",
    "    # initilize dataframe to make possible appending to dataframe\n",
    "    df = pd.DataFrame(state[0]).T\n",
    "\n",
    "    # iterate through finanical statements and create one whole dataframe\n",
    "    for i in state[1:]:\n",
    "        df = pd.concat([df, pd.DataFrame(i).T])\n",
    "\n",
    "    return df"
   ]
  },
  {
   "cell_type": "code",
   "execution_count": 8,
   "metadata": {},
   "outputs": [],
   "source": [
    "df = clean_financials(\"AAPL\", 'quarterly', 'cash')"
   ]
  },
  {
   "source": [
    "## There are two ways"
   ],
   "cell_type": "markdown",
   "metadata": {}
  },
  {
   "cell_type": "code",
   "execution_count": 9,
   "metadata": {},
   "outputs": [
    {
     "output_type": "execute_result",
     "data": {
      "text/plain": [
       "Index(['capitalExpenditures', 'changeInCash', 'changeToAccountReceivables',\n",
       "       'changeToInventory', 'changeToLiabilities', 'changeToNetincome',\n",
       "       'changeToOperatingActivities', 'depreciation', 'dividendsPaid',\n",
       "       'investments', 'netBorrowings', 'netIncome',\n",
       "       'otherCashflowsFromFinancingActivities',\n",
       "       'otherCashflowsFromInvestingActivities', 'repurchaseOfStock',\n",
       "       'totalCashFromFinancingActivities', 'totalCashFromOperatingActivities',\n",
       "       'totalCashflowsFromInvestingActivities', 'issuanceOfStock'],\n",
       "      dtype='object')"
      ]
     },
     "metadata": {},
     "execution_count": 9
    }
   ],
   "source": [
    "df.columns"
   ]
  },
  {
   "cell_type": "code",
   "execution_count": 10,
   "metadata": {},
   "outputs": [
    {
     "output_type": "execute_result",
     "data": {
      "text/plain": [
       "            capitalExpenditures  changeInCash  changeToAccountReceivables  \\\n",
       "2020-12-26          -3500000000   -2070000000                -10945000000   \n",
       "2020-09-26          -1784000000    4750000000                  1768000000   \n",
       "2020-06-27          -1565000000   -8010000000                 -2135000000   \n",
       "2020-03-28          -1853000000    1384000000                  5269000000   \n",
       "\n",
       "            changeToInventory  changeToLiabilities  changeToNetincome  \\\n",
       "2020-12-26         -950000000          23011000000         1987000000   \n",
       "2020-09-26         -137000000           7157000000         1324000000   \n",
       "2020-06-27         -689000000           3159000000         2696000000   \n",
       "2020-03-28          727000000         -12193000000         1278000000   \n",
       "\n",
       "            changeToOperatingActivities  depreciation  dividendsPaid  \\\n",
       "2020-12-26                  -5761000000    2666000000    -3613000000   \n",
       "2020-09-26                  -4911000000    2702000000    -3511000000   \n",
       "2020-06-27                   -765000000    2752000000    -3656000000   \n",
       "2020-03-28                   4195000000    2786000000    -3375000000   \n",
       "\n",
       "            investments  netBorrowings    netIncome  \\\n",
       "2020-12-26  -5279000000     -978000000  28755000000   \n",
       "2020-09-26   7468000000     -703000000  12673000000   \n",
       "2020-06-27  -2998000000     2168000000  11253000000   \n",
       "2020-03-28  11338000000      803000000  11249000000   \n",
       "\n",
       "            otherCashflowsFromFinancingActivities  \\\n",
       "2020-12-26                              -22000000   \n",
       "2020-09-26                               -6000000   \n",
       "2020-06-27                              -69000000   \n",
       "2020-03-28                              -35000000   \n",
       "\n",
       "            otherCashflowsFromInvestingActivities  repurchaseOfStock  \\\n",
       "2020-12-26                              204000000       -27636000000   \n",
       "2020-09-26                             -102000000       -17587000000   \n",
       "2020-06-27                             -263000000       -17559000000   \n",
       "2020-03-28                             -296000000       -18761000000   \n",
       "\n",
       "            totalCashFromFinancingActivities  \\\n",
       "2020-12-26                      -32249000000   \n",
       "2020-09-26                      -21357000000   \n",
       "2020-06-27                      -19116000000   \n",
       "2020-03-28                      -20940000000   \n",
       "\n",
       "            totalCashFromOperatingActivities  \\\n",
       "2020-12-26                       38763000000   \n",
       "2020-09-26                       20576000000   \n",
       "2020-06-27                       16271000000   \n",
       "2020-03-28                       13311000000   \n",
       "\n",
       "            totalCashflowsFromInvestingActivities  issuanceOfStock  \n",
       "2020-12-26                            -8584000000              NaN  \n",
       "2020-09-26                             5531000000      450000000.0  \n",
       "2020-06-27                            -5165000000      450000000.0  \n",
       "2020-03-28                             9013000000      428000000.0  "
      ],
      "text/html": "<div>\n<style scoped>\n    .dataframe tbody tr th:only-of-type {\n        vertical-align: middle;\n    }\n\n    .dataframe tbody tr th {\n        vertical-align: top;\n    }\n\n    .dataframe thead th {\n        text-align: right;\n    }\n</style>\n<table border=\"1\" class=\"dataframe\">\n  <thead>\n    <tr style=\"text-align: right;\">\n      <th></th>\n      <th>capitalExpenditures</th>\n      <th>changeInCash</th>\n      <th>changeToAccountReceivables</th>\n      <th>changeToInventory</th>\n      <th>changeToLiabilities</th>\n      <th>changeToNetincome</th>\n      <th>changeToOperatingActivities</th>\n      <th>depreciation</th>\n      <th>dividendsPaid</th>\n      <th>investments</th>\n      <th>netBorrowings</th>\n      <th>netIncome</th>\n      <th>otherCashflowsFromFinancingActivities</th>\n      <th>otherCashflowsFromInvestingActivities</th>\n      <th>repurchaseOfStock</th>\n      <th>totalCashFromFinancingActivities</th>\n      <th>totalCashFromOperatingActivities</th>\n      <th>totalCashflowsFromInvestingActivities</th>\n      <th>issuanceOfStock</th>\n    </tr>\n  </thead>\n  <tbody>\n    <tr>\n      <th>2020-12-26</th>\n      <td>-3500000000</td>\n      <td>-2070000000</td>\n      <td>-10945000000</td>\n      <td>-950000000</td>\n      <td>23011000000</td>\n      <td>1987000000</td>\n      <td>-5761000000</td>\n      <td>2666000000</td>\n      <td>-3613000000</td>\n      <td>-5279000000</td>\n      <td>-978000000</td>\n      <td>28755000000</td>\n      <td>-22000000</td>\n      <td>204000000</td>\n      <td>-27636000000</td>\n      <td>-32249000000</td>\n      <td>38763000000</td>\n      <td>-8584000000</td>\n      <td>NaN</td>\n    </tr>\n    <tr>\n      <th>2020-09-26</th>\n      <td>-1784000000</td>\n      <td>4750000000</td>\n      <td>1768000000</td>\n      <td>-137000000</td>\n      <td>7157000000</td>\n      <td>1324000000</td>\n      <td>-4911000000</td>\n      <td>2702000000</td>\n      <td>-3511000000</td>\n      <td>7468000000</td>\n      <td>-703000000</td>\n      <td>12673000000</td>\n      <td>-6000000</td>\n      <td>-102000000</td>\n      <td>-17587000000</td>\n      <td>-21357000000</td>\n      <td>20576000000</td>\n      <td>5531000000</td>\n      <td>450000000.0</td>\n    </tr>\n    <tr>\n      <th>2020-06-27</th>\n      <td>-1565000000</td>\n      <td>-8010000000</td>\n      <td>-2135000000</td>\n      <td>-689000000</td>\n      <td>3159000000</td>\n      <td>2696000000</td>\n      <td>-765000000</td>\n      <td>2752000000</td>\n      <td>-3656000000</td>\n      <td>-2998000000</td>\n      <td>2168000000</td>\n      <td>11253000000</td>\n      <td>-69000000</td>\n      <td>-263000000</td>\n      <td>-17559000000</td>\n      <td>-19116000000</td>\n      <td>16271000000</td>\n      <td>-5165000000</td>\n      <td>450000000.0</td>\n    </tr>\n    <tr>\n      <th>2020-03-28</th>\n      <td>-1853000000</td>\n      <td>1384000000</td>\n      <td>5269000000</td>\n      <td>727000000</td>\n      <td>-12193000000</td>\n      <td>1278000000</td>\n      <td>4195000000</td>\n      <td>2786000000</td>\n      <td>-3375000000</td>\n      <td>11338000000</td>\n      <td>803000000</td>\n      <td>11249000000</td>\n      <td>-35000000</td>\n      <td>-296000000</td>\n      <td>-18761000000</td>\n      <td>-20940000000</td>\n      <td>13311000000</td>\n      <td>9013000000</td>\n      <td>428000000.0</td>\n    </tr>\n  </tbody>\n</table>\n</div>"
     },
     "metadata": {},
     "execution_count": 10
    }
   ],
   "source": [
    "df"
   ]
  },
  {
   "cell_type": "code",
   "execution_count": null,
   "metadata": {},
   "outputs": [],
   "source": [
    "get quarterlies since say 2014\n",
    "\n",
    "the past 90 days\n",
    "on average it moved x % up\n",
    "on average it moved x % down \n",
    "\n",
    "np.mean(stonk.pct_change()) >0 -> BULLISH\n",
    "\n",
    "regression -> MSE-> round -> same as classification -> BCE"
   ]
  },
  {
   "cell_type": "code",
   "execution_count": null,
   "metadata": {},
   "outputs": [],
   "source": [
    "X_Train => ffeatures in the financial function that ^^ \n",
    "y_train => Bullish Bearish"
   ]
  },
  {
   "cell_type": "code",
   "execution_count": null,
   "metadata": {},
   "outputs": [],
   "source": [
    "Beautiful soup -> Yahoo Finance.com - > Financials -> scrape a table"
   ]
  }
 ]
}